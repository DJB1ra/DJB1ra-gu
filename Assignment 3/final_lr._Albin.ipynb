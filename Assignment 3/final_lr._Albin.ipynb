{
 "cells": [
  {
   "cell_type": "code",
   "execution_count": 27,
   "metadata": {},
   "outputs": [],
   "source": [
    "import pandas as pd\n",
    "from sklearn.feature_extraction.text import TfidfVectorizer\n",
    "from sklearn.model_selection import train_test_split, GridSearchCV\n",
    "from sklearn.pipeline import Pipeline\n",
    "from sklearn.linear_model import LogisticRegression\n",
    "import random\n",
    "from collections import Counter\n",
    "from sklearn.metrics import classification_report\n",
    "import warnings\n",
    "warnings.filterwarnings(\"ignore\")"
   ]
  },
  {
   "cell_type": "markdown",
   "metadata": {
    "tags": []
   },
   "source": [
    "<h3> Read file"
   ]
  },
  {
   "cell_type": "code",
   "execution_count": 28,
   "metadata": {},
   "outputs": [],
   "source": [
    "# Read the TSV file\n",
    "df = pd.read_csv(\"a3_train_final.tsv\", sep=\"\\t\", header=None)\n",
    "\n",
    "# Add headers \"label\" and \"text\"\n",
    "df.columns = [\"label\", \"text\"]"
   ]
  },
  {
   "cell_type": "markdown",
   "metadata": {},
   "source": [
    "<h3> function to drop -1 and select majority vote."
   ]
  },
  {
   "cell_type": "code",
   "execution_count": 29,
   "metadata": {},
   "outputs": [],
   "source": [
    "# Function to process labels\n",
    "def process_labels(label):\n",
    "    label_list = label.split(\"/\")\n",
    "    label_list = [l for l in label_list if l != \"-1\"]  # Drop -1 labels\n",
    "    if len(label_list) == 1:\n",
    "        return label_list[0]  # Return the single label\n",
    "    else:\n",
    "        counter = Counter(label_list)\n",
    "        max_vote = max(counter.values())\n",
    "        majority_labels = [l for l, count in counter.items() if count == max_vote]\n",
    "        if len(majority_labels) == 1:\n",
    "            return random.choice(majority_labels)  # Randomly choose from majority labels\n",
    "        else:\n",
    "            return -1"
   ]
  },
  {
   "cell_type": "code",
   "execution_count": 30,
   "metadata": {},
   "outputs": [],
   "source": [
    "# Apply label processing\n",
    "df['final_label'] = df['label'].apply(process_labels)"
   ]
  },
  {
   "cell_type": "markdown",
   "metadata": {},
   "source": [
    "<h3> Drop the indecisive comments"
   ]
  },
  {
   "cell_type": "code",
   "execution_count": 31,
   "metadata": {
    "tags": []
   },
   "outputs": [
    {
     "data": {
      "text/html": [
       "<div>\n",
       "<style scoped>\n",
       "    .dataframe tbody tr th:only-of-type {\n",
       "        vertical-align: middle;\n",
       "    }\n",
       "\n",
       "    .dataframe tbody tr th {\n",
       "        vertical-align: top;\n",
       "    }\n",
       "\n",
       "    .dataframe thead th {\n",
       "        text-align: right;\n",
       "    }\n",
       "</style>\n",
       "<table border=\"1\" class=\"dataframe\">\n",
       "  <thead>\n",
       "    <tr style=\"text-align: right;\">\n",
       "      <th></th>\n",
       "      <th>label</th>\n",
       "      <th>text</th>\n",
       "      <th>final_label</th>\n",
       "    </tr>\n",
       "  </thead>\n",
       "  <tbody>\n",
       "    <tr>\n",
       "      <th>0</th>\n",
       "      <td>1/1</td>\n",
       "      <td>I'll only consume if I know what's inside it....</td>\n",
       "      <td>1</td>\n",
       "    </tr>\n",
       "    <tr>\n",
       "      <th>1</th>\n",
       "      <td>0/-1</td>\n",
       "      <td>It is easier to fool a million people than it...</td>\n",
       "      <td>0</td>\n",
       "    </tr>\n",
       "    <tr>\n",
       "      <th>2</th>\n",
       "      <td>0/0</td>\n",
       "      <td>NATURAL IMMUNITY  protected us since evolutio...</td>\n",
       "      <td>0</td>\n",
       "    </tr>\n",
       "    <tr>\n",
       "      <th>3</th>\n",
       "      <td>0/-1</td>\n",
       "      <td>NATURAL IMMUNITY  protected us since evolutio...</td>\n",
       "      <td>0</td>\n",
       "    </tr>\n",
       "    <tr>\n",
       "      <th>4</th>\n",
       "      <td>0/0</td>\n",
       "      <td>Proud to have resisted. Proud of my husband, ...</td>\n",
       "      <td>0</td>\n",
       "    </tr>\n",
       "    <tr>\n",
       "      <th>...</th>\n",
       "      <td>...</td>\n",
       "      <td>...</td>\n",
       "      <td>...</td>\n",
       "    </tr>\n",
       "    <tr>\n",
       "      <th>50063</th>\n",
       "      <td>0/0</td>\n",
       "      <td>🤣 keep your 💩 I already know 3 people who have...</td>\n",
       "      <td>0</td>\n",
       "    </tr>\n",
       "    <tr>\n",
       "      <th>50064</th>\n",
       "      <td>0/0</td>\n",
       "      <td>🤣🤣🤣 \"JUST BECAUSE IT'S SAFE, DOESN'T MEAN IT D...</td>\n",
       "      <td>0</td>\n",
       "    </tr>\n",
       "    <tr>\n",
       "      <th>50065</th>\n",
       "      <td>0/0</td>\n",
       "      <td>🤣🤣🤣 I took the Vaccine because of work. If I d...</td>\n",
       "      <td>0</td>\n",
       "    </tr>\n",
       "    <tr>\n",
       "      <th>50066</th>\n",
       "      <td>0/0</td>\n",
       "      <td>🤨there's people already having severe side eff...</td>\n",
       "      <td>0</td>\n",
       "    </tr>\n",
       "    <tr>\n",
       "      <th>50067</th>\n",
       "      <td>1/1</td>\n",
       "      <td>🥦I ❤my covid vaccines and I'm so excited for m...</td>\n",
       "      <td>1</td>\n",
       "    </tr>\n",
       "  </tbody>\n",
       "</table>\n",
       "<p>47375 rows × 3 columns</p>\n",
       "</div>"
      ],
      "text/plain": [
       "      label                                               text final_label\n",
       "0       1/1   I'll only consume if I know what's inside it....           1\n",
       "1      0/-1   It is easier to fool a million people than it...           0\n",
       "2       0/0   NATURAL IMMUNITY  protected us since evolutio...           0\n",
       "3      0/-1   NATURAL IMMUNITY  protected us since evolutio...           0\n",
       "4       0/0   Proud to have resisted. Proud of my husband, ...           0\n",
       "...     ...                                                ...         ...\n",
       "50063   0/0  🤣 keep your 💩 I already know 3 people who have...           0\n",
       "50064   0/0  🤣🤣🤣 \"JUST BECAUSE IT'S SAFE, DOESN'T MEAN IT D...           0\n",
       "50065   0/0  🤣🤣🤣 I took the Vaccine because of work. If I d...           0\n",
       "50066   0/0  🤨there's people already having severe side eff...           0\n",
       "50067   1/1  🥦I ❤my covid vaccines and I'm so excited for m...           1\n",
       "\n",
       "[47375 rows x 3 columns]"
      ]
     },
     "execution_count": 31,
     "metadata": {},
     "output_type": "execute_result"
    }
   ],
   "source": [
    "final_df = df[df['final_label'] != -1]\n",
    "final_df"
   ]
  },
  {
   "cell_type": "markdown",
   "metadata": {},
   "source": [
    "<h3> Drop duplicates"
   ]
  },
  {
   "cell_type": "code",
   "execution_count": 34,
   "metadata": {
    "tags": []
   },
   "outputs": [
    {
     "name": "stdout",
     "output_type": "stream",
     "text": [
      "DataFrame with dropped duplicates:\n",
      "      label                                               text final_label\n",
      "0       1/1   I'll only consume if I know what's inside it....           1\n",
      "1      0/-1   It is easier to fool a million people than it...           0\n",
      "2       0/0   NATURAL IMMUNITY  protected us since evolutio...           0\n",
      "3      0/-1   NATURAL IMMUNITY  protected us since evolutio...           0\n",
      "4       0/0   Proud to have resisted. Proud of my husband, ...           0\n",
      "...     ...                                                ...         ...\n",
      "50063   0/0  🤣 keep your 💩 I already know 3 people who have...           0\n",
      "50064   0/0  🤣🤣🤣 \"JUST BECAUSE IT'S SAFE, DOESN'T MEAN IT D...           0\n",
      "50065   0/0  🤣🤣🤣 I took the Vaccine because of work. If I d...           0\n",
      "50066   0/0  🤨there's people already having severe side eff...           0\n",
      "50067   1/1  🥦I ❤my covid vaccines and I'm so excited for m...           1\n",
      "\n",
      "[47370 rows x 3 columns]\n",
      "\n",
      "DataFrame containing dropped rows:\n",
      "             label                                               text  \\\n",
      "7655           0/0  For the first time in history the ineffectiven...   \n",
      "25001  0/0/0/0/0/0  Kudos to all of you who didn't cave to the pre...   \n",
      "35411      1/1/1/1  The best vaccine right now is the one you’re o...   \n",
      "41632          0/0  Vaccines are safe so is Russian roulette until...   \n",
      "44346            0          Why be immune, when you can be invincible   \n",
      "\n",
      "      final_label  \n",
      "7655            0  \n",
      "25001           0  \n",
      "35411           1  \n",
      "41632           0  \n",
      "44346           0  \n"
     ]
    }
   ],
   "source": [
    "# Drop duplicates based on the \"text\" column in final_df\n",
    "final_df_tmp = final_df.drop_duplicates(subset=['text'])\n",
    "\n",
    "# Create a DataFrame containing only the dropped rows in final_df\n",
    "dropped_rows_df = final_df[~final_df.index.isin(final_df.drop_duplicates(subset=['text']).index)]\n",
    "\n",
    "# Print the DataFrame with dropped duplicates\n",
    "print(\"DataFrame with dropped duplicates:\")\n",
    "print(final_df_temp)\n",
    "\n",
    "# Print the DataFrame containing dropped rows\n",
    "print(\"\\nDataFrame containing dropped rows:\")\n",
    "print(dropped_rows_df)\n",
    "\n",
    "final_df = final_df_tmp"
   ]
  },
  {
   "cell_type": "code",
   "execution_count": 35,
   "metadata": {},
   "outputs": [],
   "source": [
    "final_df = final_df.reset_index(drop=True)"
   ]
  },
  {
   "cell_type": "code",
   "execution_count": 36,
   "metadata": {},
   "outputs": [
    {
     "data": {
      "text/html": [
       "<div>\n",
       "<style scoped>\n",
       "    .dataframe tbody tr th:only-of-type {\n",
       "        vertical-align: middle;\n",
       "    }\n",
       "\n",
       "    .dataframe tbody tr th {\n",
       "        vertical-align: top;\n",
       "    }\n",
       "\n",
       "    .dataframe thead th {\n",
       "        text-align: right;\n",
       "    }\n",
       "</style>\n",
       "<table border=\"1\" class=\"dataframe\">\n",
       "  <thead>\n",
       "    <tr style=\"text-align: right;\">\n",
       "      <th></th>\n",
       "      <th>label</th>\n",
       "      <th>text</th>\n",
       "      <th>final_label</th>\n",
       "    </tr>\n",
       "  </thead>\n",
       "  <tbody>\n",
       "    <tr>\n",
       "      <th>0</th>\n",
       "      <td>1/1</td>\n",
       "      <td>I'll only consume if I know what's inside it....</td>\n",
       "      <td>1</td>\n",
       "    </tr>\n",
       "    <tr>\n",
       "      <th>1</th>\n",
       "      <td>0/-1</td>\n",
       "      <td>It is easier to fool a million people than it...</td>\n",
       "      <td>0</td>\n",
       "    </tr>\n",
       "    <tr>\n",
       "      <th>2</th>\n",
       "      <td>0/0</td>\n",
       "      <td>NATURAL IMMUNITY  protected us since evolutio...</td>\n",
       "      <td>0</td>\n",
       "    </tr>\n",
       "    <tr>\n",
       "      <th>3</th>\n",
       "      <td>0/-1</td>\n",
       "      <td>NATURAL IMMUNITY  protected us since evolutio...</td>\n",
       "      <td>0</td>\n",
       "    </tr>\n",
       "    <tr>\n",
       "      <th>4</th>\n",
       "      <td>0/0</td>\n",
       "      <td>Proud to have resisted. Proud of my husband, ...</td>\n",
       "      <td>0</td>\n",
       "    </tr>\n",
       "    <tr>\n",
       "      <th>...</th>\n",
       "      <td>...</td>\n",
       "      <td>...</td>\n",
       "      <td>...</td>\n",
       "    </tr>\n",
       "    <tr>\n",
       "      <th>47365</th>\n",
       "      <td>0/0</td>\n",
       "      <td>🤣 keep your 💩 I already know 3 people who have...</td>\n",
       "      <td>0</td>\n",
       "    </tr>\n",
       "    <tr>\n",
       "      <th>47366</th>\n",
       "      <td>0/0</td>\n",
       "      <td>🤣🤣🤣 \"JUST BECAUSE IT'S SAFE, DOESN'T MEAN IT D...</td>\n",
       "      <td>0</td>\n",
       "    </tr>\n",
       "    <tr>\n",
       "      <th>47367</th>\n",
       "      <td>0/0</td>\n",
       "      <td>🤣🤣🤣 I took the Vaccine because of work. If I d...</td>\n",
       "      <td>0</td>\n",
       "    </tr>\n",
       "    <tr>\n",
       "      <th>47368</th>\n",
       "      <td>0/0</td>\n",
       "      <td>🤨there's people already having severe side eff...</td>\n",
       "      <td>0</td>\n",
       "    </tr>\n",
       "    <tr>\n",
       "      <th>47369</th>\n",
       "      <td>1/1</td>\n",
       "      <td>🥦I ❤my covid vaccines and I'm so excited for m...</td>\n",
       "      <td>1</td>\n",
       "    </tr>\n",
       "  </tbody>\n",
       "</table>\n",
       "<p>47370 rows × 3 columns</p>\n",
       "</div>"
      ],
      "text/plain": [
       "      label                                               text final_label\n",
       "0       1/1   I'll only consume if I know what's inside it....           1\n",
       "1      0/-1   It is easier to fool a million people than it...           0\n",
       "2       0/0   NATURAL IMMUNITY  protected us since evolutio...           0\n",
       "3      0/-1   NATURAL IMMUNITY  protected us since evolutio...           0\n",
       "4       0/0   Proud to have resisted. Proud of my husband, ...           0\n",
       "...     ...                                                ...         ...\n",
       "47365   0/0  🤣 keep your 💩 I already know 3 people who have...           0\n",
       "47366   0/0  🤣🤣🤣 \"JUST BECAUSE IT'S SAFE, DOESN'T MEAN IT D...           0\n",
       "47367   0/0  🤣🤣🤣 I took the Vaccine because of work. If I d...           0\n",
       "47368   0/0  🤨there's people already having severe side eff...           0\n",
       "47369   1/1  🥦I ❤my covid vaccines and I'm so excited for m...           1\n",
       "\n",
       "[47370 rows x 3 columns]"
      ]
     },
     "execution_count": 36,
     "metadata": {},
     "output_type": "execute_result"
    }
   ],
   "source": [
    "final_df"
   ]
  },
  {
   "cell_type": "markdown",
   "metadata": {},
   "source": [
    "<h3> Distribution of label 0 and 1"
   ]
  },
  {
   "cell_type": "code",
   "execution_count": 37,
   "metadata": {
    "tags": []
   },
   "outputs": [
    {
     "name": "stdout",
     "output_type": "stream",
     "text": [
      "Count and Percentage distribution of 1 and 0 in final_label column:\n",
      "   Count  Percentage\n",
      "1  23943       50.54\n",
      "0  23427       49.46\n"
     ]
    }
   ],
   "source": [
    "# Count the distribution of 1 and 0 in the final_label column\n",
    "value_counts = final_df['final_label'].value_counts()\n",
    "percentage_distribution = final_df['final_label'].value_counts(normalize=True) * 100\n",
    "\n",
    "# Concatenate count and percentage distribution into a DataFrame\n",
    "distribution_df = pd.concat([value_counts, percentage_distribution], axis=1)\n",
    "distribution_df.columns = ['Count', 'Percentage']\n",
    "\n",
    "# Print the count and percentage distribution\n",
    "print(\"Count and Percentage distribution of 1 and 0 in final_label column:\")\n",
    "print(round(distribution_df, 2))"
   ]
  },
  {
   "cell_type": "markdown",
   "metadata": {},
   "source": [
    "<H3> Check agreement / disagreement in annotation"
   ]
  },
  {
   "cell_type": "code",
   "execution_count": 38,
   "metadata": {
    "tags": []
   },
   "outputs": [],
   "source": [
    "# Define function to count disagreements\n",
    "def count_disagreements(data):\n",
    "    # Split the labels and remove '-1' for neutrality\n",
    "    labels = data.str.split(\"/\").apply(lambda x: set(x) - {'-1'})\n",
    "    \n",
    "    # Check if both '0' and '1' are present in any label set\n",
    "    disagreements = sum('0' in label_set and '1' in label_set for label_set in labels)\n",
    "    \n",
    "    return disagreements"
   ]
  },
  {
   "cell_type": "code",
   "execution_count": 39,
   "metadata": {
    "tags": []
   },
   "outputs": [
    {
     "name": "stdout",
     "output_type": "stream",
     "text": [
      "Number of rows not in agreement: 3001\n",
      "      label                                               text final_label  \\\n",
      "0       1/1   I'll only consume if I know what's inside it....           1   \n",
      "1      0/-1   It is easier to fool a million people than it...           0   \n",
      "2       0/0   NATURAL IMMUNITY  protected us since evolutio...           0   \n",
      "3      0/-1   NATURAL IMMUNITY  protected us since evolutio...           0   \n",
      "4       0/0   Proud to have resisted. Proud of my husband, ...           0   \n",
      "...     ...                                                ...         ...   \n",
      "50063   0/0  🤣 keep your 💩 I already know 3 people who have...           0   \n",
      "50064   0/0  🤣🤣🤣 \"JUST BECAUSE IT'S SAFE, DOESN'T MEAN IT D...           0   \n",
      "50065   0/0  🤣🤣🤣 I took the Vaccine because of work. If I d...           0   \n",
      "50066   0/0  🤨there's people already having severe side eff...           0   \n",
      "50067   1/1  🥦I ❤my covid vaccines and I'm so excited for m...           1   \n",
      "\n",
      "       agreement  \n",
      "0           True  \n",
      "1           True  \n",
      "2           True  \n",
      "3           True  \n",
      "4           True  \n",
      "...          ...  \n",
      "50063       True  \n",
      "50064       True  \n",
      "50065       True  \n",
      "50066       True  \n",
      "50067       True  \n",
      "\n",
      "[50068 rows x 4 columns]\n",
      "Proportion of agreement: 0.9401\n"
     ]
    }
   ],
   "source": [
    "# Calculate disagreements without dropping rows\n",
    "disagreements = count_disagreements(df['label'])\n",
    "print(\"Number of rows not in agreement:\", disagreements)\n",
    "\n",
    "# Assign agreement status based on the condition\n",
    "df['agreement'] = df['label'].apply(lambda x: True if len(set(x.split(\"/\")) - {'-1'}) == 1 else False)\n",
    "df.loc[df['agreement'] == False, 'agreement'] = False\n",
    "\n",
    "# Print the dataframe\n",
    "print(df)\n",
    "\n",
    "# Calculate the proportion of agreement\n",
    "proportion_agreement = (df['agreement'] == True).sum() / len(df)\n",
    "\n",
    "print(\"Proportion of agreement:\", round(proportion_agreement, 4))"
   ]
  },
  {
   "cell_type": "code",
   "execution_count": 10,
   "metadata": {},
   "outputs": [],
   "source": [
    "X = df['text']\n",
    "y = df['final_label']\n",
    "# Split the data into train and test (80% train, 20% test)\n",
    "X_train, X_test, y_train, y_test = train_test_split(X, y, test_size=0.2, random_state=42)\n",
    "\n",
    "# Further split the training data into train and validation (60% train, 20% validation of the original data)\n",
    "X_train, X_val, y_train, y_val = train_test_split(X_train, y_train, test_size=0.25, random_state=42) # 0.25 x 0.8 = 0.2\n"
   ]
  },
  {
   "cell_type": "code",
   "execution_count": 11,
   "metadata": {},
   "outputs": [],
   "source": [
    "# Pipeline for Logistic Regression with TfidfVectorizer\n",
    "pipeline = Pipeline([\n",
    "    ('tfidf', TfidfVectorizer()),\n",
    "    ('clf', LogisticRegression())\n",
    "])"
   ]
  },
  {
   "cell_type": "code",
   "execution_count": 12,
   "metadata": {},
   "outputs": [
    {
     "name": "stdout",
     "output_type": "stream",
     "text": [
      "Best hyperparameters: {'clf__C': 1.0, 'clf__max_iter': 1000, 'clf__penalty': 'l2', 'clf__solver': 'liblinear', 'tfidf__max_features': 3000, 'tfidf__ngram_range': (1, 2)}\n"
     ]
    }
   ],
   "source": [
    "# Define the parameter grid\n",
    "param_grid = {\n",
    "    'tfidf__max_features': [1000, 2000, 3000],\n",
    "    'tfidf__ngram_range': [(1, 1), (1, 2)],\n",
    "    'clf__C': [0.1, 1.0, 10.0],\n",
    "    'clf__penalty': ['l1', 'l2'],  # Regularization penalty\n",
    "    'clf__solver': ['liblinear', 'saga'],  # Solver algorithm for logistic regression\n",
    "    'clf__max_iter': [1000],  # Maximum number of iterations\n",
    "}\n",
    "\n",
    "# Perform GridSearchCV\n",
    "grid_search = GridSearchCV(pipeline, param_grid, cv=5, n_jobs=-1)\n",
    "grid_search.fit(X_train, y_train)\n",
    "\n",
    "# Print best hyperparameters\n",
    "print(\"Best hyperparameters:\", grid_search.best_params_)"
   ]
  },
  {
   "cell_type": "code",
   "execution_count": 26,
   "metadata": {},
   "outputs": [
    {
     "name": "stdout",
     "output_type": "stream",
     "text": [
      "Classification Report:\n",
      "              precision    recall  f1-score   support\n",
      "\n",
      "           0       0.84      0.84      0.84     14057\n",
      "           1       0.85      0.84      0.84     14368\n",
      "\n",
      "    accuracy                           0.84     28425\n",
      "   macro avg       0.84      0.84      0.84     28425\n",
      "weighted avg       0.84      0.84      0.84     28425\n",
      "\n"
     ]
    }
   ],
   "source": [
    "# Use the best estimator from grid search to predict labels on the validation set\n",
    "y_train_pred = grid_search.best_estimator_.predict(X_train)\n",
    "\n",
    "# Print the classification report\n",
    "print(\"Classification Report:\")\n",
    "print(classification_report(y_train, y_train_pred))"
   ]
  },
  {
   "cell_type": "code",
   "execution_count": 14,
   "metadata": {
    "tags": []
   },
   "outputs": [
    {
     "name": "stdout",
     "output_type": "stream",
     "text": [
      "Classification Report:\n",
      "              precision    recall  f1-score   support\n",
      "\n",
      "           0       0.80      0.81      0.81      4640\n",
      "           1       0.82      0.80      0.81      4835\n",
      "\n",
      "    accuracy                           0.81      9475\n",
      "   macro avg       0.81      0.81      0.81      9475\n",
      "weighted avg       0.81      0.81      0.81      9475\n",
      "\n"
     ]
    }
   ],
   "source": [
    "y_test_pred = grid_search.best_estimator_.predict(X_test)\n",
    "\n",
    "# Print the classification report\n",
    "print(\"Classification Report:\")\n",
    "print(classification_report(y_test, y_test_pred))"
   ]
  },
  {
   "cell_type": "code",
   "execution_count": 15,
   "metadata": {
    "tags": []
   },
   "outputs": [
    {
     "name": "stdout",
     "output_type": "stream",
     "text": [
      "Classification Report:\n",
      "              precision    recall  f1-score   support\n",
      "\n",
      "           0       0.80      0.81      0.81      4640\n",
      "           1       0.82      0.80      0.81      4835\n",
      "\n",
      "    accuracy                           0.81      9475\n",
      "   macro avg       0.81      0.81      0.81      9475\n",
      "weighted avg       0.81      0.81      0.81      9475\n",
      "\n"
     ]
    },
    {
     "data": {
      "image/png": "[encoded data removed]",
      "text/plain": [
       "<Figure size 800x600 with 1 Axes>"
      ]
     },
     "metadata": {},
     "output_type": "display_data"
    }
   ],
   "source": [
    "import seaborn as sns\n",
    "import matplotlib.pyplot as plt\n",
    "from sklearn.metrics import confusion_matrix\n",
    "from sklearn.metrics import classification_report\n",
    "\n",
    "# Predict labels on the test set using the best estimator from grid search\n",
    "y_test_pred = grid_search.best_estimator_.predict(X_test)\n",
    "\n",
    "# Print the classification report\n",
    "print(\"Classification Report:\")\n",
    "print(classification_report(y_test, y_test_pred))\n",
    "\n",
    "# Compute confusion matrix\n",
    "conf_matrix_test = confusion_matrix(y_test, y_test_pred)\n",
    "\n",
    "# Plot confusion matrix\n",
    "plt.figure(figsize=(8, 6))\n",
    "sns.heatmap(conf_matrix_test, annot=True, fmt=\"d\", cmap=\"Blues\", cbar=False)\n",
    "plt.title(\"Confusion Matrix (Test Set)\")\n",
    "plt.xlabel(\"Predicted Label\")\n",
    "plt.ylabel(\"True Label\")\n",
    "plt.show()"
   ]
  },
  {
   "cell_type": "code",
   "execution_count": 23,
   "metadata": {
    "tags": []
   },
   "outputs": [
    {
     "name": "stdout",
     "output_type": "stream",
     "text": [
      "Misclassified Comment: I have never made a better decision in my life protecting the majority of my family by getting the vaccine.\n",
      "True Label: 1\n",
      "Predicted Label: 0\n",
      "Probabilities: [0.65656858 0.34343142]\n",
      "\n",
      "Misclassified Comment: It really is, but I think plenty of people have been lead/tricked/manipulated into it, through good intentions. I’ve listened to many people on podcasts, and just out in the world repeat this line of thinking (“thank god I was vaccinated, or it would be worse”, and “DUH! You obviously can still get it after being vaccinated”), and I don’t think there’s any getting through to these people. Their common sense is suspended at the moment, at the very least.\n",
      "True Label: 0\n",
      "Predicted Label: 1\n",
      "Probabilities: [0.31735608 0.68264392]\n",
      "\n",
      "Misclassified Comment: USA citizens need to step up like the Canadians did to end the no vaxx no entry border mandates. This hurts tourism, is keeping families apart. It's time to end!!!\n",
      "True Label: 0\n",
      "Predicted Label: 1\n",
      "Probabilities: [0.40747486 0.59252514]\n",
      "\n",
      "Misclassified Comment: I love how they're still debating the doctors to death\n",
      "True Label: 1\n",
      "Predicted Label: 0\n",
      "Probabilities: [0.69478972 0.30521028]\n",
      "\n",
      "Misclassified Comment: I was diagnosed with leukemia in 2022. I was perfectly fine until I got the vaccine.\n",
      "True Label: 0\n",
      "Predicted Label: 1\n",
      "Probabilities: [0.45395692 0.54604308]\n",
      "\n",
      "Misclassified Comment: The number of deaths would be lower if we did not have the vaccine.\n",
      "True Label: 0\n",
      "Predicted Label: 1\n",
      "Probabilities: [0.46561092 0.53438908]\n",
      "\n",
      "Misclassified Comment: They have doubts as to whether the vaccines are actually safe, given the rapid pace of development, and whether possible side effects have been adequately studied.\n",
      "True Label: 0\n",
      "Predicted Label: 1\n",
      "Probabilities: [0.42327648 0.57672352]\n",
      "\n",
      "Misclassified Comment: Don’t spread information unless you can cite a credible source.\n",
      "True Label: 1\n",
      "Predicted Label: 0\n",
      "Probabilities: [0.8299793 0.1700207]\n",
      "\n",
      "Misclassified Comment: Im an avid fan of health and medicine innovation except flu vaccine\n",
      "True Label: 0\n",
      "Predicted Label: 1\n",
      "Probabilities: [0.2278799 0.7721201]\n",
      "\n",
      "Misclassified Comment: Those saying they won't take it are the ones complaining we didn't have summer this year and the same will be for next year. Well done.\n",
      "True Label: 1\n",
      "Predicted Label: 0\n",
      "Probabilities: [0.58048372 0.41951628]\n",
      "\n"
     ]
    }
   ],
   "source": [
    "# Predict labels and probabilities on the test set using the best estimator from grid search\n",
    "y_test_pred = grid_search.best_estimator_.predict(X_test)\n",
    "y_test_prob = grid_search.best_estimator_.predict_proba(X_test)\n",
    "\n",
    "# Initialize lists to store misclassified comments and their probabilities\n",
    "misclassified_comments = []\n",
    "misclassified_true_labels = []\n",
    "misclassified_predicted_labels = []\n",
    "misclassified_probabilities = []\n",
    "\n",
    "# Iterate through each comment, true label, predicted label, and probability\n",
    "for comment, true_label, pred_label, probs in zip(X_test, y_test, y_test_pred, y_test_prob):\n",
    "    if true_label != pred_label:\n",
    "        misclassified_comments.append(comment)\n",
    "        misclassified_true_labels.append(true_label)\n",
    "        misclassified_predicted_labels.append(pred_label)\n",
    "        misclassified_probabilities.append(probs)\n",
    "\n",
    "# Iterate through the first 10 misclassified comments\n",
    "for i in range(min(10, len(misclassified_comments))):\n",
    "    comment = misclassified_comments[i]\n",
    "    true_label = misclassified_true_labels[i]\n",
    "    pred_label = misclassified_predicted_labels[i]\n",
    "    probs = misclassified_probabilities[i]\n",
    "\n",
    "    print(\"Misclassified Comment:\", comment)\n",
    "    print(\"True Label:\", true_label)\n",
    "    print(\"Predicted Label:\", pred_label)\n",
    "    print(\"Probabilities:\", probs)\n",
    "    print()"
   ]
  },
  {
   "cell_type": "code",
   "execution_count": 25,
   "metadata": {
    "tags": []
   },
   "outputs": [
    {
     "name": "stdout",
     "output_type": "stream",
     "text": [
      "Misclassified Comment: I have never made a better decision in my life protecting the majority of my family by getting the vaccine.\n",
      "True Label: 1\n",
      "Predicted Label: 0\n",
      "Probabilities: [0.65656858 0.34343142]\n",
      "Top 10 words and their TF-IDF values:\n",
      "Word: the majority, TF-IDF: 0.2831883883066711\n",
      "Word: by getting, TF-IDF: 0.2751459944567058\n",
      "Word: majority of, TF-IDF: 0.26284757018180993\n",
      "Word: have never, TF-IDF: 0.2575026100039497\n",
      "Word: majority, TF-IDF: 0.2535565026138577\n",
      "Word: protecting, TF-IDF: 0.2524479230706091\n",
      "Word: decision, TF-IDF: 0.2351625129916114\n",
      "Word: my life, TF-IDF: 0.23402083667748388\n",
      "Word: my family, TF-IDF: 0.2156268470552376\n",
      "Word: of my, TF-IDF: 0.21242693409518518\n",
      "\n",
      "Misclassified Comment: It really is, but I think plenty of people have been lead/tricked/manipulated into it, through good intentions. I’ve listened to many people on podcasts, and just out in the world repeat this line of thinking (“thank god I was vaccinated, or it would be worse”, and “DUH! You obviously can still get it after being vaccinated”), and I don’t think there’s any getting through to these people. Their common sense is suspended at the moment, at the very least.\n",
      "True Label: 0\n",
      "Predicted Label: 1\n",
      "Probabilities: [0.31735608 0.68264392]\n",
      "Top 10 words and their TF-IDF values:\n",
      "Word: through, TF-IDF: 0.22316116040624506\n",
      "Word: at the, TF-IDF: 0.21757460236987433\n",
      "Word: think, TF-IDF: 0.18094280781953395\n",
      "Word: it, TF-IDF: 0.18039130103933537\n",
      "Word: people, TF-IDF: 0.17591507955362196\n",
      "Word: at, TF-IDF: 0.15245397364770116\n",
      "Word: obviously, TF-IDF: 0.14909169125213625\n",
      "Word: was vaccinated, TF-IDF: 0.14798229271725533\n",
      "Word: after being, TF-IDF: 0.14762543372893921\n",
      "Word: the very, TF-IDF: 0.14659064936584437\n",
      "\n",
      "Misclassified Comment: USA citizens need to step up like the Canadians did to end the no vaxx no entry border mandates. This hurts tourism, is keeping families apart. It's time to end!!!\n",
      "True Label: 0\n",
      "Predicted Label: 1\n",
      "Probabilities: [0.40747486 0.59252514]\n",
      "Top 10 words and their TF-IDF values:\n",
      "Word: to end, TF-IDF: 0.45540497152618487\n",
      "Word: end, TF-IDF: 0.33902136007654093\n",
      "Word: citizens, TF-IDF: 0.23774478578224628\n",
      "Word: usa, TF-IDF: 0.23439772038221163\n",
      "Word: keeping, TF-IDF: 0.2338715583536615\n",
      "Word: families, TF-IDF: 0.22948045525797225\n",
      "Word: mandates, TF-IDF: 0.22402212941656424\n",
      "Word: vaxx, TF-IDF: 0.21676164828013553\n",
      "Word: no, TF-IDF: 0.21627907582263292\n",
      "Word: time to, TF-IDF: 0.2083254175984876\n",
      "\n",
      "Misclassified Comment: I love how they're still debating the doctors to death\n",
      "True Label: 1\n",
      "Predicted Label: 0\n",
      "Probabilities: [0.69478972 0.30521028]\n",
      "Top 10 words and their TF-IDF values:\n",
      "Word: how they, TF-IDF: 0.42251964346039544\n",
      "Word: the doctors, TF-IDF: 0.4197920578284655\n",
      "Word: love, TF-IDF: 0.33658668272361236\n",
      "Word: they re, TF-IDF: 0.3265049155023125\n",
      "Word: doctors, TF-IDF: 0.323963108099752\n",
      "Word: death, TF-IDF: 0.2929463335107032\n",
      "Word: re, TF-IDF: 0.26291209112034863\n",
      "Word: still, TF-IDF: 0.23705246690069467\n",
      "Word: how, TF-IDF: 0.23462515222365168\n",
      "Word: they, TF-IDF: 0.1835613490384058\n",
      "\n",
      "Misclassified Comment: I was diagnosed with leukemia in 2022. I was perfectly fine until I got the vaccine.\n",
      "True Label: 0\n",
      "Predicted Label: 1\n",
      "Probabilities: [0.45395692 0.54604308]\n",
      "Top 10 words and their TF-IDF values:\n",
      "Word: 2022, TF-IDF: 0.4572778326056157\n",
      "Word: was, TF-IDF: 0.42208320230906393\n",
      "Word: perfectly, TF-IDF: 0.39236844641381474\n",
      "Word: until, TF-IDF: 0.32807704773126856\n",
      "Word: fine, TF-IDF: 0.3140422491744794\n",
      "Word: got the, TF-IDF: 0.3021872458523048\n",
      "Word: got, TF-IDF: 0.209013877227969\n",
      "Word: with, TF-IDF: 0.1911458445976325\n",
      "Word: the vaccine, TF-IDF: 0.1781565960885751\n",
      "Word: in, TF-IDF: 0.15651039640778872\n",
      "\n",
      "Misclassified Comment: The number of deaths would be lower if we did not have the vaccine.\n",
      "True Label: 0\n",
      "Predicted Label: 1\n",
      "Probabilities: [0.46561092 0.53438908]\n",
      "Top 10 words and their TF-IDF values:\n",
      "Word: the number, TF-IDF: 0.32136670388758826\n",
      "Word: lower, TF-IDF: 0.3083677952628399\n",
      "Word: number of, TF-IDF: 0.29997177289008464\n",
      "Word: not have, TF-IDF: 0.2906713736484487\n",
      "Word: if we, TF-IDF: 0.28687378420939275\n",
      "Word: number, TF-IDF: 0.280145916958136\n",
      "Word: did not, TF-IDF: 0.2740159322880046\n",
      "Word: would be, TF-IDF: 0.25331502369126024\n",
      "Word: have the, TF-IDF: 0.2476983214425413\n",
      "Word: deaths, TF-IDF: 0.23313087582864422\n",
      "\n",
      "Misclassified Comment: They have doubts as to whether the vaccines are actually safe, given the rapid pace of development, and whether possible side effects have been adequately studied.\n",
      "True Label: 0\n",
      "Predicted Label: 1\n",
      "Probabilities: [0.42327648 0.57672352]\n",
      "Top 10 words and their TF-IDF values:\n",
      "Word: whether, TF-IDF: 0.5524497038176457\n",
      "Word: development, TF-IDF: 0.2732688405266292\n",
      "Word: given, TF-IDF: 0.24275357698302863\n",
      "Word: they have, TF-IDF: 0.23713689719020628\n",
      "Word: possible, TF-IDF: 0.23403859844230077\n",
      "Word: have, TF-IDF: 0.22861281095855976\n",
      "Word: actually, TF-IDF: 0.2190621478791753\n",
      "Word: have been, TF-IDF: 0.2002131954970871\n",
      "Word: the vaccines, TF-IDF: 0.19734615975494307\n",
      "Word: vaccines are, TF-IDF: 0.18713224667855827\n",
      "\n",
      "Misclassified Comment: Don’t spread information unless you can cite a credible source.\n",
      "True Label: 1\n",
      "Predicted Label: 0\n",
      "Probabilities: [0.8299793 0.1700207]\n",
      "Top 10 words and their TF-IDF values:\n",
      "Word: unless, TF-IDF: 0.5103588432283043\n",
      "Word: information, TF-IDF: 0.45890608951529965\n",
      "Word: spread, TF-IDF: 0.4286874161804511\n",
      "Word: you can, TF-IDF: 0.4025950424261844\n",
      "Word: don, TF-IDF: 0.2649077831800355\n",
      "Word: can, TF-IDF: 0.2616191882424968\n",
      "Word: you, TF-IDF: 0.2108616843355066\n",
      "Word: have the, TF-IDF: 0.0\n",
      "Word: happening, TF-IDF: 0.0\n",
      "Word: has, TF-IDF: 0.0\n",
      "\n",
      "Misclassified Comment: Im an avid fan of health and medicine innovation except flu vaccine\n",
      "True Label: 0\n",
      "Predicted Label: 1\n",
      "Probabilities: [0.2278799 0.7721201]\n",
      "Top 10 words and their TF-IDF values:\n",
      "Word: health and, TF-IDF: 0.41824341946225585\n",
      "Word: except, TF-IDF: 0.4051235108273431\n",
      "Word: flu vaccine, TF-IDF: 0.39437803856336956\n",
      "Word: medicine, TF-IDF: 0.3652339443339108\n",
      "Word: im, TF-IDF: 0.3415547544980006\n",
      "Word: flu, TF-IDF: 0.2848178004533439\n",
      "Word: health, TF-IDF: 0.26928764912208886\n",
      "Word: an, TF-IDF: 0.2370436153376483\n",
      "Word: of, TF-IDF: 0.13304895669563166\n",
      "Word: vaccine, TF-IDF: 0.12194261773564641\n",
      "\n",
      "Misclassified Comment: Those saying they won't take it are the ones complaining we didn't have summer this year and the same will be for next year. Well done.\n",
      "True Label: 1\n",
      "Predicted Label: 0\n",
      "Probabilities: [0.58048372 0.41951628]\n",
      "Top 10 words and their TF-IDF values:\n",
      "Word: year, TF-IDF: 0.3293236020648434\n",
      "Word: year and, TF-IDF: 0.26037390468092614\n",
      "Word: this year, TF-IDF: 0.2562892157766037\n",
      "Word: won take, TF-IDF: 0.25038196176324307\n",
      "Word: didn have, TF-IDF: 0.24532172612389241\n",
      "Word: the ones, TF-IDF: 0.23771510241801952\n",
      "Word: ones, TF-IDF: 0.19861413272034956\n",
      "Word: saying, TF-IDF: 0.19811431766574936\n",
      "Word: are the, TF-IDF: 0.1973775967186401\n",
      "Word: next, TF-IDF: 0.19303754258437836\n",
      "\n"
     ]
    }
   ],
   "source": [
    "from sklearn.feature_extraction.text import TfidfVectorizer\n",
    "\n",
    "# Get the TF-IDF vectorizer from the best estimator\n",
    "tfidf_vectorizer = best_classifier.named_steps['tfidf']\n",
    "\n",
    "# Transform the misclassified comments to TF-IDF matrix\n",
    "X_test_tfidf = tfidf_vectorizer.transform(misclassified_comments)\n",
    "\n",
    "# Get the feature names (words) from the TF-IDF vectorizer\n",
    "feature_names = tfidf_vectorizer.get_feature_names_out()\n",
    "\n",
    "# Iterate through the first 10 misclassified comments\n",
    "for i in range(min(10, len(misclassified_comments))):\n",
    "    comment = misclassified_comments[i]\n",
    "    print(\"Misclassified Comment:\", comment)\n",
    "    print(\"True Label:\", misclassified_true_labels[i])\n",
    "    print(\"Predicted Label:\", misclassified_predicted_labels[i])\n",
    "    print(\"Probabilities:\", misclassified_probabilities[i])\n",
    "    print(\"Top 10 words and their TF-IDF values:\")\n",
    "\n",
    "    # Sort TF-IDF values and get indices of top 10\n",
    "    top_indices = X_test_tfidf[i].toarray()[0].argsort()[-10:][::-1]\n",
    "\n",
    "    # Print top 10 words and their TF-IDF values\n",
    "    for index in top_indices:\n",
    "        word = feature_names[index]\n",
    "        tfidf_value = X_test_tfidf[i].toarray()[0][index]\n",
    "        print(f\"Word: {word}, TF-IDF: {tfidf_value}\")\n",
    "\n",
    "    print()\n"
   ]
  },
  {
   "cell_type": "code",
   "execution_count": null,
   "metadata": {},
   "outputs": [],
   "source": []
  }
 ],
 "metadata": {
  "kernelspec": {
   "display_name": "Python 3 (ipykernel)",
   "language": "python",
   "name": "python3"
  },
  "language_info": {
   "codemirror_mode": {
    "name": "ipython",
    "version": 3
   },
   "file_extension": ".py",
   "mimetype": "text/x-python",
   "name": "python",
   "nbconvert_exporter": "python",
   "pygments_lexer": "ipython3",
   "version": "3.11.4"
  }
 },
 "nbformat": 4,
 "nbformat_minor": 4
}
