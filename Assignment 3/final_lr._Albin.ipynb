{
 "cells": [
  {
   "cell_type": "code",
   "execution_count": 23,
   "metadata": {},
   "outputs": [],
   "source": [
    "import pandas as pd\n",
    "from sklearn.feature_extraction.text import TfidfVectorizer\n",
    "from sklearn.model_selection import train_test_split, GridSearchCV\n",
    "from sklearn.pipeline import Pipeline\n",
    "from sklearn.linear_model import LogisticRegression\n",
    "import random\n",
    "from collections import Counter\n",
    "from sklearn.metrics import classification_report\n",
    "import warnings\n",
    "warnings.filterwarnings(\"ignore\")"
   ]
  },
  {
   "cell_type": "markdown",
   "metadata": {
    "tags": []
   },
   "source": [
    "<h3> Read file"
   ]
  },
  {
   "cell_type": "code",
   "execution_count": 24,
   "metadata": {},
   "outputs": [],
   "source": [
    "# Read the TSV file\n",
    "df = pd.read_csv(\"a3_train_final.tsv\", sep=\"\\t\", header=None)\n",
    "\n",
    "# Add headers \"label\" and \"text\"\n",
    "df.columns = [\"label\", \"text\"]"
   ]
  },
  {
   "cell_type": "markdown",
   "metadata": {},
   "source": [
    "<h3> function to drop -1 and select majority vote."
   ]
  },
  {
   "cell_type": "code",
   "execution_count": 25,
   "metadata": {},
   "outputs": [],
   "source": [
    "# Function to process labels\n",
    "def process_labels(label):\n",
    "    label_list = label.split(\"/\")\n",
    "    label_list = [l for l in label_list if l != \"-1\"]  # Drop -1 labels\n",
    "    if len(label_list) == 1:\n",
    "        return label_list[0]  # Return the single label\n",
    "    else:\n",
    "        counter = Counter(label_list)\n",
    "        max_vote = max(counter.values())\n",
    "        majority_labels = [l for l, count in counter.items() if count == max_vote]\n",
    "        if len(majority_labels) == 1:\n",
    "            return random.choice(majority_labels)  # Randomly choose from majority labels\n",
    "        else:\n",
    "            return -1"
   ]
  },
  {
   "cell_type": "code",
   "execution_count": 26,
   "metadata": {},
   "outputs": [],
   "source": [
    "# Apply label processing\n",
    "df['final_label'] = df['label'].apply(process_labels)"
   ]
  },
  {
   "cell_type": "markdown",
   "metadata": {},
   "source": [
    "<h3> Drop the indecisive comments"
   ]
  },
  {
   "cell_type": "code",
   "execution_count": 27,
   "metadata": {
    "tags": []
   },
   "outputs": [
    {
     "data": {
      "text/html": [
       "<div>\n",
       "<style scoped>\n",
       "    .dataframe tbody tr th:only-of-type {\n",
       "        vertical-align: middle;\n",
       "    }\n",
       "\n",
       "    .dataframe tbody tr th {\n",
       "        vertical-align: top;\n",
       "    }\n",
       "\n",
       "    .dataframe thead th {\n",
       "        text-align: right;\n",
       "    }\n",
       "</style>\n",
       "<table border=\"1\" class=\"dataframe\">\n",
       "  <thead>\n",
       "    <tr style=\"text-align: right;\">\n",
       "      <th></th>\n",
       "      <th>label</th>\n",
       "      <th>text</th>\n",
       "      <th>final_label</th>\n",
       "    </tr>\n",
       "  </thead>\n",
       "  <tbody>\n",
       "    <tr>\n",
       "      <th>0</th>\n",
       "      <td>1/1</td>\n",
       "      <td>I'll only consume if I know what's inside it....</td>\n",
       "      <td>1</td>\n",
       "    </tr>\n",
       "    <tr>\n",
       "      <th>1</th>\n",
       "      <td>0/-1</td>\n",
       "      <td>It is easier to fool a million people than it...</td>\n",
       "      <td>0</td>\n",
       "    </tr>\n",
       "    <tr>\n",
       "      <th>2</th>\n",
       "      <td>0/0</td>\n",
       "      <td>NATURAL IMMUNITY  protected us since evolutio...</td>\n",
       "      <td>0</td>\n",
       "    </tr>\n",
       "    <tr>\n",
       "      <th>3</th>\n",
       "      <td>0/-1</td>\n",
       "      <td>NATURAL IMMUNITY  protected us since evolutio...</td>\n",
       "      <td>0</td>\n",
       "    </tr>\n",
       "    <tr>\n",
       "      <th>4</th>\n",
       "      <td>0/0</td>\n",
       "      <td>Proud to have resisted. Proud of my husband, ...</td>\n",
       "      <td>0</td>\n",
       "    </tr>\n",
       "    <tr>\n",
       "      <th>...</th>\n",
       "      <td>...</td>\n",
       "      <td>...</td>\n",
       "      <td>...</td>\n",
       "    </tr>\n",
       "    <tr>\n",
       "      <th>50063</th>\n",
       "      <td>0/0</td>\n",
       "      <td>🤣 keep your 💩 I already know 3 people who have...</td>\n",
       "      <td>0</td>\n",
       "    </tr>\n",
       "    <tr>\n",
       "      <th>50064</th>\n",
       "      <td>0/0</td>\n",
       "      <td>🤣🤣🤣 \"JUST BECAUSE IT'S SAFE, DOESN'T MEAN IT D...</td>\n",
       "      <td>0</td>\n",
       "    </tr>\n",
       "    <tr>\n",
       "      <th>50065</th>\n",
       "      <td>0/0</td>\n",
       "      <td>🤣🤣🤣 I took the Vaccine because of work. If I d...</td>\n",
       "      <td>0</td>\n",
       "    </tr>\n",
       "    <tr>\n",
       "      <th>50066</th>\n",
       "      <td>0/0</td>\n",
       "      <td>🤨there's people already having severe side eff...</td>\n",
       "      <td>0</td>\n",
       "    </tr>\n",
       "    <tr>\n",
       "      <th>50067</th>\n",
       "      <td>1/1</td>\n",
       "      <td>🥦I ❤my covid vaccines and I'm so excited for m...</td>\n",
       "      <td>1</td>\n",
       "    </tr>\n",
       "  </tbody>\n",
       "</table>\n",
       "<p>47375 rows × 3 columns</p>\n",
       "</div>"
      ],
      "text/plain": [
       "      label                                               text final_label\n",
       "0       1/1   I'll only consume if I know what's inside it....           1\n",
       "1      0/-1   It is easier to fool a million people than it...           0\n",
       "2       0/0   NATURAL IMMUNITY  protected us since evolutio...           0\n",
       "3      0/-1   NATURAL IMMUNITY  protected us since evolutio...           0\n",
       "4       0/0   Proud to have resisted. Proud of my husband, ...           0\n",
       "...     ...                                                ...         ...\n",
       "50063   0/0  🤣 keep your 💩 I already know 3 people who have...           0\n",
       "50064   0/0  🤣🤣🤣 \"JUST BECAUSE IT'S SAFE, DOESN'T MEAN IT D...           0\n",
       "50065   0/0  🤣🤣🤣 I took the Vaccine because of work. If I d...           0\n",
       "50066   0/0  🤨there's people already having severe side eff...           0\n",
       "50067   1/1  🥦I ❤my covid vaccines and I'm so excited for m...           1\n",
       "\n",
       "[47375 rows x 3 columns]"
      ]
     },
     "execution_count": 27,
     "metadata": {},
     "output_type": "execute_result"
    }
   ],
   "source": [
    "final_df = df[df['final_label'] != -1]\n",
    "final_df"
   ]
  },
  {
   "cell_type": "markdown",
   "metadata": {},
   "source": [
    "<h3> Drop duplicates"
   ]
  },
  {
   "cell_type": "code",
   "execution_count": 28,
   "metadata": {
    "tags": []
   },
   "outputs": [
    {
     "name": "stdout",
     "output_type": "stream",
     "text": [
      "DataFrame with dropped duplicates:\n",
      "      label                                               text final_label\n",
      "0       1/1   I'll only consume if I know what's inside it....           1\n",
      "1      0/-1   It is easier to fool a million people than it...           0\n",
      "2       0/0   NATURAL IMMUNITY  protected us since evolutio...           0\n",
      "3      0/-1   NATURAL IMMUNITY  protected us since evolutio...           0\n",
      "4       0/0   Proud to have resisted. Proud of my husband, ...           0\n",
      "...     ...                                                ...         ...\n",
      "50063   0/0  🤣 keep your 💩 I already know 3 people who have...           0\n",
      "50064   0/0  🤣🤣🤣 \"JUST BECAUSE IT'S SAFE, DOESN'T MEAN IT D...           0\n",
      "50065   0/0  🤣🤣🤣 I took the Vaccine because of work. If I d...           0\n",
      "50066   0/0  🤨there's people already having severe side eff...           0\n",
      "50067   1/1  🥦I ❤my covid vaccines and I'm so excited for m...           1\n",
      "\n",
      "[47370 rows x 3 columns]\n",
      "\n",
      "DataFrame containing dropped rows:\n",
      "             label                                               text  \\\n",
      "7655           0/0  For the first time in history the ineffectiven...   \n",
      "25001  0/0/0/0/0/0  Kudos to all of you who didn't cave to the pre...   \n",
      "35411      1/1/1/1  The best vaccine right now is the one you’re o...   \n",
      "41632          0/0  Vaccines are safe so is Russian roulette until...   \n",
      "44346            0          Why be immune, when you can be invincible   \n",
      "\n",
      "      final_label  \n",
      "7655            0  \n",
      "25001           0  \n",
      "35411           1  \n",
      "41632           0  \n",
      "44346           0  \n"
     ]
    }
   ],
   "source": [
    "# Drop duplicates based on the \"text\" column in final_df\n",
    "final_df_tmp = final_df.drop_duplicates(subset=['text'])\n",
    "\n",
    "# Create a DataFrame containing only the dropped rows in final_df\n",
    "dropped_rows_df = final_df[~final_df.index.isin(final_df.drop_duplicates(subset=['text']).index)]\n",
    "\n",
    "# Print the DataFrame with dropped duplicates\n",
    "print(\"DataFrame with dropped duplicates:\")\n",
    "print(final_df_tmp)\n",
    "\n",
    "# Print the DataFrame containing dropped rows\n",
    "print(\"\\nDataFrame containing dropped rows:\")\n",
    "print(dropped_rows_df)\n",
    "\n",
    "final_df = final_df_tmp"
   ]
  },
  {
   "cell_type": "code",
   "execution_count": 29,
   "metadata": {},
   "outputs": [],
   "source": [
    "final_df = final_df.reset_index(drop=True)"
   ]
  },
  {
   "cell_type": "code",
   "execution_count": 30,
   "metadata": {},
   "outputs": [
    {
     "data": {
      "text/html": [
       "<div>\n",
       "<style scoped>\n",
       "    .dataframe tbody tr th:only-of-type {\n",
       "        vertical-align: middle;\n",
       "    }\n",
       "\n",
       "    .dataframe tbody tr th {\n",
       "        vertical-align: top;\n",
       "    }\n",
       "\n",
       "    .dataframe thead th {\n",
       "        text-align: right;\n",
       "    }\n",
       "</style>\n",
       "<table border=\"1\" class=\"dataframe\">\n",
       "  <thead>\n",
       "    <tr style=\"text-align: right;\">\n",
       "      <th></th>\n",
       "      <th>label</th>\n",
       "      <th>text</th>\n",
       "      <th>final_label</th>\n",
       "    </tr>\n",
       "  </thead>\n",
       "  <tbody>\n",
       "    <tr>\n",
       "      <th>0</th>\n",
       "      <td>1/1</td>\n",
       "      <td>I'll only consume if I know what's inside it....</td>\n",
       "      <td>1</td>\n",
       "    </tr>\n",
       "    <tr>\n",
       "      <th>1</th>\n",
       "      <td>0/-1</td>\n",
       "      <td>It is easier to fool a million people than it...</td>\n",
       "      <td>0</td>\n",
       "    </tr>\n",
       "    <tr>\n",
       "      <th>2</th>\n",
       "      <td>0/0</td>\n",
       "      <td>NATURAL IMMUNITY  protected us since evolutio...</td>\n",
       "      <td>0</td>\n",
       "    </tr>\n",
       "    <tr>\n",
       "      <th>3</th>\n",
       "      <td>0/-1</td>\n",
       "      <td>NATURAL IMMUNITY  protected us since evolutio...</td>\n",
       "      <td>0</td>\n",
       "    </tr>\n",
       "    <tr>\n",
       "      <th>4</th>\n",
       "      <td>0/0</td>\n",
       "      <td>Proud to have resisted. Proud of my husband, ...</td>\n",
       "      <td>0</td>\n",
       "    </tr>\n",
       "    <tr>\n",
       "      <th>...</th>\n",
       "      <td>...</td>\n",
       "      <td>...</td>\n",
       "      <td>...</td>\n",
       "    </tr>\n",
       "    <tr>\n",
       "      <th>47365</th>\n",
       "      <td>0/0</td>\n",
       "      <td>🤣 keep your 💩 I already know 3 people who have...</td>\n",
       "      <td>0</td>\n",
       "    </tr>\n",
       "    <tr>\n",
       "      <th>47366</th>\n",
       "      <td>0/0</td>\n",
       "      <td>🤣🤣🤣 \"JUST BECAUSE IT'S SAFE, DOESN'T MEAN IT D...</td>\n",
       "      <td>0</td>\n",
       "    </tr>\n",
       "    <tr>\n",
       "      <th>47367</th>\n",
       "      <td>0/0</td>\n",
       "      <td>🤣🤣🤣 I took the Vaccine because of work. If I d...</td>\n",
       "      <td>0</td>\n",
       "    </tr>\n",
       "    <tr>\n",
       "      <th>47368</th>\n",
       "      <td>0/0</td>\n",
       "      <td>🤨there's people already having severe side eff...</td>\n",
       "      <td>0</td>\n",
       "    </tr>\n",
       "    <tr>\n",
       "      <th>47369</th>\n",
       "      <td>1/1</td>\n",
       "      <td>🥦I ❤my covid vaccines and I'm so excited for m...</td>\n",
       "      <td>1</td>\n",
       "    </tr>\n",
       "  </tbody>\n",
       "</table>\n",
       "<p>47370 rows × 3 columns</p>\n",
       "</div>"
      ],
      "text/plain": [
       "      label                                               text final_label\n",
       "0       1/1   I'll only consume if I know what's inside it....           1\n",
       "1      0/-1   It is easier to fool a million people than it...           0\n",
       "2       0/0   NATURAL IMMUNITY  protected us since evolutio...           0\n",
       "3      0/-1   NATURAL IMMUNITY  protected us since evolutio...           0\n",
       "4       0/0   Proud to have resisted. Proud of my husband, ...           0\n",
       "...     ...                                                ...         ...\n",
       "47365   0/0  🤣 keep your 💩 I already know 3 people who have...           0\n",
       "47366   0/0  🤣🤣🤣 \"JUST BECAUSE IT'S SAFE, DOESN'T MEAN IT D...           0\n",
       "47367   0/0  🤣🤣🤣 I took the Vaccine because of work. If I d...           0\n",
       "47368   0/0  🤨there's people already having severe side eff...           0\n",
       "47369   1/1  🥦I ❤my covid vaccines and I'm so excited for m...           1\n",
       "\n",
       "[47370 rows x 3 columns]"
      ]
     },
     "execution_count": 30,
     "metadata": {},
     "output_type": "execute_result"
    }
   ],
   "source": [
    "final_df"
   ]
  },
  {
   "cell_type": "markdown",
   "metadata": {},
   "source": [
    "<h3> Distribution of label 0 and 1"
   ]
  },
  {
   "cell_type": "code",
   "execution_count": 31,
   "metadata": {
    "tags": []
   },
   "outputs": [
    {
     "name": "stdout",
     "output_type": "stream",
     "text": [
      "Count and Percentage distribution of 1 and 0 in final_label column:\n",
      "   Count  Percentage\n",
      "1  23943       50.54\n",
      "0  23427       49.46\n"
     ]
    }
   ],
   "source": [
    "# Count the distribution of 1 and 0 in the final_label column\n",
    "value_counts = final_df['final_label'].value_counts()\n",
    "percentage_distribution = final_df['final_label'].value_counts(normalize=True) * 100\n",
    "\n",
    "# Concatenate count and percentage distribution into a DataFrame\n",
    "distribution_df = pd.concat([value_counts, percentage_distribution], axis=1)\n",
    "distribution_df.columns = ['Count', 'Percentage']\n",
    "\n",
    "# Print the count and percentage distribution\n",
    "print(\"Count and Percentage distribution of 1 and 0 in final_label column:\")\n",
    "print(round(distribution_df, 2))"
   ]
  },
  {
   "cell_type": "markdown",
   "metadata": {},
   "source": [
    "<H3> Check agreement / disagreement in annotation"
   ]
  },
  {
   "cell_type": "code",
   "execution_count": 32,
   "metadata": {
    "tags": []
   },
   "outputs": [],
   "source": [
    "# Define function to count disagreements\n",
    "def count_disagreements(data):\n",
    "    # Split the labels and remove '-1' for neutrality\n",
    "    labels = data.str.split(\"/\").apply(lambda x: set(x) - {'-1'})\n",
    "    \n",
    "    # Check if both '0' and '1' are present in any label set\n",
    "    disagreements = sum('0' in label_set and '1' in label_set for label_set in labels)\n",
    "    \n",
    "    return disagreements"
   ]
  },
  {
   "cell_type": "code",
   "execution_count": 33,
   "metadata": {
    "tags": []
   },
   "outputs": [
    {
     "name": "stdout",
     "output_type": "stream",
     "text": [
      "Number of rows not in agreement: 3001\n",
      "      label                                               text final_label  \\\n",
      "0       1/1   I'll only consume if I know what's inside it....           1   \n",
      "1      0/-1   It is easier to fool a million people than it...           0   \n",
      "2       0/0   NATURAL IMMUNITY  protected us since evolutio...           0   \n",
      "3      0/-1   NATURAL IMMUNITY  protected us since evolutio...           0   \n",
      "4       0/0   Proud to have resisted. Proud of my husband, ...           0   \n",
      "...     ...                                                ...         ...   \n",
      "50063   0/0  🤣 keep your 💩 I already know 3 people who have...           0   \n",
      "50064   0/0  🤣🤣🤣 \"JUST BECAUSE IT'S SAFE, DOESN'T MEAN IT D...           0   \n",
      "50065   0/0  🤣🤣🤣 I took the Vaccine because of work. If I d...           0   \n",
      "50066   0/0  🤨there's people already having severe side eff...           0   \n",
      "50067   1/1  🥦I ❤my covid vaccines and I'm so excited for m...           1   \n",
      "\n",
      "       agreement  \n",
      "0           True  \n",
      "1           True  \n",
      "2           True  \n",
      "3           True  \n",
      "4           True  \n",
      "...          ...  \n",
      "50063       True  \n",
      "50064       True  \n",
      "50065       True  \n",
      "50066       True  \n",
      "50067       True  \n",
      "\n",
      "[50068 rows x 4 columns]\n",
      "Proportion of agreement: 0.9401\n"
     ]
    }
   ],
   "source": [
    "# Calculate disagreements without dropping rows\n",
    "disagreements = count_disagreements(df['label'])\n",
    "print(\"Number of rows not in agreement:\", disagreements)\n",
    "\n",
    "# Assign agreement status based on the condition\n",
    "df['agreement'] = df['label'].apply(lambda x: True if len(set(x.split(\"/\")) - {'-1'}) == 1 else False)\n",
    "df.loc[df['agreement'] == False, 'agreement'] = False\n",
    "\n",
    "# Print the dataframe\n",
    "print(df)\n",
    "\n",
    "# Calculate the proportion of agreement\n",
    "proportion_agreement = (df['agreement'] == True).sum() / len(df)\n",
    "\n",
    "print(\"Proportion of agreement:\", round(proportion_agreement, 4))"
   ]
  },
  {
   "cell_type": "code",
   "execution_count": 39,
   "metadata": {},
   "outputs": [],
   "source": [
    "X = final_df['text']\n",
    "y = final_df['final_label']\n",
    "# Split the data into train and test (80% train, 20% test)\n",
    "X_train, X_test, y_train, y_test = train_test_split(X, y, test_size=0.2, random_state=42)\n",
    "\n",
    "# Further split the training data into train and validation (60% train, 20% validation of the original data)\n",
    "X_train, X_val, y_train, y_val = train_test_split(X_train, y_train, test_size=0.25, random_state=42) # 0.25 x 0.8 = 0.2\n"
   ]
  },
  {
   "cell_type": "code",
   "execution_count": 40,
   "metadata": {},
   "outputs": [],
   "source": [
    "# Pipeline for Logistic Regression with TfidfVectorizer\n",
    "pipeline = Pipeline([\n",
    "    ('tfidf', TfidfVectorizer()),\n",
    "    ('clf', LogisticRegression())\n",
    "])"
   ]
  },
  {
   "cell_type": "code",
   "execution_count": 51,
   "metadata": {},
   "outputs": [
    {
     "name": "stderr",
     "output_type": "stream",
     "text": [
      "/home/albinl/anaconda3/lib/python3.11/site-packages/sklearn/linear_model/_sag.py:350: ConvergenceWarning: The max_iter was reached which means the coef_ did not converge\n",
      "  warnings.warn(\n"
     ]
    },
    {
     "name": "stdout",
     "output_type": "stream",
     "text": [
      "Best hyperparameters: {'clf__C': 1.0, 'clf__max_iter': 1000, 'clf__penalty': 'l1', 'clf__solver': 'liblinear', 'tfidf__max_features': 3000, 'tfidf__ngram_range': (1, 2)}\n"
     ]
    }
   ],
   "source": [
    "# Define the parameter grid\n",
    "param_grid = {\n",
    "    'tfidf__max_features': [1000, 2000, 3000],\n",
    "    'tfidf__ngram_range': [(1, 1), (1, 2)],\n",
    "    'clf__C': [0.1, 1.0, 10.0],\n",
    "    'clf__penalty': ['l1', 'l2'],  # Regularization penalty\n",
    "    'clf__solver': ['liblinear', 'saga'],  # Solver algorithm for logistic regression\n",
    "    'clf__max_iter': [1000],  # Maximum number of iterations\n",
    "}\n",
    "\n",
    "# Perform GridSearchCV with random state\n",
    "grid_search = GridSearchCV(pipeline, param_grid, cv=5, n_jobs=-1)\n",
    "grid_search.fit(X_train, y_train)\n",
    "\n",
    "# Print best hyperparameters\n",
    "print(\"Best hyperparameters:\", grid_search.best_params_)\n"
   ]
  },
  {
   "cell_type": "code",
   "execution_count": 52,
   "metadata": {},
   "outputs": [
    {
     "name": "stdout",
     "output_type": "stream",
     "text": [
      "Classification Report:\n",
      "              precision    recall  f1-score   support\n",
      "\n",
      "           0       0.84      0.84      0.84     13993\n",
      "           1       0.84      0.84      0.84     14429\n",
      "\n",
      "    accuracy                           0.84     28422\n",
      "   macro avg       0.84      0.84      0.84     28422\n",
      "weighted avg       0.84      0.84      0.84     28422\n",
      "\n"
     ]
    }
   ],
   "source": [
    "# Use the best estimator from grid search to predict labels on the validation set\n",
    "y_train_pred = grid_search.best_estimator_.predict(X_train)\n",
    "\n",
    "# Print the classification report\n",
    "print(\"Classification Report:\")\n",
    "print(classification_report(y_train, y_train_pred))"
   ]
  },
  {
   "cell_type": "code",
   "execution_count": 56,
   "metadata": {
    "tags": []
   },
   "outputs": [
    {
     "name": "stdout",
     "output_type": "stream",
     "text": [
      "Classification Report:\n",
      "              precision    recall  f1-score   support\n",
      "\n",
      "           0       0.82      0.81      0.81      4670\n",
      "           1       0.82      0.82      0.82      4804\n",
      "\n",
      "    accuracy                           0.82      9474\n",
      "   macro avg       0.82      0.82      0.82      9474\n",
      "weighted avg       0.82      0.82      0.82      9474\n",
      "\n"
     ]
    }
   ],
   "source": [
    "y_val_pred = grid_search.best_estimator_.predict(X_val)\n",
    "# Print the classification report\n",
    "print(\"Classification Report:\")\n",
    "print(classification_report(y_val, y_val_pred))"
   ]
  },
  {
   "cell_type": "code",
   "execution_count": 54,
   "metadata": {
    "tags": []
   },
   "outputs": [
    {
     "name": "stdout",
     "output_type": "stream",
     "text": [
      "Classification Report:\n",
      "              precision    recall  f1-score   support\n",
      "\n",
      "           0       0.81      0.80      0.81      4764\n",
      "           1       0.80      0.81      0.81      4710\n",
      "\n",
      "    accuracy                           0.81      9474\n",
      "   macro avg       0.81      0.81      0.81      9474\n",
      "weighted avg       0.81      0.81      0.81      9474\n",
      "\n"
     ]
    }
   ],
   "source": [
    "y_test_pred = grid_search.best_estimator_.predict(X_test)\n",
    "\n",
    "# Print the classification report\n",
    "print(\"Classification Report:\")\n",
    "print(classification_report(y_test, y_test_pred))"
   ]
  },
  {
   "cell_type": "code",
   "execution_count": 44,
   "metadata": {
    "tags": []
   },
   "outputs": [
    {
     "name": "stdout",
     "output_type": "stream",
     "text": [
      "Classification Report:\n",
      "              precision    recall  f1-score   support\n",
      "\n",
      "           0       0.81      0.80      0.81      4764\n",
      "           1       0.80      0.81      0.81      4710\n",
      "\n",
      "    accuracy                           0.81      9474\n",
      "   macro avg       0.81      0.81      0.81      9474\n",
      "weighted avg       0.81      0.81      0.81      9474\n",
      "\n"
     ]
    },
    {
     "data": {
      "image/png": "[encoded data removed]",
      "text/plain": [
       "<Figure size 800x600 with 1 Axes>"
      ]
     },
     "metadata": {},
     "output_type": "display_data"
    }
   ],
   "source": [
    "import seaborn as sns\n",
    "import matplotlib.pyplot as plt\n",
    "from sklearn.metrics import confusion_matrix\n",
    "from sklearn.metrics import classification_report\n",
    "\n",
    "# Predict labels on the test set using the best estimator from grid search\n",
    "y_test_pred = grid_search.best_estimator_.predict(X_test)\n",
    "\n",
    "# Print the classification report\n",
    "print(\"Classification Report:\")\n",
    "print(classification_report(y_test, y_test_pred))\n",
    "\n",
    "# Compute confusion matrix\n",
    "conf_matrix_test = confusion_matrix(y_test, y_test_pred)\n",
    "\n",
    "# Plot confusion matrix\n",
    "plt.figure(figsize=(8, 6))\n",
    "sns.heatmap(conf_matrix_test, annot=True, fmt=\"d\", cmap=\"Blues\", cbar=False)\n",
    "plt.title(\"Confusion Matrix (Test Set)\")\n",
    "plt.xlabel(\"Predicted Label\")\n",
    "plt.ylabel(\"True Label\")\n",
    "plt.show()"
   ]
  },
  {
   "cell_type": "code",
   "execution_count": 45,
   "metadata": {
    "tags": []
   },
   "outputs": [
    {
     "name": "stdout",
     "output_type": "stream",
     "text": [
      "Misclassified Comment: Thank you Dr. C! These numbers are much better than I would anticipate. I wish I thought more patients had reported their problems.\n",
      "True Label: 0\n",
      "Predicted Label: 1\n",
      "Probabilities: [0.29564132 0.70435868]\n",
      "\n",
      "Misclassified Comment: I was looking up the average daily deaths due to covid for the month of July and it's been between 150 to 250 deaths a day in all of the United States. It says that in 2018 an average of 2,380 people died of heart disease every day in the US which is about the average every year. So this is not about our health. It's about something else...\n",
      "True Label: 0\n",
      "Predicted Label: 1\n",
      "Probabilities: [0.40146511 0.59853489]\n",
      "\n",
      "Misclassified Comment: No serious safety events relating to the vaccine were observed during Phase 3 trials, with the shot “well tolerated” across different dosing regimens\n",
      "True Label: 1\n",
      "Predicted Label: 0\n",
      "Probabilities: [0.52637072 0.47362928]\n",
      "\n",
      "Misclassified Comment: Almost all vaccines do not prevent 100% transmission or infection. The Covid vaccines are vastly safer than Covid itself.\n",
      "True Label: 1\n",
      "Predicted Label: 0\n",
      "Probabilities: [0.51899281 0.48100719]\n",
      "\n",
      "Misclassified Comment: I AM NOT ANTIVAXX!\n",
      "True Label: 1\n",
      "Predicted Label: 0\n",
      "Probabilities: [0.98539543 0.01460457]\n",
      "\n",
      "Misclassified Comment: That it was not only mandatory vaccination, not only a vaccine trial went wrong, but it was discrimination and hate, too.\n",
      "True Label: 0\n",
      "Predicted Label: 1\n",
      "Probabilities: [0.48443373 0.51556627]\n",
      "\n",
      "Misclassified Comment: it's perfectly normal for children to die for no reason\n",
      "True Label: 0\n",
      "Predicted Label: 1\n",
      "Probabilities: [0.45816298 0.54183702]\n",
      "\n",
      "Misclassified Comment: No one should be taking these “cocktails” that are statistically the deadliest and most injurious than all other medication over the past 30 years combined. Far safer and more effective treatments are available if necessary, the vast majority recover fine with nothing at all.\n",
      "True Label: 0\n",
      "Predicted Label: 1\n",
      "Probabilities: [0.18930935 0.81069065]\n",
      "\n",
      "Misclassified Comment: Because of media attention. There is no evidence AstraZeneca Covid-19 vaccine is more dangerous than breating is.\n",
      "True Label: 1\n",
      "Predicted Label: 0\n",
      "Probabilities: [0.5671632 0.4328368]\n",
      "\n",
      "Misclassified Comment: love to all the truckers and antivaxxer protesters out there\n",
      "True Label: 0\n",
      "Predicted Label: 1\n",
      "Probabilities: [0.23066234 0.76933766]\n",
      "\n"
     ]
    }
   ],
   "source": [
    "# Predict labels and probabilities on the test set using the best estimator from grid search\n",
    "y_test_pred = grid_search.best_estimator_.predict(X_test)\n",
    "y_test_prob = grid_search.best_estimator_.predict_proba(X_test)\n",
    "\n",
    "# Initialize lists to store misclassified comments and their probabilities\n",
    "misclassified_comments = []\n",
    "misclassified_true_labels = []\n",
    "misclassified_predicted_labels = []\n",
    "misclassified_probabilities = []\n",
    "\n",
    "# Iterate through each comment, true label, predicted label, and probability\n",
    "for comment, true_label, pred_label, probs in zip(X_test, y_test, y_test_pred, y_test_prob):\n",
    "    if true_label != pred_label:\n",
    "        misclassified_comments.append(comment)\n",
    "        misclassified_true_labels.append(true_label)\n",
    "        misclassified_predicted_labels.append(pred_label)\n",
    "        misclassified_probabilities.append(probs)\n",
    "\n",
    "# Iterate through the first 10 misclassified comments\n",
    "for i in range(min(10, len(misclassified_comments))):\n",
    "    comment = misclassified_comments[i]\n",
    "    true_label = misclassified_true_labels[i]\n",
    "    pred_label = misclassified_predicted_labels[i]\n",
    "    probs = misclassified_probabilities[i]\n",
    "\n",
    "    print(\"Misclassified Comment:\", comment)\n",
    "    print(\"True Label:\", true_label)\n",
    "    print(\"Predicted Label:\", pred_label)\n",
    "    print(\"Probabilities:\", probs)\n",
    "    print()"
   ]
  },
  {
   "cell_type": "code",
   "execution_count": 46,
   "metadata": {
    "tags": []
   },
   "outputs": [
    {
     "ename": "NameError",
     "evalue": "name 'best_classifier' is not defined",
     "output_type": "error",
     "traceback": [
      "\u001b[0;31m---------------------------------------------------------------------------\u001b[0m",
      "\u001b[0;31mNameError\u001b[0m                                 Traceback (most recent call last)",
      "Cell \u001b[0;32mIn[46], line 4\u001b[0m\n\u001b[1;32m      1\u001b[0m \u001b[38;5;28;01mfrom\u001b[39;00m \u001b[38;5;21;01msklearn\u001b[39;00m\u001b[38;5;21;01m.\u001b[39;00m\u001b[38;5;21;01mfeature_extraction\u001b[39;00m\u001b[38;5;21;01m.\u001b[39;00m\u001b[38;5;21;01mtext\u001b[39;00m \u001b[38;5;28;01mimport\u001b[39;00m TfidfVectorizer\n\u001b[1;32m      3\u001b[0m \u001b[38;5;66;03m# Get the TF-IDF vectorizer from the best estimator\u001b[39;00m\n\u001b[0;32m----> 4\u001b[0m tfidf_vectorizer \u001b[38;5;241m=\u001b[39m best_classifier\u001b[38;5;241m.\u001b[39mnamed_steps[\u001b[38;5;124m'\u001b[39m\u001b[38;5;124mtfidf\u001b[39m\u001b[38;5;124m'\u001b[39m]\n\u001b[1;32m      6\u001b[0m \u001b[38;5;66;03m# Transform the misclassified comments to TF-IDF matrix\u001b[39;00m\n\u001b[1;32m      7\u001b[0m X_test_tfidf \u001b[38;5;241m=\u001b[39m tfidf_vectorizer\u001b[38;5;241m.\u001b[39mtransform(misclassified_comments)\n",
      "\u001b[0;31mNameError\u001b[0m: name 'best_classifier' is not defined"
     ]
    }
   ],
   "source": [
    "from sklearn.feature_extraction.text import TfidfVectorizer\n",
    "\n",
    "# Get the TF-IDF vectorizer from the best estimator\n",
    "tfidf_vectorizer = best_classifier.named_steps['tfidf']\n",
    "\n",
    "# Transform the misclassified comments to TF-IDF matrix\n",
    "X_test_tfidf = tfidf_vectorizer.transform(misclassified_comments)\n",
    "\n",
    "# Get the feature names (words) from the TF-IDF vectorizer\n",
    "feature_names = tfidf_vectorizer.get_feature_names_out()\n",
    "\n",
    "# Iterate through the first 10 misclassified comments\n",
    "for i in range(min(10, len(misclassified_comments))):\n",
    "    comment = misclassified_comments[i]\n",
    "    print(\"Misclassified Comment:\", comment)\n",
    "    print(\"True Label:\", misclassified_true_labels[i])\n",
    "    print(\"Predicted Label:\", misclassified_predicted_labels[i])\n",
    "    print(\"Probabilities:\", misclassified_probabilities[i])\n",
    "    print(\"Top 10 words and their TF-IDF values:\")\n",
    "\n",
    "    # Sort TF-IDF values and get indices of top 10\n",
    "    top_indices = X_test_tfidf[i].toarray()[0].argsort()[-10:][::-1]\n",
    "\n",
    "    # Print top 10 words and their TF-IDF values\n",
    "    for index in top_indices:\n",
    "        word = feature_names[index]\n",
    "        tfidf_value = X_test_tfidf[i].toarray()[0][index]\n",
    "        print(f\"Word: {word}, TF-IDF: {tfidf_value}\")\n",
    "\n",
    "    print()\n"
   ]
  },
  {
   "cell_type": "code",
   "execution_count": null,
   "metadata": {},
   "outputs": [],
   "source": []
  }
 ],
 "metadata": {
  "kernelspec": {
   "display_name": "Python 3 (ipykernel)",
   "language": "python",
   "name": "python3"
  },
  "language_info": {
   "codemirror_mode": {
    "name": "ipython",
    "version": 3
   },
   "file_extension": ".py",
   "mimetype": "text/x-python",
   "name": "python",
   "nbconvert_exporter": "python",
   "pygments_lexer": "ipython3",
   "version": "3.11.4"
  }
 },
 "nbformat": 4,
 "nbformat_minor": 4
}
