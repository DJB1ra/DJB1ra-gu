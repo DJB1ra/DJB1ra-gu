{
 "cells": [
  {
   "cell_type": "code",
   "execution_count": 22,
   "metadata": {},
   "outputs": [],
   "source": [
    "import pandas as pd\n",
    "from sklearn.feature_extraction.text import TfidfVectorizer\n",
    "from sklearn.model_selection import train_test_split, GridSearchCV\n",
    "from sklearn.pipeline import Pipeline\n",
    "from sklearn.linear_model import LogisticRegression\n",
    "import random\n",
    "from collections import Counter\n"
   ]
  },
  {
   "cell_type": "code",
   "execution_count": 23,
   "metadata": {},
   "outputs": [],
   "source": [
    "data = pd.read_csv('a3_train_final.tsv',sep='\\t', header=None, names=['label', 'text'])"
   ]
  },
  {
   "cell_type": "code",
   "execution_count": 24,
   "metadata": {},
   "outputs": [],
   "source": [
    "# Function to process labels\n",
    "def process_labels(label):\n",
    "    label_list = label.split(\"/\")\n",
    "    label_list = [l for l in label_list if l != \"-1\"]  # Drop -1 labels\n",
    "    if len(label_list) == 1:\n",
    "        return label_list[0]  # Return the single label\n",
    "    else:\n",
    "        counter = Counter(label_list)\n",
    "        max_vote = max(counter.values())\n",
    "        majority_labels = [l for l, count in counter.items() if count == max_vote]\n",
    "        if len(majority_labels) == 1:\n",
    "            return random.choice(majority_labels)  # Randomly choose from majority labels\n",
    "        else:\n",
    "            return -1"
   ]
  },
  {
   "cell_type": "code",
   "execution_count": 25,
   "metadata": {},
   "outputs": [],
   "source": [
    "# Apply label processing\n",
    "data['final_label'] = data['label'].apply(process_labels)"
   ]
  },
  {
   "cell_type": "code",
   "execution_count": 26,
   "metadata": {},
   "outputs": [
    {
     "name": "stderr",
     "output_type": "stream",
     "text": [
      "C:\\Users\\Alex\\AppData\\Local\\Temp\\ipykernel_640\\2372967172.py:2: SettingWithCopyWarning: \n",
      "A value is trying to be set on a copy of a slice from a DataFrame\n",
      "\n",
      "See the caveats in the documentation: https://pandas.pydata.org/pandas-docs/stable/user_guide/indexing.html#returning-a-view-versus-a-copy\n",
      "  df.drop(['label'], axis=1, inplace=True)\n"
     ]
    }
   ],
   "source": [
    "df = data[data['final_label'] != -1]\n",
    "df.drop(['label'], axis=1, inplace=True)"
   ]
  },
  {
   "cell_type": "code",
   "execution_count": 27,
   "metadata": {},
   "outputs": [
    {
     "name": "stdout",
     "output_type": "stream",
     "text": [
      "DataFrame with dropped duplicates:\n",
      "                                                    text final_label\n",
      "0       I'll only consume if I know what's inside it....           1\n",
      "1       It is easier to fool a million people than it...           0\n",
      "2       NATURAL IMMUNITY  protected us since evolutio...           0\n",
      "3       NATURAL IMMUNITY  protected us since evolutio...           0\n",
      "4       Proud to have resisted. Proud of my husband, ...           0\n",
      "...                                                  ...         ...\n",
      "50063  🤣 keep your 💩 I already know 3 people who have...           0\n",
      "50064  🤣🤣🤣 \"JUST BECAUSE IT'S SAFE, DOESN'T MEAN IT D...           0\n",
      "50065  🤣🤣🤣 I took the Vaccine because of work. If I d...           0\n",
      "50066  🤨there's people already having severe side eff...           0\n",
      "50067  🥦I ❤my covid vaccines and I'm so excited for m...           1\n",
      "\n",
      "[47370 rows x 2 columns]\n",
      "\n",
      "DataFrame containing dropped rows:\n",
      "                                                    text final_label\n",
      "7655   For the first time in history the ineffectiven...           0\n",
      "25001  Kudos to all of you who didn't cave to the pre...           0\n",
      "35411  The best vaccine right now is the one you’re o...           1\n",
      "41632  Vaccines are safe so is Russian roulette until...           0\n",
      "44346          Why be immune, when you can be invincible           0\n"
     ]
    }
   ],
   "source": [
    "# Drop duplicates based on the \"text\" column\n",
    "final_df= df.drop_duplicates(subset=['text'])\n",
    "\n",
    "# Create a DataFrame containing only the dropped rows\n",
    "dropped_rows_df = df[~df.index.isin(final_df.index)]\n",
    "\n",
    "# Print the DataFrame with dropped duplicates\n",
    "print(\"DataFrame with dropped duplicates:\")\n",
    "print(final_df)\n",
    "\n",
    "# Print the DataFrame containing dropped rows\n",
    "print(\"\\nDataFrame containing dropped rows:\")\n",
    "print(dropped_rows_df)"
   ]
  },
  {
   "cell_type": "code",
   "execution_count": 28,
   "metadata": {},
   "outputs": [],
   "source": [
    "X = df['text']\n",
    "y = df['final_label']\n",
    "X_train, X_test, y_train, y_test = train_test_split(X, y, test_size=0.2, random_state=42)"
   ]
  },
  {
   "cell_type": "code",
   "execution_count": 29,
   "metadata": {},
   "outputs": [],
   "source": [
    "# Pipeline for Logistic Regression with TfidfVectorizer\n",
    "pipeline = Pipeline([\n",
    "    ('tfidf', TfidfVectorizer()),\n",
    "    ('clf', LogisticRegression())\n",
    "])"
   ]
  },
  {
   "cell_type": "code",
   "execution_count": 34,
   "metadata": {},
   "outputs": [
    {
     "name": "stdout",
     "output_type": "stream",
     "text": [
      "Best hyperparameters: {'clf__C': 10.0, 'tfidf__max_features': 3000, 'tfidf__ngram_range': (1, 2)}\n"
     ]
    }
   ],
   "source": [
    "param_grid = {\n",
    "    'tfidf__max_features': [1000, 2000, 3000],\n",
    "    'tfidf__ngram_range': [(1, 1), (1, 2)],\n",
    "    'clf__C': [0.1, 1.0, 10.0],\n",
    "}\n",
    "\n",
    "# Perform GridSearchCV\n",
    "grid_search = GridSearchCV(pipeline, param_grid, cv=5, n_jobs=-1)\n",
    "grid_search.fit(X_train, y_train)\n",
    "\n",
    "# Print best hyperparameters\n",
    "print(\"Best hyperparameters:\", grid_search.best_params_)\n"
   ]
  },
  {
   "cell_type": "markdown",
   "metadata": {},
   "source": []
  },
  {
   "cell_type": "code",
   "execution_count": 35,
   "metadata": {},
   "outputs": [
    {
     "name": "stdout",
     "output_type": "stream",
     "text": [
      "Accuracy on test set: 0.8162532981530343\n"
     ]
    }
   ],
   "source": [
    "\n",
    "# Evaluate on test set\n",
    "accuracy = grid_search.best_estimator_.score(X_test, y_test)\n",
    "print(\"Accuracy on test set:\", accuracy)"
   ]
  },
  {
   "cell_type": "code",
   "execution_count": null,
   "metadata": {},
   "outputs": [],
   "source": []
  }
 ],
 "metadata": {
  "kernelspec": {
   "display_name": "Python 3",
   "language": "python",
   "name": "python3"
  },
  "language_info": {
   "codemirror_mode": {
    "name": "ipython",
    "version": 3
   },
   "file_extension": ".py",
   "mimetype": "text/x-python",
   "name": "python",
   "nbconvert_exporter": "python",
   "pygments_lexer": "ipython3",
   "version": "3.12.1"
  }
 },
 "nbformat": 4,
 "nbformat_minor": 2
}
