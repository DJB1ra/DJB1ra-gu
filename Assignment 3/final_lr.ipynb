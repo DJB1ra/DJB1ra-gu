{
 "cells": [
  {
   "cell_type": "code",
   "execution_count": 2,
   "metadata": {},
   "outputs": [],
   "source": [
    "import pandas as pd\n",
    "from sklearn.feature_extraction.text import TfidfVectorizer\n",
    "from sklearn.model_selection import train_test_split, GridSearchCV\n",
    "from sklearn.pipeline import Pipeline\n",
    "from sklearn.linear_model import LogisticRegression\n",
    "import random\n",
    "from collections import Counter\n"
   ]
  },
  {
   "cell_type": "code",
   "execution_count": 3,
   "metadata": {},
   "outputs": [],
   "source": [
    "# read data from file\n",
    "data = pd.read_csv('a3_train_final.tsv',sep='\\t', header=None, names=['label', 'text'])"
   ]
  },
  {
   "cell_type": "code",
   "execution_count": 6,
   "metadata": {},
   "outputs": [],
   "source": [
    "# This function separates the annotations in the label column and marks indecisive cases like 1/0 with -1. -1 will be dropped later\n",
    "# Function to process labels\n",
    "def process_labels(label):\n",
    "    label_list = label.split(\"/\")\n",
    "    label_list = [l for l in label_list if l != \"-1\"]  # Drop -1 labels\n",
    "    if len(label_list) == 1:\n",
    "        return label_list[0]  # Return the single label\n",
    "    else:\n",
    "        counter = Counter(label_list)\n",
    "        max_vote = max(counter.values())\n",
    "        majority_labels = [l for l, count in counter.items() if count == max_vote]\n",
    "        if len(majority_labels) == 1:\n",
    "            return random.choice(majority_labels)  # Randomly choose from majority labels\n",
    "        else:\n",
    "            return -1"
   ]
  },
  {
   "cell_type": "code",
   "execution_count": 7,
   "metadata": {},
   "outputs": [],
   "source": [
    "# Apply label processing\n",
    "data['final_label'] = data['label'].apply(process_labels)"
   ]
  },
  {
   "cell_type": "code",
   "execution_count": 17,
   "metadata": {},
   "outputs": [
    {
     "data": {
      "text/html": [
       "<div>\n",
       "<style scoped>\n",
       "    .dataframe tbody tr th:only-of-type {\n",
       "        vertical-align: middle;\n",
       "    }\n",
       "\n",
       "    .dataframe tbody tr th {\n",
       "        vertical-align: top;\n",
       "    }\n",
       "\n",
       "    .dataframe thead th {\n",
       "        text-align: right;\n",
       "    }\n",
       "</style>\n",
       "<table border=\"1\" class=\"dataframe\">\n",
       "  <thead>\n",
       "    <tr style=\"text-align: right;\">\n",
       "      <th></th>\n",
       "      <th>label</th>\n",
       "      <th>text</th>\n",
       "      <th>final_label</th>\n",
       "    </tr>\n",
       "  </thead>\n",
       "  <tbody>\n",
       "    <tr>\n",
       "      <th>0</th>\n",
       "      <td>1/1</td>\n",
       "      <td>I'll only consume if I know what's inside it....</td>\n",
       "      <td>1</td>\n",
       "    </tr>\n",
       "    <tr>\n",
       "      <th>1</th>\n",
       "      <td>0/-1</td>\n",
       "      <td>It is easier to fool a million people than it...</td>\n",
       "      <td>0</td>\n",
       "    </tr>\n",
       "    <tr>\n",
       "      <th>2</th>\n",
       "      <td>0/0</td>\n",
       "      <td>NATURAL IMMUNITY  protected us since evolutio...</td>\n",
       "      <td>0</td>\n",
       "    </tr>\n",
       "    <tr>\n",
       "      <th>3</th>\n",
       "      <td>0/-1</td>\n",
       "      <td>NATURAL IMMUNITY  protected us since evolutio...</td>\n",
       "      <td>0</td>\n",
       "    </tr>\n",
       "    <tr>\n",
       "      <th>4</th>\n",
       "      <td>0/0</td>\n",
       "      <td>Proud to have resisted. Proud of my husband, ...</td>\n",
       "      <td>0</td>\n",
       "    </tr>\n",
       "    <tr>\n",
       "      <th>5</th>\n",
       "      <td>1/1/1/-1</td>\n",
       "      <td>The bigest sideffect of vaccines is fewer dea...</td>\n",
       "      <td>1</td>\n",
       "    </tr>\n",
       "    <tr>\n",
       "      <th>6</th>\n",
       "      <td>1/-1</td>\n",
       "      <td>Unvaccinated people are more likely to become...</td>\n",
       "      <td>1</td>\n",
       "    </tr>\n",
       "    <tr>\n",
       "      <th>7</th>\n",
       "      <td>1/1</td>\n",
       "      <td>Vaccine takes more than a year to develop.  T...</td>\n",
       "      <td>1</td>\n",
       "    </tr>\n",
       "    <tr>\n",
       "      <th>8</th>\n",
       "      <td>0/0</td>\n",
       "      <td>YES IM A TRUCKER FROM USA AND I WONT GET VACC...</td>\n",
       "      <td>0</td>\n",
       "    </tr>\n",
       "    <tr>\n",
       "      <th>9</th>\n",
       "      <td>0/0</td>\n",
       "      <td>covid vaccines are safe  , Goes to show , if ...</td>\n",
       "      <td>0</td>\n",
       "    </tr>\n",
       "    <tr>\n",
       "      <th>10</th>\n",
       "      <td>1/-1</td>\n",
       "      <td>just because I don't have dr in front of my n...</td>\n",
       "      <td>1</td>\n",
       "    </tr>\n",
       "    <tr>\n",
       "      <th>11</th>\n",
       "      <td>1/1</td>\n",
       "      <td>out of anger People say stupid things man is ...</td>\n",
       "      <td>1</td>\n",
       "    </tr>\n",
       "    <tr>\n",
       "      <th>12</th>\n",
       "      <td>1/0</td>\n",
       "      <td>The government is trying to give grandparents ...</td>\n",
       "      <td>-1</td>\n",
       "    </tr>\n",
       "    <tr>\n",
       "      <th>13</th>\n",
       "      <td>0/0</td>\n",
       "      <td>... it's been politicized in a way that has co...</td>\n",
       "      <td>0</td>\n",
       "    </tr>\n",
       "    <tr>\n",
       "      <th>14</th>\n",
       "      <td>0/-1</td>\n",
       "      <td>... sole assessment of prior infections &amp; #Cov...</td>\n",
       "      <td>0</td>\n",
       "    </tr>\n",
       "  </tbody>\n",
       "</table>\n",
       "</div>"
      ],
      "text/plain": [
       "       label                                               text final_label\n",
       "0        1/1   I'll only consume if I know what's inside it....           1\n",
       "1       0/-1   It is easier to fool a million people than it...           0\n",
       "2        0/0   NATURAL IMMUNITY  protected us since evolutio...           0\n",
       "3       0/-1   NATURAL IMMUNITY  protected us since evolutio...           0\n",
       "4        0/0   Proud to have resisted. Proud of my husband, ...           0\n",
       "5   1/1/1/-1   The bigest sideffect of vaccines is fewer dea...           1\n",
       "6       1/-1   Unvaccinated people are more likely to become...           1\n",
       "7        1/1   Vaccine takes more than a year to develop.  T...           1\n",
       "8        0/0   YES IM A TRUCKER FROM USA AND I WONT GET VACC...           0\n",
       "9        0/0   covid vaccines are safe  , Goes to show , if ...           0\n",
       "10      1/-1   just because I don't have dr in front of my n...           1\n",
       "11       1/1   out of anger People say stupid things man is ...           1\n",
       "12       1/0  The government is trying to give grandparents ...          -1\n",
       "13       0/0  ... it's been politicized in a way that has co...           0\n",
       "14      0/-1  ... sole assessment of prior infections & #Cov...           0"
      ]
     },
     "execution_count": 17,
     "metadata": {},
     "output_type": "execute_result"
    }
   ],
   "source": [
    "# checking if it worked\n",
    "data.head(15)"
   ]
  },
  {
   "cell_type": "code",
   "execution_count": 18,
   "metadata": {},
   "outputs": [
    {
     "data": {
      "text/plain": [
       "50068"
      ]
     },
     "execution_count": 18,
     "metadata": {},
     "output_type": "execute_result"
    }
   ],
   "source": [
    "len(data)"
   ]
  },
  {
   "cell_type": "code",
   "execution_count": 15,
   "metadata": {},
   "outputs": [],
   "source": [
    "# filter out indecisive text and drop label column; not relevant for training and evaluation\n",
    "df = data[data['final_label'] != -1]\n",
    "df = df.drop(['label'], axis=1)"
   ]
  },
  {
   "cell_type": "code",
   "execution_count": 27,
   "metadata": {},
   "outputs": [
    {
     "name": "stdout",
     "output_type": "stream",
     "text": [
      "DataFrame with dropped duplicates:\n",
      "                                                    text final_label\n",
      "0       I'll only consume if I know what's inside it....           1\n",
      "1       It is easier to fool a million people than it...           0\n",
      "2       NATURAL IMMUNITY  protected us since evolutio...           0\n",
      "3       NATURAL IMMUNITY  protected us since evolutio...           0\n",
      "4       Proud to have resisted. Proud of my husband, ...           0\n",
      "...                                                  ...         ...\n",
      "50063  🤣 keep your 💩 I already know 3 people who have...           0\n",
      "50064  🤣🤣🤣 \"JUST BECAUSE IT'S SAFE, DOESN'T MEAN IT D...           0\n",
      "50065  🤣🤣🤣 I took the Vaccine because of work. If I d...           0\n",
      "50066  🤨there's people already having severe side eff...           0\n",
      "50067  🥦I ❤my covid vaccines and I'm so excited for m...           1\n",
      "\n",
      "[47370 rows x 2 columns]\n",
      "\n",
      "DataFrame containing dropped rows:\n",
      "                                                    text final_label\n",
      "7655   For the first time in history the ineffectiven...           0\n",
      "25001  Kudos to all of you who didn't cave to the pre...           0\n",
      "35411  The best vaccine right now is the one you’re o...           1\n",
      "41632  Vaccines are safe so is Russian roulette until...           0\n",
      "44346          Why be immune, when you can be invincible           0\n"
     ]
    }
   ],
   "source": [
    "# Drop duplicates based on the \"text\" column\n",
    "final_df= df.drop_duplicates(subset=['text'])\n",
    "\n",
    "# Create a DataFrame containing only the dropped rows\n",
    "dropped_rows_df = df[~df.index.isin(final_df.index)]\n",
    "\n",
    "# Print the DataFrame with dropped duplicates\n",
    "print(\"DataFrame with dropped duplicates:\")\n",
    "print(final_df)\n",
    "\n",
    "# Print the DataFrame containing dropped rows\n",
    "print(\"\\nDataFrame containing dropped rows:\")\n",
    "print(dropped_rows_df)"
   ]
  },
  {
   "cell_type": "code",
   "execution_count": 28,
   "metadata": {},
   "outputs": [],
   "source": [
    "# Divide into label and data\n",
    "X = df['text']\n",
    "y = df['final_label']\n",
    "# Divide data into train and test set\n",
    "X_train, X_test, y_train, y_test = train_test_split(X, y, test_size=0.2, random_state=42)"
   ]
  },
  {
   "cell_type": "code",
   "execution_count": 29,
   "metadata": {},
   "outputs": [],
   "source": [
    "# Pipeline for Logistic Regression with TfidfVectorizer\n",
    "pipeline = Pipeline([\n",
    "    ('tfidf', TfidfVectorizer()),\n",
    "    ('clf', LogisticRegression())\n",
    "])"
   ]
  },
  {
   "cell_type": "code",
   "execution_count": 34,
   "metadata": {},
   "outputs": [
    {
     "name": "stdout",
     "output_type": "stream",
     "text": [
      "Best hyperparameters: {'clf__C': 10.0, 'tfidf__max_features': 3000, 'tfidf__ngram_range': (1, 2)}\n"
     ]
    }
   ],
   "source": [
    "# Hyperparameters\n",
    "# Define the parameter grid\n",
    "param_grid = {\n",
    "    'tfidf__max_features': [1000, 2000, 3000],\n",
    "    'tfidf__ngram_range': [(1, 1), (1, 2)],\n",
    "    'clf__C': [0.1, 1.0, 10.0],\n",
    "    'clf__penalty': ['l1', 'l2'],  # Regularization penalty\n",
    "    'clf__solver': ['liblinear', 'saga'],  # Solver algorithm for logistic regression\n",
    "    'clf__max_iter': [1000],  # Maximum number of iterations\n",
    "}\n",
    "\n",
    "# Perform GridSearchCV\n",
    "grid_search = GridSearchCV(pipeline, param_grid, cv=5, n_jobs=-1)\n",
    "grid_search.fit(X_train, y_train)\n",
    "\n",
    "# Print best hyperparameters\n",
    "print(\"Best hyperparameters:\", grid_search.best_params_)\n"
   ]
  },
  {
   "cell_type": "markdown",
   "metadata": {},
   "source": []
  },
  {
   "cell_type": "code",
   "execution_count": 35,
   "metadata": {},
   "outputs": [
    {
     "name": "stdout",
     "output_type": "stream",
     "text": [
      "Accuracy on test set: 0.8162532981530343\n"
     ]
    }
   ],
   "source": [
    "# Evaluate on test set\n",
    "accuracy = grid_search.best_estimator_.score(X_test, y_test)\n",
    "print(\"Accuracy on test set:\", accuracy)"
   ]
  },
  {
   "cell_type": "code",
   "execution_count": null,
   "metadata": {},
   "outputs": [],
   "source": [
    "from sklearn.metrics import classification_report\n",
    "\n",
    "# Generate predictions\n",
    "y_pred = grid_search.best_estimator_.predict(X_test)\n",
    "\n",
    "# Generate classification report\n",
    "report = classification_report(y_test, y_pred)\n",
    "\n",
    "# Print the report\n",
    "print(\"Classification Report:\\n\", report)"
   ]
  }
 ],
 "metadata": {
  "kernelspec": {
   "display_name": "Python 3",
   "language": "python",
   "name": "python3"
  },
  "language_info": {
   "codemirror_mode": {
    "name": "ipython",
    "version": 3
   },
   "file_extension": ".py",
   "mimetype": "text/x-python",
   "name": "python",
   "nbconvert_exporter": "python",
   "pygments_lexer": "ipython3",
   "version": "3.12.1"
  }
 },
 "nbformat": 4,
 "nbformat_minor": 2
}
