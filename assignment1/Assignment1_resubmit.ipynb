{
 "cells": [
  {
   "cell_type": "markdown",
   "id": "b0583977-b887-4558-95e6-a1308cba220f",
   "metadata": {},
   "source": [
    "<h2> AUTHORS: Albin Larsson & Alex Wolf"
   ]
  },
  {
   "cell_type": "code",
   "execution_count": 45,
   "id": "1ca60221-b5ff-476e-b824-ee0f6bb0781d",
   "metadata": {
    "tags": []
   },
   "outputs": [],
   "source": [
    "from sklearn.dummy import DummyClassifier\n",
    "import numpy as np\n",
    "from sklearn.tree import DecisionTreeClassifier\n",
    "import pandas as pd\n",
    "from sklearn.model_selection import train_test_split\n",
    "from sklearn.model_selection import cross_val_score\n",
    "from sklearn.metrics import accuracy_score\n",
    "from sklearn.ensemble import RandomForestClassifier\n",
    "from sklearn.ensemble import GradientBoostingClassifier\n",
    "from sklearn.linear_model import Perceptron\n",
    "from sklearn.svm import LinearSVC\n",
    "from sklearn.pipeline import make_pipeline\n",
    "from sklearn.neural_network import MLPClassifier\n",
    "from sklearn.preprocessing import StandardScaler\n",
    "import matplotlib.pyplot as plt\n",
    "from sklearn.ensemble import RandomForestRegressor\n",
    "from sklearn.metrics import mean_squared_error\n",
    "from sklearn.dummy import DummyRegressor\n",
    "from sklearn.model_selection import cross_validate"
   ]
  },
  {
   "cell_type": "code",
   "execution_count": 46,
   "id": "593f263e-ced1-4af8-95de-0706083b04c7",
   "metadata": {
    "tags": []
   },
   "outputs": [],
   "source": [
    "import warnings\n",
    "warnings.filterwarnings(\"ignore\")"
   ]
  },
  {
   "cell_type": "markdown",
   "id": "1fe19908-0df4-44d2-94d4-e0ee40d5ee9e",
   "metadata": {},
   "source": [
    "TASK 1: A classification example: fetal heart condition diagnosis"
   ]
  },
  {
   "cell_type": "markdown",
   "id": "0cd371e3-66a6-41d3-82de-97f32b4287ad",
   "metadata": {},
   "source": [
    "Step 1. Reading the data"
   ]
  },
  {
   "cell_type": "code",
   "execution_count": 47,
   "id": "8214fa1c-cc87-4047-9f35-a002433a7134",
   "metadata": {
    "tags": []
   },
   "outputs": [],
   "source": [
    "# Read the CSV file.\n",
    "data = pd.read_csv(\"CTG.csv\", skiprows=1)\n",
    "\n",
    "# Select the relevant numerical columns.\n",
    "selected_cols = ['LB', 'AC', 'FM', 'UC', 'DL', 'DS', 'DP', 'ASTV', 'MSTV', 'ALTV',\n",
    "                 'MLTV', 'Width', 'Min', 'Max', 'Nmax', 'Nzeros', 'Mode', 'Mean',\n",
    "                 'Median', 'Variance', 'Tendency', 'NSP']\n",
    "data = data[selected_cols].dropna()\n",
    "\n",
    "# Shuffle the dataset.\n",
    "data_shuffled = data.sample(frac=1.0, random_state=0)\n",
    "\n",
    "# Split into input part X and output part Y.\n",
    "X = data_shuffled.drop('NSP', axis=1)\n",
    "\n",
    "# Map the diagnosis code to a human-readable label.\n",
    "def to_label(y):\n",
    "    return [None, 'normal', 'suspect', 'pathologic'][(int(y))]\n",
    "\n",
    "Y = data_shuffled['NSP'].apply(to_label)\n",
    "\n",
    "# Partition the data into training and test sets.\n",
    "Xtrain, Xtest, Ytrain, Ytest = train_test_split(X, Y, test_size=0.2, random_state=0)"
   ]
  },
  {
   "cell_type": "markdown",
   "id": "635d48c4-d412-48f6-9bf2-f5a28ff896b4",
   "metadata": {},
   "source": [
    "Step 2: Training a dummy classifier"
   ]
  },
  {
   "cell_type": "code",
   "execution_count": 48,
   "id": "a5d16412-4f4c-4687-9b34-b0e34a89ecfb",
   "metadata": {
    "tags": []
   },
   "outputs": [],
   "source": [
    "dummyclassifier = DummyClassifier(strategy='most_frequent')"
   ]
  },
  {
   "cell_type": "code",
   "execution_count": 49,
   "id": "5b950017-55c5-4fb1-a948-891b0c03e7b1",
   "metadata": {
    "tags": []
   },
   "outputs": [
    {
     "data": {
      "text/plain": [
       "0.7805882352941176"
      ]
     },
     "execution_count": 49,
     "metadata": {},
     "output_type": "execute_result"
    }
   ],
   "source": [
    "np.average(cross_val_score(dummyclassifier, Xtrain, Ytrain))"
   ]
  },
  {
   "cell_type": "markdown",
   "id": "29e5ecf4-ec06-4980-992d-3daaf58542ec",
   "metadata": {},
   "source": [
    "Step 3: Trying out some different classifiers"
   ]
  },
  {
   "cell_type": "markdown",
   "id": "e7de62a0-3fe1-4705-b136-191bd52eac43",
   "metadata": {},
   "source": [
    "Trying a basic tree:"
   ]
  },
  {
   "cell_type": "code",
   "execution_count": 50,
   "id": "7d783182-92ff-4d47-8f76-e19de0c1175e",
   "metadata": {
    "tags": []
   },
   "outputs": [],
   "source": [
    "decisiontree = DecisionTreeClassifier(random_state=0)"
   ]
  },
  {
   "cell_type": "code",
   "execution_count": 51,
   "id": "6f5d8347-1fe9-4e74-b103-d6e02c5ebfb3",
   "metadata": {
    "tags": []
   },
   "outputs": [
    {
     "data": {
      "text/plain": [
       "0.9241176470588235"
      ]
     },
     "execution_count": 51,
     "metadata": {},
     "output_type": "execute_result"
    }
   ],
   "source": [
    "np.average(cross_val_score(decisiontree, Xtrain, Ytrain))"
   ]
  },
  {
   "cell_type": "markdown",
   "id": "bc0b95ed-97bf-4ad5-8822-8494bc942428",
   "metadata": {},
   "source": [
    "Then we try an ensemble of decision trees:<br>\n",
    "It seems like 4-5 is the most \"bang for buck\" depth (we just messed around with the depth parameter). WE used this to cross validate and take the average. Pretty good score!\n"
   ]
  },
  {
   "cell_type": "code",
   "execution_count": 68,
   "id": "4927be61-ff37-426e-ba0d-1c19357a1c82",
   "metadata": {
    "tags": []
   },
   "outputs": [],
   "source": [
    "randomforest = RandomForestClassifier(max_depth=5, random_state=0)"
   ]
  },
  {
   "cell_type": "code",
   "execution_count": 69,
   "id": "59585766-e226-49c5-ac71-f23179491ede",
   "metadata": {
    "tags": []
   },
   "outputs": [
    {
     "data": {
      "text/plain": [
       "0.9241176470588236"
      ]
     },
     "execution_count": 69,
     "metadata": {},
     "output_type": "execute_result"
    }
   ],
   "source": [
    "np.average(cross_val_score(randomforest, Xtrain, Ytrain))"
   ]
  },
  {
   "cell_type": "markdown",
   "id": "729bfa12-0d55-47ea-890d-3e537d203ec4",
   "metadata": {},
   "source": [
    "Gradient boosting testing:"
   ]
  },
  {
   "cell_type": "code",
   "execution_count": 70,
   "id": "e4f32b16-539f-4644-b4e9-6ca17e580962",
   "metadata": {
    "tags": []
   },
   "outputs": [],
   "source": [
    "gradientboosting = GradientBoostingClassifier(n_estimators=100, learning_rate=1.0,\n",
    "                                              max_depth=1, random_state=0).fit(Xtrain, Ytrain)"
   ]
  },
  {
   "cell_type": "code",
   "execution_count": 71,
   "id": "537c39c4-3652-4853-bedf-cd055d0661c6",
   "metadata": {
    "tags": []
   },
   "outputs": [
    {
     "data": {
      "text/plain": [
       "0.9170588235294117"
      ]
     },
     "execution_count": 71,
     "metadata": {},
     "output_type": "execute_result"
    }
   ],
   "source": [
    "np.average(cross_val_score(gradientboosting, Xtrain, Ytrain))"
   ]
  },
  {
   "cell_type": "markdown",
   "id": "160d6aad-dbe4-4e28-ae68-54a1c897c271",
   "metadata": {},
   "source": [
    "A single perceptron test:"
   ]
  },
  {
   "cell_type": "code",
   "execution_count": 72,
   "id": "92971782-e899-44c2-9f1f-b620032c7dfa",
   "metadata": {
    "tags": []
   },
   "outputs": [
    {
     "data": {
      "text/html": [
       "<style>#sk-container-id-4 {color: black;}#sk-container-id-4 pre{padding: 0;}#sk-container-id-4 div.sk-toggleable {background-color: white;}#sk-container-id-4 label.sk-toggleable__label {cursor: pointer;display: block;width: 100%;margin-bottom: 0;padding: 0.3em;box-sizing: border-box;text-align: center;}#sk-container-id-4 label.sk-toggleable__label-arrow:before {content: \"▸\";float: left;margin-right: 0.25em;color: #696969;}#sk-container-id-4 label.sk-toggleable__label-arrow:hover:before {color: black;}#sk-container-id-4 div.sk-estimator:hover label.sk-toggleable__label-arrow:before {color: black;}#sk-container-id-4 div.sk-toggleable__content {max-height: 0;max-width: 0;overflow: hidden;text-align: left;background-color: #f0f8ff;}#sk-container-id-4 div.sk-toggleable__content pre {margin: 0.2em;color: black;border-radius: 0.25em;background-color: #f0f8ff;}#sk-container-id-4 input.sk-toggleable__control:checked~div.sk-toggleable__content {max-height: 200px;max-width: 100%;overflow: auto;}#sk-container-id-4 input.sk-toggleable__control:checked~label.sk-toggleable__label-arrow:before {content: \"▾\";}#sk-container-id-4 div.sk-estimator input.sk-toggleable__control:checked~label.sk-toggleable__label {background-color: #d4ebff;}#sk-container-id-4 div.sk-label input.sk-toggleable__control:checked~label.sk-toggleable__label {background-color: #d4ebff;}#sk-container-id-4 input.sk-hidden--visually {border: 0;clip: rect(1px 1px 1px 1px);clip: rect(1px, 1px, 1px, 1px);height: 1px;margin: -1px;overflow: hidden;padding: 0;position: absolute;width: 1px;}#sk-container-id-4 div.sk-estimator {font-family: monospace;background-color: #f0f8ff;border: 1px dotted black;border-radius: 0.25em;box-sizing: border-box;margin-bottom: 0.5em;}#sk-container-id-4 div.sk-estimator:hover {background-color: #d4ebff;}#sk-container-id-4 div.sk-parallel-item::after {content: \"\";width: 100%;border-bottom: 1px solid gray;flex-grow: 1;}#sk-container-id-4 div.sk-label:hover label.sk-toggleable__label {background-color: #d4ebff;}#sk-container-id-4 div.sk-serial::before {content: \"\";position: absolute;border-left: 1px solid gray;box-sizing: border-box;top: 0;bottom: 0;left: 50%;z-index: 0;}#sk-container-id-4 div.sk-serial {display: flex;flex-direction: column;align-items: center;background-color: white;padding-right: 0.2em;padding-left: 0.2em;position: relative;}#sk-container-id-4 div.sk-item {position: relative;z-index: 1;}#sk-container-id-4 div.sk-parallel {display: flex;align-items: stretch;justify-content: center;background-color: white;position: relative;}#sk-container-id-4 div.sk-item::before, #sk-container-id-4 div.sk-parallel-item::before {content: \"\";position: absolute;border-left: 1px solid gray;box-sizing: border-box;top: 0;bottom: 0;left: 50%;z-index: -1;}#sk-container-id-4 div.sk-parallel-item {display: flex;flex-direction: column;z-index: 1;position: relative;background-color: white;}#sk-container-id-4 div.sk-parallel-item:first-child::after {align-self: flex-end;width: 50%;}#sk-container-id-4 div.sk-parallel-item:last-child::after {align-self: flex-start;width: 50%;}#sk-container-id-4 div.sk-parallel-item:only-child::after {width: 0;}#sk-container-id-4 div.sk-dashed-wrapped {border: 1px dashed gray;margin: 0 0.4em 0.5em 0.4em;box-sizing: border-box;padding-bottom: 0.4em;background-color: white;}#sk-container-id-4 div.sk-label label {font-family: monospace;font-weight: bold;display: inline-block;line-height: 1.2em;}#sk-container-id-4 div.sk-label-container {text-align: center;}#sk-container-id-4 div.sk-container {/* jupyter's `normalize.less` sets `[hidden] { display: none; }` but bootstrap.min.css set `[hidden] { display: none !important; }` so we also need the `!important` here to be able to override the default hidden behavior on the sphinx rendered scikit-learn.org. See: https://github.com/scikit-learn/scikit-learn/issues/21755 */display: inline-block !important;position: relative;}#sk-container-id-4 div.sk-text-repr-fallback {display: none;}</style><div id=\"sk-container-id-4\" class=\"sk-top-container\"><div class=\"sk-text-repr-fallback\"><pre>Perceptron()</pre><b>In a Jupyter environment, please rerun this cell to show the HTML representation or trust the notebook. <br />On GitHub, the HTML representation is unable to render, please try loading this page with nbviewer.org.</b></div><div class=\"sk-container\" hidden><div class=\"sk-item\"><div class=\"sk-estimator sk-toggleable\"><input class=\"sk-toggleable__control sk-hidden--visually\" id=\"sk-estimator-id-6\" type=\"checkbox\" checked><label for=\"sk-estimator-id-6\" class=\"sk-toggleable__label sk-toggleable__label-arrow\">Perceptron</label><div class=\"sk-toggleable__content\"><pre>Perceptron()</pre></div></div></div></div></div>"
      ],
      "text/plain": [
       "Perceptron()"
      ]
     },
     "execution_count": 72,
     "metadata": {},
     "output_type": "execute_result"
    }
   ],
   "source": [
    "perceptron = Perceptron(tol=1e-3, random_state=0)\n",
    "perceptron.fit(Xtrain, Ytrain)"
   ]
  },
  {
   "cell_type": "code",
   "execution_count": 73,
   "id": "2c5e4cba-b6b3-4978-a603-805fe9e852dd",
   "metadata": {
    "tags": []
   },
   "outputs": [
    {
     "data": {
      "text/plain": [
       "array([0.84705882, 0.88529412, 0.82941176, 0.85294118, 0.71176471])"
      ]
     },
     "execution_count": 73,
     "metadata": {},
     "output_type": "execute_result"
    }
   ],
   "source": [
    "cross_val_score(perceptron, Xtrain, Ytrain)"
   ]
  },
  {
   "cell_type": "code",
   "execution_count": 74,
   "id": "2b6f5fc7-10a9-40f3-b991-4ac2ea58b5c1",
   "metadata": {
    "tags": []
   },
   "outputs": [
    {
     "data": {
      "text/html": [
       "<style>#sk-container-id-5 {color: black;}#sk-container-id-5 pre{padding: 0;}#sk-container-id-5 div.sk-toggleable {background-color: white;}#sk-container-id-5 label.sk-toggleable__label {cursor: pointer;display: block;width: 100%;margin-bottom: 0;padding: 0.3em;box-sizing: border-box;text-align: center;}#sk-container-id-5 label.sk-toggleable__label-arrow:before {content: \"▸\";float: left;margin-right: 0.25em;color: #696969;}#sk-container-id-5 label.sk-toggleable__label-arrow:hover:before {color: black;}#sk-container-id-5 div.sk-estimator:hover label.sk-toggleable__label-arrow:before {color: black;}#sk-container-id-5 div.sk-toggleable__content {max-height: 0;max-width: 0;overflow: hidden;text-align: left;background-color: #f0f8ff;}#sk-container-id-5 div.sk-toggleable__content pre {margin: 0.2em;color: black;border-radius: 0.25em;background-color: #f0f8ff;}#sk-container-id-5 input.sk-toggleable__control:checked~div.sk-toggleable__content {max-height: 200px;max-width: 100%;overflow: auto;}#sk-container-id-5 input.sk-toggleable__control:checked~label.sk-toggleable__label-arrow:before {content: \"▾\";}#sk-container-id-5 div.sk-estimator input.sk-toggleable__control:checked~label.sk-toggleable__label {background-color: #d4ebff;}#sk-container-id-5 div.sk-label input.sk-toggleable__control:checked~label.sk-toggleable__label {background-color: #d4ebff;}#sk-container-id-5 input.sk-hidden--visually {border: 0;clip: rect(1px 1px 1px 1px);clip: rect(1px, 1px, 1px, 1px);height: 1px;margin: -1px;overflow: hidden;padding: 0;position: absolute;width: 1px;}#sk-container-id-5 div.sk-estimator {font-family: monospace;background-color: #f0f8ff;border: 1px dotted black;border-radius: 0.25em;box-sizing: border-box;margin-bottom: 0.5em;}#sk-container-id-5 div.sk-estimator:hover {background-color: #d4ebff;}#sk-container-id-5 div.sk-parallel-item::after {content: \"\";width: 100%;border-bottom: 1px solid gray;flex-grow: 1;}#sk-container-id-5 div.sk-label:hover label.sk-toggleable__label {background-color: #d4ebff;}#sk-container-id-5 div.sk-serial::before {content: \"\";position: absolute;border-left: 1px solid gray;box-sizing: border-box;top: 0;bottom: 0;left: 50%;z-index: 0;}#sk-container-id-5 div.sk-serial {display: flex;flex-direction: column;align-items: center;background-color: white;padding-right: 0.2em;padding-left: 0.2em;position: relative;}#sk-container-id-5 div.sk-item {position: relative;z-index: 1;}#sk-container-id-5 div.sk-parallel {display: flex;align-items: stretch;justify-content: center;background-color: white;position: relative;}#sk-container-id-5 div.sk-item::before, #sk-container-id-5 div.sk-parallel-item::before {content: \"\";position: absolute;border-left: 1px solid gray;box-sizing: border-box;top: 0;bottom: 0;left: 50%;z-index: -1;}#sk-container-id-5 div.sk-parallel-item {display: flex;flex-direction: column;z-index: 1;position: relative;background-color: white;}#sk-container-id-5 div.sk-parallel-item:first-child::after {align-self: flex-end;width: 50%;}#sk-container-id-5 div.sk-parallel-item:last-child::after {align-self: flex-start;width: 50%;}#sk-container-id-5 div.sk-parallel-item:only-child::after {width: 0;}#sk-container-id-5 div.sk-dashed-wrapped {border: 1px dashed gray;margin: 0 0.4em 0.5em 0.4em;box-sizing: border-box;padding-bottom: 0.4em;background-color: white;}#sk-container-id-5 div.sk-label label {font-family: monospace;font-weight: bold;display: inline-block;line-height: 1.2em;}#sk-container-id-5 div.sk-label-container {text-align: center;}#sk-container-id-5 div.sk-container {/* jupyter's `normalize.less` sets `[hidden] { display: none; }` but bootstrap.min.css set `[hidden] { display: none !important; }` so we also need the `!important` here to be able to override the default hidden behavior on the sphinx rendered scikit-learn.org. See: https://github.com/scikit-learn/scikit-learn/issues/21755 */display: inline-block !important;position: relative;}#sk-container-id-5 div.sk-text-repr-fallback {display: none;}</style><div id=\"sk-container-id-5\" class=\"sk-top-container\"><div class=\"sk-text-repr-fallback\"><pre>Pipeline(steps=[(&#x27;standardscaler&#x27;, StandardScaler()),\n",
       "                (&#x27;linearsvc&#x27;,\n",
       "                 LinearSVC(dual=&#x27;auto&#x27;, random_state=0, tol=1e-05))])</pre><b>In a Jupyter environment, please rerun this cell to show the HTML representation or trust the notebook. <br />On GitHub, the HTML representation is unable to render, please try loading this page with nbviewer.org.</b></div><div class=\"sk-container\" hidden><div class=\"sk-item sk-dashed-wrapped\"><div class=\"sk-label-container\"><div class=\"sk-label sk-toggleable\"><input class=\"sk-toggleable__control sk-hidden--visually\" id=\"sk-estimator-id-7\" type=\"checkbox\" ><label for=\"sk-estimator-id-7\" class=\"sk-toggleable__label sk-toggleable__label-arrow\">Pipeline</label><div class=\"sk-toggleable__content\"><pre>Pipeline(steps=[(&#x27;standardscaler&#x27;, StandardScaler()),\n",
       "                (&#x27;linearsvc&#x27;,\n",
       "                 LinearSVC(dual=&#x27;auto&#x27;, random_state=0, tol=1e-05))])</pre></div></div></div><div class=\"sk-serial\"><div class=\"sk-item\"><div class=\"sk-estimator sk-toggleable\"><input class=\"sk-toggleable__control sk-hidden--visually\" id=\"sk-estimator-id-8\" type=\"checkbox\" ><label for=\"sk-estimator-id-8\" class=\"sk-toggleable__label sk-toggleable__label-arrow\">StandardScaler</label><div class=\"sk-toggleable__content\"><pre>StandardScaler()</pre></div></div></div><div class=\"sk-item\"><div class=\"sk-estimator sk-toggleable\"><input class=\"sk-toggleable__control sk-hidden--visually\" id=\"sk-estimator-id-9\" type=\"checkbox\" ><label for=\"sk-estimator-id-9\" class=\"sk-toggleable__label sk-toggleable__label-arrow\">LinearSVC</label><div class=\"sk-toggleable__content\"><pre>LinearSVC(dual=&#x27;auto&#x27;, random_state=0, tol=1e-05)</pre></div></div></div></div></div></div></div>"
      ],
      "text/plain": [
       "Pipeline(steps=[('standardscaler', StandardScaler()),\n",
       "                ('linearsvc',\n",
       "                 LinearSVC(dual='auto', random_state=0, tol=1e-05))])"
      ]
     },
     "execution_count": 74,
     "metadata": {},
     "output_type": "execute_result"
    }
   ],
   "source": [
    "svc = make_pipeline(StandardScaler(),LinearSVC(dual=\"auto\", random_state=0, tol=1e-5))\n",
    "svc.fit(Xtrain, Ytrain)"
   ]
  },
  {
   "cell_type": "code",
   "execution_count": 75,
   "id": "526abee8-eee3-42b7-aa39-e7965594ef33",
   "metadata": {
    "tags": []
   },
   "outputs": [
    {
     "data": {
      "text/plain": [
       "array([0.88529412, 0.90882353, 0.86176471, 0.89705882, 0.90294118])"
      ]
     },
     "execution_count": 75,
     "metadata": {},
     "output_type": "execute_result"
    }
   ],
   "source": [
    "cross_val_score(svc, Xtrain, Ytrain)"
   ]
  },
  {
   "cell_type": "markdown",
   "id": "4fd2d78d-956c-4fc8-b224-30333a7ac6c9",
   "metadata": {},
   "source": [
    "We select the random forest with our depth as 5 as we evaluated on the training set."
   ]
  },
  {
   "cell_type": "code",
   "execution_count": 77,
   "id": "f24ded83-bdde-4431-a58b-c78a6e266778",
   "metadata": {
    "tags": []
   },
   "outputs": [
    {
     "name": "stdout",
     "output_type": "stream",
     "text": [
      "0.8990610328638498\n"
     ]
    }
   ],
   "source": [
    "randomforest.fit(Xtrain, Ytrain)\n",
    "Yguess = randomforest.predict(Xtest)\n",
    "print(accuracy_score(Ytest, Yguess))"
   ]
  },
  {
   "cell_type": "markdown",
   "id": "ad1a7b9a-919a-49aa-827d-6f94579d00cb",
   "metadata": {},
   "source": [
    "As we can see above our 5 selected type of models has different scores on the cross validation. We chose to not tune too many hyperparameters (only some few) since it is an impossible job to select the perfect hyperparameters. We are happy with the selection given our limited time on this assignment. We chose the Random Forest as the \"final\" model because it had the highest cross validaton among the sample of models. Random forest is just an ensemble of decision trees but with additional things. It is trained on a subsamble of the training set (Bagging). It has some other hyperparameters but to not spend too much time on this assignment we selected Random Forest. The final accuracy is actually very high!"
   ]
  },
  {
   "cell_type": "markdown",
   "id": "df770ce1-6e55-44d1-a4e2-87feeb260589",
   "metadata": {},
   "source": [
    "TASK 2: Decision trees for classification"
   ]
  },
  {
   "cell_type": "code",
   "execution_count": 79,
   "id": "7c3675b8-7b9e-4ebb-92f0-c731944d41ca",
   "metadata": {
    "tags": []
   },
   "outputs": [],
   "source": [
    "data = pd.read_csv('iris.csv')\n",
    "data_shuffled = data.sample(frac=1.0, random_state=0)\n",
    "X = data_shuffled.drop('species', axis=1)\n",
    "Y = data_shuffled['species']"
   ]
  },
  {
   "cell_type": "code",
   "execution_count": 80,
   "id": "478fc6d4-c61e-4be4-88d2-8c9fc7cb9357",
   "metadata": {
    "tags": []
   },
   "outputs": [],
   "source": [
    "Xtrain, Xtest, Ytrain, Ytest = train_test_split(X, Y, test_size=0.4, random_state=0)"
   ]
  },
  {
   "cell_type": "code",
   "execution_count": 81,
   "id": "2bc61f2f-1aef-4122-8552-5b06a70f15e2",
   "metadata": {
    "tags": []
   },
   "outputs": [],
   "source": [
    "X2 = X[['petal_length', 'petal_width']]\n",
    "Y_encoded = Y.replace({'setosa':0, 'versicolor':1, 'virginica':2})"
   ]
  },
  {
   "cell_type": "code",
   "execution_count": 82,
   "id": "09182431-8050-4496-bbbf-d3d0cbcd0f5b",
   "metadata": {
    "tags": []
   },
   "outputs": [],
   "source": [
    "class DecisionTreeLeaf:\n",
    "\n",
    "    def __init__(self, value):\n",
    "        self.value = value\n",
    "\n",
    "    # This method computes the prediction for this leaf node. This will just return a constant value.\n",
    "    def predict(self, x):\n",
    "        return self.value\n",
    "\n",
    "    # Utility function to draw a tree visually using graphviz.\n",
    "    def draw_tree(self, graph, node_counter, names):\n",
    "        node_id = str(node_counter)\n",
    "        val_str = f'{self.value:.4g}' if isinstance(self.value, float) else str(self.value)\n",
    "        graph.node(node_id, val_str, style='filled')\n",
    "        return node_counter+1, node_id\n",
    "        \n",
    "    def __eq__(self, other):\n",
    "        if isinstance(other, DecisionTreeLeaf):\n",
    "            return self.value == other.value\n",
    "        else:\n",
    "            return False\n",
    "        \n",
    "    def to_str(self, indent, lines, names):\n",
    "        val_str = f'{self.value:.4g}' if isinstance(self.value, float) else str(self.value)\n",
    "        lines.append(' '*indent + val_str)"
   ]
  },
  {
   "cell_type": "code",
   "execution_count": 83,
   "id": "53a56283-812e-4056-b120-6e9ce82d9c48",
   "metadata": {
    "tags": []
   },
   "outputs": [],
   "source": [
    "class DecisionTreeBranch:\n",
    "\n",
    "    def __init__(self, feature, threshold, low_subtree, high_subtree):\n",
    "        self.feature = feature\n",
    "        self.threshold = threshold\n",
    "        self.low_subtree = low_subtree\n",
    "        self.high_subtree = high_subtree\n",
    "\n",
    "    # For a branch node, we compute the prediction by first considering the feature, and then \n",
    "    # calling the upper or lower subtree, depending on whether the feature is or isn't greater\n",
    "    # than the threshold.\n",
    "    def predict(self, x):\n",
    "        if x[self.feature] <= self.threshold:\n",
    "            return self.low_subtree.predict(x)\n",
    "        else:\n",
    "            return self.high_subtree.predict(x)\n",
    "\n",
    "    # Utility function to draw a tree visually using graphviz.\n",
    "    def draw_tree(self, graph, node_counter, names):\n",
    "        node_counter, low_id = self.low_subtree.draw_tree(graph, node_counter, names)\n",
    "        node_counter, high_id = self.high_subtree.draw_tree(graph, node_counter, names)\n",
    "        node_id = str(node_counter)\n",
    "        fname = f'F{self.feature}' if names is None else names[self.feature]\n",
    "        lbl = f'{fname} > {self.threshold:.4g}?'\n",
    "        graph.node(node_id, lbl, shape='box', fillcolor='yellow', style='filled, rounded')\n",
    "        graph.edge(node_id, low_id, 'False')\n",
    "        graph.edge(node_id, high_id, 'True')\n",
    "        return node_counter+1, node_id\n",
    "        \n",
    "    def to_str(self, indent, lines, names):\n",
    "        pad = ' '*indent\n",
    "        fname = f'F{self.feature}' if names is None else names[self.feature]\n",
    "        lines.append(pad + f'{fname} <= {self.threshold:.3g}?')\n",
    "        lines.append(pad + '  True =>')\n",
    "        self.low_subtree.to_str(indent+4, lines, names)\n",
    "        lines.append(pad + '  False =>')\n",
    "        self.high_subtree.to_str(indent+4, lines, names)\n",
    "        "
   ]
  },
  {
   "cell_type": "code",
   "execution_count": 84,
   "id": "19a09060-243c-40f1-bb27-4507e0620db1",
   "metadata": {
    "tags": []
   },
   "outputs": [],
   "source": [
    "from graphviz import Digraph\n",
    "from sklearn.base import BaseEstimator, ClassifierMixin\n",
    "from abc import ABC, abstractmethod\n",
    "\n",
    "class DecisionTree(ABC, BaseEstimator):\n",
    "\n",
    "    def __init__(self, max_depth):\n",
    "        super().__init__()\n",
    "        self.max_depth = max_depth\n",
    "        \n",
    "    # As usual in scikit-learn, the training method is called *fit*. We first process the dataset so that\n",
    "    # we're sure that it's represented as a NumPy matrix. Then we call the recursive tree-building method\n",
    "    # called make_tree (see below).\n",
    "    def fit(self, X, Y):\n",
    "        if isinstance(X, pd.DataFrame):\n",
    "            self.names = X.columns\n",
    "            X = X.to_numpy()\n",
    "        elif isinstance(X, list):\n",
    "            self.names = None\n",
    "            X = np.array(X)\n",
    "        else:\n",
    "            self.names = None\n",
    "        Y = np.array(Y)        \n",
    "        self.root = self.make_tree(X, Y, self.max_depth)\n",
    "        \n",
    "    def draw_tree(self):\n",
    "        graph = Digraph()\n",
    "        self.root.draw_tree(graph, 0, self.names)\n",
    "        return graph\n",
    "    \n",
    "    # By scikit-learn convention, the method *predict* computes the classification or regression output\n",
    "    # for a set of instances.\n",
    "    # To implement it, we call a separate method that carries out the prediction for one instance.\n",
    "    def predict(self, X):\n",
    "        if isinstance(X, pd.DataFrame):\n",
    "            X = X.to_numpy()\n",
    "        return [self.predict_one(x) for x in X]\n",
    "\n",
    "    # Predicting the output for one instance.\n",
    "    def predict_one(self, x):\n",
    "        return self.root.predict(x)        \n",
    "\n",
    "    # This is the recursive training \n",
    "    #is used for regression trees as well\n",
    "    def make_tree(self, X, Y, max_depth):\n",
    "\n",
    "        # We start by computing the default value that will be used if we'll return a leaf node.\n",
    "        # For classifiers, this will be the most common value in Y.\n",
    "        default_value = self.get_default_value(Y)\n",
    "        #regression the mean value is returned\n",
    "        \n",
    "        # First the two base cases in the recursion: is the training set completely\n",
    "        # homogeneous, or have we reached the maximum depth? Then we need to return a leaf.\n",
    "\n",
    "        # If we have reached the maximum depth, return a leaf with the majority value.\n",
    "        if max_depth == 0:\n",
    "            return DecisionTreeLeaf(default_value)\n",
    "\n",
    "        # If all the instances in the remaining training set have the same output value,\n",
    "        # return a leaf with this value.\n",
    "        if self.is_homogeneous(Y):\n",
    "            return DecisionTreeLeaf(default_value)\n",
    "\n",
    "        # Select the \"most useful\" feature and split threshold. To rank the \"usefulness\" of features,\n",
    "        # we use one of the classification or regression criteria.\n",
    "        # For each feature, we call best_split (defined in a subclass). We then maximize over the features.\n",
    "        n_features = X.shape[1]\n",
    "        \n",
    "        _, best_feature, best_threshold = \\\n",
    "            max(self.best_split(X, Y, feature) \n",
    "                for feature in range(n_features))\n",
    "        \n",
    "        if best_feature is None:\n",
    "            return DecisionTreeLeaf(default_value)\n",
    "\n",
    "        # Split the training set into subgroups, based on whether the selected feature is greater than\n",
    "        # the threshold or not\n",
    "        X_low, X_high, Y_low, Y_high = \\\n",
    "            self.split_by_feature(X, Y, best_feature, best_threshold)\n",
    "\n",
    "        # Build the subtrees using a recursive call. Each subtree is associated\n",
    "        # with a value of the feature.\n",
    "        low_subtree = self.make_tree(X_low, Y_low, max_depth-1)\n",
    "        high_subtree = self.make_tree(X_high, Y_high, max_depth-1)\n",
    "\n",
    "        if low_subtree == high_subtree:\n",
    "            return low_subtree\n",
    "\n",
    "        # Return a decision tree branch containing the result.\n",
    "        return DecisionTreeBranch(best_feature, best_threshold, low_subtree, high_subtree)\n",
    "    \n",
    "    # Utility method that splits the data into the \"upper\" and \"lower\" part, based on a feature\n",
    "    # and a threshold.\n",
    "    def split_by_feature(self, X, Y, feature, threshold):\n",
    "        low = X[:,feature] <= threshold\n",
    "        high = ~low\n",
    "        return X[low], X[high], Y[low], Y[high]\n",
    "    \n",
    "    def __str__(self):\n",
    "        lines = []\n",
    "        self.root.to_str(0, lines, self.names)\n",
    "        return '\\n'.join(lines)\n",
    "    \n",
    "    # The following three methods need to be implemented by the classification and regression subclasses.\n",
    "    \n",
    "    @abstractmethod\n",
    "    def get_default_value(self, Y):\n",
    "        pass\n",
    "\n",
    "    @abstractmethod\n",
    "    def is_homogeneous(self, Y):\n",
    "        pass\n",
    "\n",
    "    @abstractmethod\n",
    "    def best_split(self, X, Y, feature):\n",
    "        pass"
   ]
  },
  {
   "cell_type": "code",
   "execution_count": 85,
   "id": "a26307b4-0a53-4771-afcb-0aa2c02815b3",
   "metadata": {
    "tags": []
   },
   "outputs": [],
   "source": [
    "from collections import Counter\n",
    "\n",
    "class TreeClassifier(DecisionTree, ClassifierMixin):\n",
    "\n",
    "    def __init__(self, max_depth=10, criterion='maj_sum'):\n",
    "        super().__init__(max_depth)\n",
    "        self.criterion = criterion\n",
    "        \n",
    "    def fit(self, X, Y):\n",
    "        # For decision tree classifiers, there are some different ways to measure\n",
    "        # the homogeneity of subsets.\n",
    "        if self.criterion == 'maj_sum':\n",
    "            self.criterion_function = majority_sum_scorer\n",
    "        elif self.criterion == 'info_gain':\n",
    "            self.criterion_function = info_gain_scorer\n",
    "        elif self.criterion == 'gini':\n",
    "            self.criterion_function = gini_scorer\n",
    "        else:\n",
    "            raise Exception(f'Unknown criterion: {self.criterion}')\n",
    "        super().fit(X, Y)\n",
    "        self.classes_ = sorted(set(Y))\n",
    "\n",
    "    # Select a default value that is going to be used if we decide to make a leaf.\n",
    "    # We will select the most common value.\n",
    "    def get_default_value(self, Y):\n",
    "        self.class_distribution = Counter(Y)\n",
    "        return self.class_distribution.most_common(1)[0][0]\n",
    "    \n",
    "    # Checks whether a set of output values is homogeneous. In the classification case, \n",
    "    # this means that all output values are identical.\n",
    "    # We assume that we called get_default_value just before, so that we can access\n",
    "    # the class_distribution attribute. If the class distribution contains just one item,\n",
    "    # this means that the set is homogeneous.\n",
    "    def is_homogeneous(self, Y):\n",
    "        return len(self.class_distribution) == 1\n",
    "        \n",
    "    # Finds the best splitting point for a given feature. We'll keep frequency tables (Counters)\n",
    "    # for the upper and lower parts, and then compute the impurity criterion using these tables.\n",
    "    # In the end, we return a triple consisting of\n",
    "    # - the best score we found, according to the criterion we're using\n",
    "    # - the id of the feature\n",
    "    # - the threshold for the best split\n",
    "    def best_split(self, X, Y, feature):\n",
    "\n",
    "        # Create a list of input-output pairs, where we have sorted\n",
    "        # in ascending order by the input feature we're considering.\n",
    "        sorted_indices = np.argsort(X[:, feature])        \n",
    "        X_sorted = list(X[sorted_indices, feature])\n",
    "        Y_sorted = list(Y[sorted_indices])\n",
    "\n",
    "        n = len(Y)\n",
    "\n",
    "        # The frequency tables corresponding to the parts *before and including*\n",
    "        # and *after* the current element.\n",
    "        low_distr = Counter()\n",
    "        high_distr = Counter(Y)\n",
    "\n",
    "        # Keep track of the best result we've seen so far.\n",
    "        max_score = -np.inf\n",
    "        max_i = None\n",
    "\n",
    "        # Go through all the positions (excluding the last position).\n",
    "        for i in range(0, n-1):\n",
    "\n",
    "            # Input and output at the current position.\n",
    "            x_i = X_sorted[i]\n",
    "            y_i = Y_sorted[i]\n",
    "            \n",
    "            # Update the frequency tables.\n",
    "            low_distr[y_i] += 1\n",
    "            high_distr[y_i] -= 1\n",
    "\n",
    "            # If the input is equal to the input at the next position, we will\n",
    "            # not consider a split here.\n",
    "            #x_next = XY[i+1][0]\n",
    "            x_next = X_sorted[i+1]\n",
    "            if x_i == x_next:\n",
    "                continue\n",
    "\n",
    "            # Compute the homogeneity criterion for a split at this position.\n",
    "            score = self.criterion_function(i+1, low_distr, n-i-1, high_distr)\n",
    "\n",
    "            # If this is the best split, remember it.\n",
    "            if score > max_score:\n",
    "                max_score = score\n",
    "                max_i = i\n",
    "\n",
    "        # If we didn't find any split (meaning that all inputs are identical), return\n",
    "        # a dummy value.\n",
    "        if max_i is None:\n",
    "            return -np.inf, None, None\n",
    "\n",
    "        # Otherwise, return the best split we found and its score.\n",
    "        split_point = 0.5*(X_sorted[max_i] + X_sorted[max_i+1])\n",
    "        return max_score, feature, split_point\n"
   ]
  },
  {
   "cell_type": "code",
   "execution_count": 86,
   "id": "f818ce41-5d57-4c84-b65b-5d326c01e6a9",
   "metadata": {
    "tags": []
   },
   "outputs": [],
   "source": [
    "def majority_sum_scorer(n_low, low_distr, n_high, high_distr):\n",
    "    maj_sum_low = low_distr.most_common(1)[0][1]\n",
    "    maj_sum_high = high_distr.most_common(1)[0][1]\n",
    "    return maj_sum_low + maj_sum_high\n",
    "    \n",
    "def entropy(distr):\n",
    "    n = sum(distr.values())\n",
    "    ps = [n_i/n for n_i in distr.values()]\n",
    "    return -sum(p*np.log2(p) if p > 0 else 0 for p in ps)\n",
    "\n",
    "def info_gain_scorer(n_low, low_distr, n_high, high_distr):\n",
    "    return -(n_low*entropy(low_distr)+n_high*entropy(high_distr))/(n_low+n_high)\n",
    "\n",
    "def gini_impurity(distr):\n",
    "    n = sum(distr.values())\n",
    "    ps = [n_i/n for n_i in distr.values()]\n",
    "    return 1-sum(p**2 for p in ps)\n",
    "    \n",
    "def gini_scorer(n_low, low_distr, n_high, high_distr):\n",
    "    return -(n_low*gini_impurity(low_distr)+n_high*gini_impurity(high_distr))/(n_low+n_high)"
   ]
  },
  {
   "cell_type": "markdown",
   "id": "4d95e59f-33f0-4bfb-96ed-4f09dbce38e7",
   "metadata": {},
   "source": [
    "Check MSE as a function of depth to see which depth gives the best MSE"
   ]
  },
  {
   "cell_type": "code",
   "execution_count": 87,
   "id": "e02ec020-e053-49f0-99a9-cd1f9d14eba7",
   "metadata": {
    "tags": []
   },
   "outputs": [
    {
     "name": "stdout",
     "output_type": "stream",
     "text": [
      "0.7 1\n",
      "0.9555555555555555 2\n",
      "0.9555555555555555 3\n",
      "0.9555555555555555 4\n",
      "0.9555555555555555 5\n",
      "0.9555555555555555 6\n",
      "0.9555555555555555 7\n",
      "0.9555555555555555 8\n",
      "0.9555555555555555 9\n",
      "0.9555555555555555 10\n"
     ]
    },
    {
     "data": {
      "image/png": "[encoded data removed]",
      "text/plain": [
       "<Figure size 640x480 with 1 Axes>"
      ]
     },
     "metadata": {},
     "output_type": "display_data"
    }
   ],
   "source": [
    "max_depths = range(1, 11) \n",
    "\n",
    "depths = []\n",
    "cv_accuracies = []\n",
    "test_accuracies = []\n",
    "\n",
    "#loop through the different max_depths\n",
    "for depth in max_depths:\n",
    "\n",
    "    cls = TreeClassifier(max_depth=depth)\n",
    "    cls.fit(Xtrain, Ytrain)\n",
    "\n",
    "    cv_score = np.mean(cross_val_score(cls, Xtrain, Ytrain, cv=5))\n",
    "\n",
    "    depths.append(depth)\n",
    "    cv_accuracies.append(cv_score)\n",
    "    print(cv_score, depth)\n",
    "\n",
    "# Plot the results\n",
    "plt.plot(depths, cv_accuracies, label='Mean Cross-Validation Accuracy', marker='o')\n",
    "plt.title('Training cross validation vs. Max Depth')\n",
    "plt.xlabel('Max Depth')\n",
    "plt.ylabel('Accuracy')\n",
    "plt.legend()\n",
    "plt.show()"
   ]
  },
  {
   "cell_type": "markdown",
   "id": "257ab527-5cc0-420a-adce-bb1e7fb12234",
   "metadata": {},
   "source": [
    "Draw the final tree with 2 depth since the graph above reported that the best depth is 2. If we did 3 as depth we would probably overfit.\n",
    "    "
   ]
  },
  {
   "cell_type": "code",
   "execution_count": 88,
   "id": "596a92d8-b43c-4fc3-a529-bba35a626925",
   "metadata": {
    "tags": []
   },
   "outputs": [],
   "source": [
    "cls = TreeClassifier(max_depth=2)\n",
    "cls.fit(Xtrain, Ytrain)\n",
    "#cls.draw_tree()"
   ]
  },
  {
   "cell_type": "code",
   "execution_count": 89,
   "id": "0f08335d-a9e3-41bf-88a8-53f1e289e948",
   "metadata": {
    "tags": []
   },
   "outputs": [
    {
     "name": "stdout",
     "output_type": "stream",
     "text": [
      "['virginica', 'virginica', 'virginica', 'setosa', 'versicolor', 'setosa', 'virginica', 'virginica', 'virginica', 'versicolor', 'setosa', 'virginica', 'setosa', 'virginica', 'versicolor', 'virginica', 'setosa', 'virginica', 'versicolor', 'versicolor', 'virginica', 'versicolor', 'versicolor', 'versicolor', 'virginica', 'setosa', 'setosa', 'setosa', 'setosa', 'setosa', 'virginica', 'virginica', 'versicolor', 'versicolor', 'virginica', 'virginica', 'setosa', 'virginica', 'setosa', 'virginica', 'versicolor', 'setosa', 'versicolor', 'setosa', 'virginica', 'versicolor', 'virginica', 'setosa', 'versicolor', 'versicolor', 'setosa', 'versicolor', 'versicolor', 'virginica', 'setosa', 'virginica', 'setosa', 'virginica', 'versicolor', 'versicolor']\n"
     ]
    }
   ],
   "source": [
    "predictions=cls.predict(Xtest)\n",
    "print(predictions)"
   ]
  },
  {
   "cell_type": "markdown",
   "id": "44942a86-02ad-451b-87ef-c5af9af43aef",
   "metadata": {},
   "source": [
    "Final evaluation accuracy check for a tree with depth 2 on Test set"
   ]
  },
  {
   "cell_type": "code",
   "execution_count": 90,
   "id": "7de83e75-565d-40f6-9a70-d83a1146c265",
   "metadata": {
    "tags": []
   },
   "outputs": [
    {
     "data": {
      "text/plain": [
       "0.9"
      ]
     },
     "execution_count": 90,
     "metadata": {},
     "output_type": "execute_result"
    }
   ],
   "source": [
    "accuracy_score(Ytest, predictions)"
   ]
  },
  {
   "cell_type": "markdown",
   "id": "c66192a0-f553-4102-ab03-390db6b83adb",
   "metadata": {},
   "source": [
    "Task 3: A regression example: predicting apartment prices"
   ]
  },
  {
   "cell_type": "code",
   "execution_count": 91,
   "id": "f2502440-7685-4ed2-972c-deb402e9e8af",
   "metadata": {
    "tags": []
   },
   "outputs": [],
   "source": [
    "# Read the CSV file using Pandas.\n",
    "alldata = pd.read_csv(\"sberbank.csv\")\n",
    "\n",
    "# Convert the timestamp string to an integer representing the year.\n",
    "def get_year(timestamp):\n",
    "    return int(timestamp[:4])\n",
    "alldata['year'] = alldata.timestamp.apply(get_year)\n",
    "\n",
    "# Select the 7 input columns and the output column.\n",
    "selected_columns = ['price_doc', 'year', 'full_sq', 'life_sq', 'floor', 'num_room', 'kitch_sq', 'full_all']\n",
    "alldata = alldata[selected_columns]\n",
    "alldata = alldata.dropna()\n",
    "\n",
    "# Shuffle.\n",
    "alldata_shuffled = alldata.sample(frac=1.0, random_state=0)\n",
    "\n",
    "# Separate the input and output columns.\n",
    "X = alldata_shuffled.drop('price_doc', axis=1)\n",
    "# For the output, we'll use the log of the sales price.\n",
    "Y = alldata_shuffled['price_doc'].apply(np.log)\n",
    "\n",
    "# Split into training and test sets.\n",
    "Xtrain, Xtest, Ytrain, Ytest = train_test_split(X, Y, test_size=0.2, random_state=0)"
   ]
  },
  {
   "cell_type": "code",
   "execution_count": 92,
   "id": "721eb036-9fe7-4845-9d30-a37441a562ff",
   "metadata": {
    "tags": []
   },
   "outputs": [
    {
     "data": {
      "text/plain": [
       "{'fit_time': array([0.00217533, 0.00133681, 0.00150943, 0.00159287, 0.00232077]),\n",
       " 'score_time': array([0.00103688, 0.00070143, 0.00079608, 0.00095153, 0.00103545]),\n",
       " 'test_score': array([-0.39897319, -0.37113485, -0.38083108, -0.39057156, -0.40475168])}"
      ]
     },
     "execution_count": 92,
     "metadata": {},
     "output_type": "execute_result"
    }
   ],
   "source": [
    "m1 = DummyRegressor()\n",
    "cross_validate(m1, Xtrain, Ytrain, scoring='neg_mean_squared_error')"
   ]
  },
  {
   "cell_type": "code",
   "execution_count": 93,
   "id": "567be448-7a6c-408c-a862-fe0b094ba08a",
   "metadata": {
    "tags": []
   },
   "outputs": [
    {
     "data": {
      "text/html": [
       "<style>#sk-container-id-6 {color: black;}#sk-container-id-6 pre{padding: 0;}#sk-container-id-6 div.sk-toggleable {background-color: white;}#sk-container-id-6 label.sk-toggleable__label {cursor: pointer;display: block;width: 100%;margin-bottom: 0;padding: 0.3em;box-sizing: border-box;text-align: center;}#sk-container-id-6 label.sk-toggleable__label-arrow:before {content: \"▸\";float: left;margin-right: 0.25em;color: #696969;}#sk-container-id-6 label.sk-toggleable__label-arrow:hover:before {color: black;}#sk-container-id-6 div.sk-estimator:hover label.sk-toggleable__label-arrow:before {color: black;}#sk-container-id-6 div.sk-toggleable__content {max-height: 0;max-width: 0;overflow: hidden;text-align: left;background-color: #f0f8ff;}#sk-container-id-6 div.sk-toggleable__content pre {margin: 0.2em;color: black;border-radius: 0.25em;background-color: #f0f8ff;}#sk-container-id-6 input.sk-toggleable__control:checked~div.sk-toggleable__content {max-height: 200px;max-width: 100%;overflow: auto;}#sk-container-id-6 input.sk-toggleable__control:checked~label.sk-toggleable__label-arrow:before {content: \"▾\";}#sk-container-id-6 div.sk-estimator input.sk-toggleable__control:checked~label.sk-toggleable__label {background-color: #d4ebff;}#sk-container-id-6 div.sk-label input.sk-toggleable__control:checked~label.sk-toggleable__label {background-color: #d4ebff;}#sk-container-id-6 input.sk-hidden--visually {border: 0;clip: rect(1px 1px 1px 1px);clip: rect(1px, 1px, 1px, 1px);height: 1px;margin: -1px;overflow: hidden;padding: 0;position: absolute;width: 1px;}#sk-container-id-6 div.sk-estimator {font-family: monospace;background-color: #f0f8ff;border: 1px dotted black;border-radius: 0.25em;box-sizing: border-box;margin-bottom: 0.5em;}#sk-container-id-6 div.sk-estimator:hover {background-color: #d4ebff;}#sk-container-id-6 div.sk-parallel-item::after {content: \"\";width: 100%;border-bottom: 1px solid gray;flex-grow: 1;}#sk-container-id-6 div.sk-label:hover label.sk-toggleable__label {background-color: #d4ebff;}#sk-container-id-6 div.sk-serial::before {content: \"\";position: absolute;border-left: 1px solid gray;box-sizing: border-box;top: 0;bottom: 0;left: 50%;z-index: 0;}#sk-container-id-6 div.sk-serial {display: flex;flex-direction: column;align-items: center;background-color: white;padding-right: 0.2em;padding-left: 0.2em;position: relative;}#sk-container-id-6 div.sk-item {position: relative;z-index: 1;}#sk-container-id-6 div.sk-parallel {display: flex;align-items: stretch;justify-content: center;background-color: white;position: relative;}#sk-container-id-6 div.sk-item::before, #sk-container-id-6 div.sk-parallel-item::before {content: \"\";position: absolute;border-left: 1px solid gray;box-sizing: border-box;top: 0;bottom: 0;left: 50%;z-index: -1;}#sk-container-id-6 div.sk-parallel-item {display: flex;flex-direction: column;z-index: 1;position: relative;background-color: white;}#sk-container-id-6 div.sk-parallel-item:first-child::after {align-self: flex-end;width: 50%;}#sk-container-id-6 div.sk-parallel-item:last-child::after {align-self: flex-start;width: 50%;}#sk-container-id-6 div.sk-parallel-item:only-child::after {width: 0;}#sk-container-id-6 div.sk-dashed-wrapped {border: 1px dashed gray;margin: 0 0.4em 0.5em 0.4em;box-sizing: border-box;padding-bottom: 0.4em;background-color: white;}#sk-container-id-6 div.sk-label label {font-family: monospace;font-weight: bold;display: inline-block;line-height: 1.2em;}#sk-container-id-6 div.sk-label-container {text-align: center;}#sk-container-id-6 div.sk-container {/* jupyter's `normalize.less` sets `[hidden] { display: none; }` but bootstrap.min.css set `[hidden] { display: none !important; }` so we also need the `!important` here to be able to override the default hidden behavior on the sphinx rendered scikit-learn.org. See: https://github.com/scikit-learn/scikit-learn/issues/21755 */display: inline-block !important;position: relative;}#sk-container-id-6 div.sk-text-repr-fallback {display: none;}</style><div id=\"sk-container-id-6\" class=\"sk-top-container\"><div class=\"sk-text-repr-fallback\"><pre>RandomForestRegressor(max_depth=10, random_state=0)</pre><b>In a Jupyter environment, please rerun this cell to show the HTML representation or trust the notebook. <br />On GitHub, the HTML representation is unable to render, please try loading this page with nbviewer.org.</b></div><div class=\"sk-container\" hidden><div class=\"sk-item\"><div class=\"sk-estimator sk-toggleable\"><input class=\"sk-toggleable__control sk-hidden--visually\" id=\"sk-estimator-id-10\" type=\"checkbox\" checked><label for=\"sk-estimator-id-10\" class=\"sk-toggleable__label sk-toggleable__label-arrow\">RandomForestRegressor</label><div class=\"sk-toggleable__content\"><pre>RandomForestRegressor(max_depth=10, random_state=0)</pre></div></div></div></div></div>"
      ],
      "text/plain": [
       "RandomForestRegressor(max_depth=10, random_state=0)"
      ]
     },
     "execution_count": 93,
     "metadata": {},
     "output_type": "execute_result"
    }
   ],
   "source": [
    "randomforest = RandomForestRegressor(max_depth=10, random_state=0)\n",
    "randomforest.fit(Xtrain, Ytrain)"
   ]
  },
  {
   "cell_type": "code",
   "execution_count": 94,
   "id": "a33293a2-a40e-4df5-b877-716df169fa36",
   "metadata": {
    "tags": []
   },
   "outputs": [
    {
     "data": {
      "text/plain": [
       "{'fit_time': array([2.05226731, 2.0273335 , 2.05585861, 2.10945511, 2.0411787 ]),\n",
       " 'score_time': array([0.03830481, 0.03791022, 0.03738856, 0.03933644, 0.03794098]),\n",
       " 'test_score': array([-0.27916833, -0.25042886, -0.26385433, -0.27309293, -0.26307047])}"
      ]
     },
     "execution_count": 94,
     "metadata": {},
     "output_type": "execute_result"
    }
   ],
   "source": [
    "cross_validate(randomforest, Xtrain, Ytrain, scoring='neg_mean_squared_error')"
   ]
  },
  {
   "cell_type": "code",
   "execution_count": 96,
   "id": "100fc953-7955-4308-b964-cbcfcac85801",
   "metadata": {
    "tags": []
   },
   "outputs": [
    {
     "data": {
      "image/png": "[encoded data removed]",
      "text/plain": [
       "<Figure size 640x480 with 1 Axes>"
      ]
     },
     "metadata": {},
     "output_type": "display_data"
    }
   ],
   "source": [
    "max_depths = range(1, 21)\n",
    "\n",
    "depths = []\n",
    "cv_mse = []\n",
    "\n",
    "#different depths on the training data\n",
    "for depth in max_depths:\n",
    "    \n",
    "    regressor = RandomForestRegressor(max_depth=depth, random_state=0, n_estimators=100, n_jobs=-1)\n",
    "    \n",
    "    #mean of MSE of each depth \n",
    "    cv_mse_score = -np.mean(cross_val_score(regressor, Xtrain, Ytrain, cv=5, scoring='neg_mean_squared_error'))\n",
    "    \n",
    "    depths.append(depth)\n",
    "    cv_mse.append(cv_mse_score)\n",
    "    #print(f\"Max Depth: {depth}, Cross-Validation MSE: {cv_mse_score}\")\n",
    "\n",
    "plt.plot(depths, cv_mse, label='Mean Cross-Validation MSE', marker='o')\n",
    "plt.title('MSE vs. Max Depth')\n",
    "plt.xlabel('Max Depth')\n",
    "plt.ylabel('MSE')\n",
    "plt.xticks(depths)\n",
    "plt.legend()\n",
    "plt.show()"
   ]
  },
  {
   "cell_type": "markdown",
   "id": "f4344bfb-4bff-49d2-b624-9421f9d62ed8",
   "metadata": {},
   "source": [
    "We plot the Max depth of the random forst on MSE on the traning set. This graph gives us the MSE based on the Max Depth. This in turn is used to traing a final model which is then evaluated on the test set."
   ]
  },
  {
   "cell_type": "code",
   "execution_count": 99,
   "id": "2ef9e3f6-4ce0-4889-a627-87a74dd2a4cb",
   "metadata": {
    "tags": []
   },
   "outputs": [],
   "source": [
    "regressor_final = RandomForestRegressor(max_depth=10, random_state=0, n_estimators=100,\n",
    "                                        n_jobs = -1)"
   ]
  },
  {
   "cell_type": "code",
   "execution_count": 100,
   "id": "343a80ee-b1cc-4f19-8ca9-d735732a3235",
   "metadata": {
    "tags": []
   },
   "outputs": [
    {
     "data": {
      "text/plain": [
       "0.2740850405500036"
      ]
     },
     "execution_count": 100,
     "metadata": {},
     "output_type": "execute_result"
    }
   ],
   "source": [
    "from sklearn.metrics import mean_squared_error\n",
    "  \n",
    "regressor_final.fit(Xtrain, Ytrain)\n",
    "mean_squared_error(Ytest, regressor_final.predict(Xtest))"
   ]
  },
  {
   "cell_type": "markdown",
   "id": "b1ce4f4c-0f37-4d68-8f69-0936569b0f46",
   "metadata": {},
   "source": [
    "We used the a random forest regressor model which that fits many decision tree regressors to get a better overall prediction.<br>\n",
    "For this model the mean squared error is a good evaluation score where this model only has a mean squared error of approximately 0.27. As given by the above graph, we trained the model with Max Depth = 10."
   ]
  },
  {
   "cell_type": "markdown",
   "id": "284c134d-ac53-469c-b4e1-ec5224dda421",
   "metadata": {},
   "source": [
    "TASK 4: Decision trees for regression"
   ]
  },
  {
   "cell_type": "code",
   "execution_count": 36,
   "id": "e44232fb-7089-4894-bec9-7d60ed7682e3",
   "metadata": {
    "tags": []
   },
   "outputs": [],
   "source": [
    "from collections import Counter\n",
    "from sklearn.base import RegressorMixin\n",
    "\n",
    "class TreeRegressor(DecisionTree, RegressorMixin):\n",
    "\n",
    "    #define a threshold since that is a parameter within regressor tree\n",
    "    def __init__(self, max_depth=10, threshold=1e-5):\n",
    "        super().__init__(max_depth)\n",
    "        self.threshold = threshold\n",
    "        \n",
    "    def fit(self, X, Y):\n",
    "        super().fit(X, Y)\n",
    "        self.classes_ = sorted(set(Y))\n",
    "\n",
    "\n",
    "    #return mean bc of continous data\n",
    "    def get_default_value(self, Y):\n",
    "        return np.mean(Y)\n",
    "    \n",
    "\n",
    "    def is_homogeneous(self, Y):\n",
    "        return np.var(Y) < self.threshold\n",
    "        \n",
    " \n",
    "    def best_split(self, X, Y, feature):\n",
    "        # Create a list of input-output pairs, where we have sorted\n",
    "        # in ascending order by the input feature we're considering.\n",
    "        sorted_indices = np.argsort(X[:, feature])\n",
    "        X_sorted = X[sorted_indices, feature]\n",
    "        Y_sorted = Y[sorted_indices]\n",
    "\n",
    "        n = len(Y)\n",
    "\n",
    "        #overall variance\n",
    "        overall_var = np.var(Y)\n",
    "\n",
    "        #Initialize variables to keep track of sum and sum \n",
    "        #of squares for lower and upper partitions\n",
    "        sum_lower = 0\n",
    "        sum_squares_lower = 0\n",
    "        sum_upper = np.sum(Y)\n",
    "        sum_squares_upper = np.sum(Y**2)\n",
    "\n",
    "        #init variables\n",
    "        max_score = -np.inf\n",
    "        max_i = None\n",
    "\n",
    "        #check all positions\n",
    "        for i in range(0, n - 1):\n",
    "            \n",
    "            x_i = X_sorted[i]\n",
    "            y_i = Y_sorted[i]\n",
    "\n",
    "            #update sums and sum square lower and upper\n",
    "            sum_lower += y_i\n",
    "            sum_squares_lower += y_i**2\n",
    "            sum_upper -= y_i\n",
    "            sum_squares_upper -= y_i**2\n",
    "\n",
    "            #if the input is equal to the input \n",
    "            #at the next position, we will not consider a split here.\n",
    "            x_next = X_sorted[i + 1]\n",
    "            if x_i == x_next:\n",
    "                continue\n",
    "\n",
    "            #formula\n",
    "            var_reduction = overall_var - ((i + 1) / n) * (sum_squares_lower - (sum_lower**2) / (i + 1)) \\\n",
    "                            - ((n - i - 1) / n) * (sum_squares_upper - (sum_upper**2) / (n - i - 1))\n",
    "\n",
    "            # If this is the best split, remember it.\n",
    "            if var_reduction > max_score:\n",
    "                max_score = var_reduction\n",
    "                max_i = i\n",
    "\n",
    "        # If we didn't find any split (meaning that all inputs are identical), return a dummy value.\n",
    "        if max_i is None:\n",
    "            return -np.inf, None, None\n",
    "\n",
    "        # Otherwise, return the best split we found and its score.\n",
    "        split_point = 0.5 * (X_sorted[max_i] + X_sorted[max_i + 1])\n",
    "        return max_score, feature, split_point"
   ]
  },
  {
   "cell_type": "markdown",
   "id": "3e8133c2-78cc-43c1-a5ba-3f6df224c23a",
   "metadata": {
    "tags": []
   },
   "source": [
    "Sanity check"
   ]
  },
  {
   "cell_type": "code",
   "execution_count": 37,
   "id": "8a6cf733-b9de-40de-8a4a-f6f3605cf234",
   "metadata": {
    "tags": []
   },
   "outputs": [],
   "source": [
    "def make_some_data(n):\n",
    "    x = np.random.uniform(-5, 5, size=n)\n",
    "    Y = (x > 1) + 0.1*np.random.normal(size=n)\n",
    "    X = x.reshape(n, 1) # X needs to be a 2-dimensional matrix\n",
    "    return X, Y"
   ]
  },
  {
   "cell_type": "code",
   "execution_count": 38,
   "id": "c0dedaa5-bc1f-4a23-a1e3-c2d387eca03f",
   "metadata": {
    "tags": []
   },
   "outputs": [
    {
     "name": "stdout",
     "output_type": "stream",
     "text": [
      "Mean Squared Error on the test set: 0.007711453614317203\n"
     ]
    },
    {
     "data": {
      "image/png": "[encoded data removed]",
      "text/plain": [
       "<Figure size 1000x600 with 1 Axes>"
      ]
     },
     "metadata": {},
     "output_type": "display_data"
    }
   ],
   "source": [
    "from sklearn.model_selection import train_test_split\n",
    "from sklearn.metrics import mean_squared_error\n",
    "import matplotlib.pyplot as plt\n",
    "\n",
    "# Generate some data\n",
    "np.random.seed(0)\n",
    "n_samples = 1000\n",
    "X, Y = make_some_data(n_samples)\n",
    "\n",
    "# Split the data into train and test sets\n",
    "X_train, X_test, Y_train, Y_test = train_test_split(X, Y, test_size=0.2, random_state=42)\n",
    "\n",
    "# Create an instance of your TreeRegressor\n",
    "tree_regressor = TreeRegressor(max_depth=1)\n",
    "\n",
    "# Fit the model on the training data\n",
    "tree_regressor.fit(X_train, Y_train)\n",
    "\n",
    "# Make predictions on the test set\n",
    "Y_pred = tree_regressor.predict(X_test)\n",
    "\n",
    "# Calculate and print the Mean Squared Error (MSE) on the test set\n",
    "mse = mean_squared_error(Y_test, Y_pred)\n",
    "print(f'Mean Squared Error on the test set: {mse}')\n",
    "Y_pred = np.array(Y_pred)\n",
    "# Sort the indices for plotting\n",
    "sort_idx = np.argsort(X_test.flatten())\n",
    "X_test_sorted = X_test[sort_idx]\n",
    "Y_pred_sorted = Y_pred[sort_idx]\n",
    "\n",
    "\n",
    "# Plot the results\n",
    "plt.figure(figsize=(10, 6))\n",
    "plt.scatter(X, Y, s=20, c=\"orange\", label=\"data\")\n",
    "plt.step(X_test_sorted, Y_pred_sorted, where='mid', color=\"steelblue\", lw=2, label=\"Predicted values (Regressor Tree)\")\n",
    "plt.xlabel(\"Feature\")\n",
    "plt.ylabel(\"Target\")\n",
    "plt.title(\"Decision Tree Regressor\")\n",
    "plt.legend()\n",
    "plt.show()"
   ]
  },
  {
   "cell_type": "markdown",
   "id": "681fd4e0-8a27-4cc9-9b8e-f7d41cd48079",
   "metadata": {},
   "source": [
    "A depth of one made the most sense since there are two distinct patches of data points. In other words 1 decision and two leaves. If we allow the tree to have a large number our model will overfit then which means our model fits well for the training data but not for unseen data.\n",
    "\n",
    "Below we print the tree, but we will upload it seperately to canvas since we had issues exporting the whole notebook to PDF.\n",
    "We dont really know why the tree graph made such error but please observe our two tree graphs in seperate PDFs"
   ]
  },
  {
   "cell_type": "code",
   "execution_count": 39,
   "id": "07b94862-4d88-4d50-943f-c50b3d7fe369",
   "metadata": {},
   "outputs": [
    {
     "data": {
      "text/plain": [
       "'tree_regressor.pdf'"
      ]
     },
     "execution_count": 39,
     "metadata": {},
     "output_type": "execute_result"
    }
   ],
   "source": [
    "from graphviz import Source\n",
    "#tree_regressor.draw_tree()\n",
    "\n",
    "tree_regressor = tree_regressor.draw_tree()\n",
    "\n",
    "# Save the tree as a PDF\n",
    "tree_regressor.render('tree_regressor', format='pdf', cleanup=True)"
   ]
  },
  {
   "cell_type": "code",
   "execution_count": 40,
   "id": "271488ee-1a8f-463c-a9fe-667094823c4d",
   "metadata": {
    "tags": []
   },
   "outputs": [],
   "source": [
    "# Read the CSV file using Pandas.\n",
    "alldata = pd.read_csv(\"sberbank.csv\")\n",
    "\n",
    "# Convert the timestamp string to an integer representing the year.\n",
    "def get_year(timestamp):\n",
    "    return int(timestamp[:4])\n",
    "alldata['year'] = alldata.timestamp.apply(get_year)\n",
    "\n",
    "# Select the 7 input columns and the output column.\n",
    "selected_columns = ['price_doc', 'year', 'full_sq', 'life_sq', 'floor', 'num_room', 'kitch_sq', 'full_all']\n",
    "alldata = alldata[selected_columns]\n",
    "alldata = alldata.dropna()\n",
    "\n",
    "# Shuffle.\n",
    "alldata_shuffled = alldata.sample(frac=1.0, random_state=0)\n",
    "\n",
    "# Separate the input and output columns.\n",
    "X = alldata_shuffled.drop('price_doc', axis=1)\n",
    "# For the output, we'll use the log of the sales price.\n",
    "Y = alldata_shuffled['price_doc'].apply(np.log)\n",
    "\n",
    "# Split into training and test sets.\n",
    "Xtrain, Xtest, Ytrain, Ytest = train_test_split(X, Y, test_size=0.2, random_state=0)"
   ]
  },
  {
   "cell_type": "code",
   "execution_count": 41,
   "id": "04a0021e-8800-4970-abda-038767570635",
   "metadata": {},
   "outputs": [
    {
     "data": {
      "image/png": "[encoded data removed]",
      "text/plain": [
       "<Figure size 640x480 with 1 Axes>"
      ]
     },
     "metadata": {},
     "output_type": "display_data"
    }
   ],
   "source": [
    "max_depths = range(1, 12)\n",
    "\n",
    "# Lists to store results\n",
    "depths = []\n",
    "training_mse = []  # Change this from cv_mse to training_mse\n",
    "test_mse = []\n",
    "\n",
    "# Loop through different max depths\n",
    "for depth in max_depths:\n",
    "    # Create and train the regressor\n",
    "    russian_regressor = TreeRegressor(max_depth=depth, threshold=0.01) \n",
    "    russian_regressor.fit(Xtrain, Ytrain)\n",
    "\n",
    "    # Training set MSE\n",
    "    predictions_train = russian_regressor.predict(Xtrain)\n",
    "    training_mse_score = mean_squared_error(Ytrain, predictions_train)\n",
    "    \n",
    "    # Predictions on the test set\n",
    "    predictions_test = russian_regressor.predict(Xtest)\n",
    "    \n",
    "    # MSE on the test set\n",
    "    test_mse_score = mean_squared_error(Ytest, predictions_test)\n",
    "\n",
    "    # Save results\n",
    "    depths.append(depth)\n",
    "    training_mse.append(training_mse_score)\n",
    "    test_mse.append(test_mse_score)\n",
    "\n",
    "# Plot the results\n",
    "plt.plot(depths, training_mse, label='Training Set MSE', marker='o')\n",
    "plt.plot(depths, test_mse, label='Test Set MSE', marker='o')\n",
    "plt.title('MSE vs. Max Depth')\n",
    "plt.xlabel('Max Depth')\n",
    "plt.ylabel('MSE')\n",
    "plt.xticks(depths)  \n",
    "plt.legend()\n",
    "plt.show()"
   ]
  },
  {
   "cell_type": "markdown",
   "id": "c51c3583-92d8-45e5-8fea-764443d92d89",
   "metadata": {},
   "source": [
    "Every point represents the mean squared error for the maximum (MSE) tree depth. The lines are close together until the tree grows to a depth of 6.<br>\n",
    "The MSE gets lower for the training set because the model \"memorizes\" the training data whereas the MSE of the unseen data gets higher due to the \"memorizing\" and not finding trends which is called overfitting."
   ]
  },
  {
   "cell_type": "markdown",
   "id": "4de4b0ba-0c92-4265-a4b9-df8542551060",
   "metadata": {},
   "source": [
    "Below we print the tree, but we will upload it seperately to canvas since we had issues exporting the whole notebook to PDF.\n",
    "We dont really know why the tree graph made such error but please observe our two tree graphs in seperate PDFs"
   ]
  },
  {
   "cell_type": "code",
   "execution_count": 42,
   "id": "6956edb0-a52a-48d5-9639-c00b56cfbdc9",
   "metadata": {},
   "outputs": [
    {
     "data": {
      "text/plain": [
       "'rus_tree.pdf'"
      ]
     },
     "execution_count": 42,
     "metadata": {},
     "output_type": "execute_result"
    }
   ],
   "source": [
    "# Drawing tree for russian apartment prices data with a depth of 4. Drawing anything bigger than 4 can't be properly drawn and 4 seems a good fit\n",
    "rus_tree = TreeRegressor(max_depth=4, threshold=0.01)\n",
    "rus_tree.fit(Xtrain, Ytrain)\n",
    "#rus_tree.draw_tree()\n",
    "\n",
    "rus_tree = rus_tree.draw_tree()\n",
    "\n",
    "# Save the tree as a PDF\n",
    "rus_tree.render('rus_tree', format='pdf', cleanup=True)"
   ]
  },
  {
   "cell_type": "code",
   "execution_count": null,
   "id": "d45d2489-ad78-4626-a9e0-7b8260e55523",
   "metadata": {},
   "outputs": [],
   "source": []
  }
 ],
 "metadata": {
  "kernelspec": {
   "display_name": "Python 3 (ipykernel)",
   "language": "python",
   "name": "python3"
  },
  "language_info": {
   "codemirror_mode": {
    "name": "ipython",
    "version": 3
   },
   "file_extension": ".py",
   "mimetype": "text/x-python",
   "name": "python",
   "nbconvert_exporter": "python",
   "pygments_lexer": "ipython3",
   "version": "3.11.4"
  }
 },
 "nbformat": 4,
 "nbformat_minor": 5
}
