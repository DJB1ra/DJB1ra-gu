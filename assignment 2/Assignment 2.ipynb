{
 "cells": [
  {
   "cell_type": "markdown",
   "id": "4d946bcd",
   "metadata": {},
   "source": [
    "<h3>Task 1: Working with a dataset with categorical features</h3>\n",
    "<h4>Step 1. Reading the data</h4>"
   ]
  },
  {
   "cell_type": "code",
   "execution_count": 19,
   "id": "11134880-2e39-4be3-99ed-e023dfbe7061",
   "metadata": {},
   "outputs": [],
   "source": [
    "import pandas as pd\n",
    "import numpy as np\n",
    "\n",
    "adult_test = pd.read_csv('adult_test.csv')\n",
    "adult_train = pd.read_csv('adult_train.csv')"
   ]
  },
  {
   "cell_type": "code",
   "execution_count": 39,
   "id": "573fa54e-6417-4c6d-b257-72734407a75d",
   "metadata": {},
   "outputs": [
    {
     "data": {
      "text/html": [
       "<div>\n",
       "<style scoped>\n",
       "    .dataframe tbody tr th:only-of-type {\n",
       "        vertical-align: middle;\n",
       "    }\n",
       "\n",
       "    .dataframe tbody tr th {\n",
       "        vertical-align: top;\n",
       "    }\n",
       "\n",
       "    .dataframe thead th {\n",
       "        text-align: right;\n",
       "    }\n",
       "</style>\n",
       "<table border=\"1\" class=\"dataframe\">\n",
       "  <thead>\n",
       "    <tr style=\"text-align: right;\">\n",
       "      <th></th>\n",
       "      <th>age</th>\n",
       "      <th>workclass</th>\n",
       "      <th>education</th>\n",
       "      <th>education-num</th>\n",
       "      <th>marital-status</th>\n",
       "      <th>occupation</th>\n",
       "      <th>relationship</th>\n",
       "      <th>race</th>\n",
       "      <th>sex</th>\n",
       "      <th>capital-gain</th>\n",
       "      <th>capital-loss</th>\n",
       "      <th>hours-per-week</th>\n",
       "      <th>native-country</th>\n",
       "      <th>target</th>\n",
       "    </tr>\n",
       "  </thead>\n",
       "  <tbody>\n",
       "    <tr>\n",
       "      <th>0</th>\n",
       "      <td>27</td>\n",
       "      <td>Private</td>\n",
       "      <td>Some-college</td>\n",
       "      <td>10</td>\n",
       "      <td>Divorced</td>\n",
       "      <td>Adm-clerical</td>\n",
       "      <td>Unmarried</td>\n",
       "      <td>White</td>\n",
       "      <td>Female</td>\n",
       "      <td>0</td>\n",
       "      <td>0</td>\n",
       "      <td>44</td>\n",
       "      <td>United-States</td>\n",
       "      <td>&lt;=50K</td>\n",
       "    </tr>\n",
       "    <tr>\n",
       "      <th>1</th>\n",
       "      <td>27</td>\n",
       "      <td>Private</td>\n",
       "      <td>Bachelors</td>\n",
       "      <td>13</td>\n",
       "      <td>Never-married</td>\n",
       "      <td>Prof-specialty</td>\n",
       "      <td>Not-in-family</td>\n",
       "      <td>White</td>\n",
       "      <td>Female</td>\n",
       "      <td>0</td>\n",
       "      <td>0</td>\n",
       "      <td>40</td>\n",
       "      <td>United-States</td>\n",
       "      <td>&lt;=50K</td>\n",
       "    </tr>\n",
       "    <tr>\n",
       "      <th>2</th>\n",
       "      <td>25</td>\n",
       "      <td>Private</td>\n",
       "      <td>Assoc-acdm</td>\n",
       "      <td>12</td>\n",
       "      <td>Married-civ-spouse</td>\n",
       "      <td>Sales</td>\n",
       "      <td>Husband</td>\n",
       "      <td>White</td>\n",
       "      <td>Male</td>\n",
       "      <td>0</td>\n",
       "      <td>0</td>\n",
       "      <td>40</td>\n",
       "      <td>United-States</td>\n",
       "      <td>&lt;=50K</td>\n",
       "    </tr>\n",
       "    <tr>\n",
       "      <th>3</th>\n",
       "      <td>46</td>\n",
       "      <td>Private</td>\n",
       "      <td>5th-6th</td>\n",
       "      <td>3</td>\n",
       "      <td>Married-civ-spouse</td>\n",
       "      <td>Transport-moving</td>\n",
       "      <td>Husband</td>\n",
       "      <td>Amer-Indian-Eskimo</td>\n",
       "      <td>Male</td>\n",
       "      <td>0</td>\n",
       "      <td>1902</td>\n",
       "      <td>40</td>\n",
       "      <td>United-States</td>\n",
       "      <td>&lt;=50K</td>\n",
       "    </tr>\n",
       "    <tr>\n",
       "      <th>4</th>\n",
       "      <td>45</td>\n",
       "      <td>Private</td>\n",
       "      <td>11th</td>\n",
       "      <td>7</td>\n",
       "      <td>Divorced</td>\n",
       "      <td>Transport-moving</td>\n",
       "      <td>Not-in-family</td>\n",
       "      <td>White</td>\n",
       "      <td>Male</td>\n",
       "      <td>0</td>\n",
       "      <td>2824</td>\n",
       "      <td>76</td>\n",
       "      <td>United-States</td>\n",
       "      <td>&gt;50K</td>\n",
       "    </tr>\n",
       "  </tbody>\n",
       "</table>\n",
       "</div>"
      ],
      "text/plain": [
       "   age workclass     education  education-num      marital-status  \\\n",
       "0   27   Private  Some-college             10            Divorced   \n",
       "1   27   Private     Bachelors             13       Never-married   \n",
       "2   25   Private    Assoc-acdm             12  Married-civ-spouse   \n",
       "3   46   Private       5th-6th              3  Married-civ-spouse   \n",
       "4   45   Private          11th              7            Divorced   \n",
       "\n",
       "         occupation   relationship                race     sex  capital-gain  \\\n",
       "0      Adm-clerical      Unmarried               White  Female             0   \n",
       "1    Prof-specialty  Not-in-family               White  Female             0   \n",
       "2             Sales        Husband               White    Male             0   \n",
       "3  Transport-moving        Husband  Amer-Indian-Eskimo    Male             0   \n",
       "4  Transport-moving  Not-in-family               White    Male             0   \n",
       "\n",
       "   capital-loss  hours-per-week native-country target  \n",
       "0             0              44  United-States  <=50K  \n",
       "1             0              40  United-States  <=50K  \n",
       "2             0              40  United-States  <=50K  \n",
       "3          1902              40  United-States  <=50K  \n",
       "4          2824              76  United-States   >50K  "
      ]
     },
     "execution_count": 39,
     "metadata": {},
     "output_type": "execute_result"
    }
   ],
   "source": [
    "#checking out data\n",
    "adult_train.head()"
   ]
  },
  {
   "cell_type": "code",
   "execution_count": 21,
   "id": "841f21b1-65b2-4ab4-9bbe-3540961e86ee",
   "metadata": {},
   "outputs": [],
   "source": [
    "# splitting labels and data training and test set\n",
    "Y_train = adult_train['target']\n",
    "X_train = adult_train.drop('target', axis=1)\n",
    "Y_test = adult_test['target']\n",
    "X_test = adult_test.drop('target', axis=1)"
   ]
  },
  {
   "cell_type": "markdown",
   "id": "26285d51-5f6f-4a81-a741-cf93786e5924",
   "metadata": {},
   "source": [
    "<h4>Step 2: Encoding the features as numbers.</h4>\n",
    "DictVectorizer needs data as a dictionary and not dataframe therefore convert dataframe to dict"
   ]
  },
  {
   "cell_type": "code",
   "execution_count": 23,
   "id": "cb7bcd4c-1424-472b-b5dd-033cfa1bbd19",
   "metadata": {},
   "outputs": [],
   "source": [
    "X_train_dict = X_train.to_dict(orient='records')\n",
    "X_test_dict = X_test.to_dict(orient='records')"
   ]
  },
  {
   "cell_type": "code",
   "execution_count": 24,
   "id": "ff9cf77a-09a2-4f65-bcca-8f5f7021149d",
   "metadata": {},
   "outputs": [],
   "source": [
    "from sklearn.feature_extraction import DictVectorizer\n",
    "\n",
    "# Initialize and transform data\n",
    "vec = DictVectorizer()\n",
    "X_train_dv = vec.fit_transform(X_train_dict)\n",
    "X_test_dv = vec.transform(X_test_dict)"
   ]
  },
  {
   "cell_type": "code",
   "execution_count": 26,
   "id": "21c0a0d8-e37b-4390-b5f1-b4fa82d1cd89",
   "metadata": {},
   "outputs": [
    {
     "data": {
      "text/plain": [
       "0.8543964188425266"
      ]
     },
     "execution_count": 26,
     "metadata": {},
     "output_type": "execute_result"
    }
   ],
   "source": [
    "from sklearn.tree import DecisionTreeClassifier\n",
    "from sklearn.model_selection import cross_val_score\n",
    "\n",
    "# initialize and check out cross validation score\n",
    "# depth of 6 is arbitrary; just to check if it works\n",
    "dtc = DecisionTreeClassifier(random_state=0, max_depth=6)\n",
    "\n",
    "np.average(cross_val_score(dtc, X_train_dv, Y_train))"
   ]
  },
  {
   "cell_type": "markdown",
   "id": "36587d53",
   "metadata": {},
   "source": [
    "<h4>Step 3. Combining the steps.</h4>"
   ]
  },
  {
   "cell_type": "code",
   "execution_count": 32,
   "id": "71d31bde",
   "metadata": {},
   "outputs": [
    {
     "name": "stdout",
     "output_type": "stream",
     "text": [
      "Accuracy: 0.8575026104047663\n"
     ]
    }
   ],
   "source": [
    "from sklearn.pipeline import make_pipeline\n",
    "from sklearn.metrics import accuracy_score\n",
    "\n",
    "# create pipeline\n",
    "pipeline = make_pipeline(\n",
    "  DictVectorizer(),\n",
    "  DecisionTreeClassifier(random_state=0, max_depth=6)\n",
    ")\n",
    "\n",
    "# fit data and predict \n",
    "pipeline.fit(X_train_dict, Y_train)\n",
    "y_predict = pipeline.predict(X_test_dict)\n",
    "\n",
    "accuracy = accuracy_score(Y_test, y_predict)\n",
    "print(f\"Accuracy: {accuracy}\")"
   ]
  },
  {
   "cell_type": "markdown",
   "id": "235c6599",
   "metadata": {},
   "source": [
    "<h3>Task 2: Decision trees and random forests</h3>"
   ]
  },
  {
   "cell_type": "markdown",
   "id": "c1df6479",
   "metadata": {},
   "source": [
    "<h4>Underfitting and overfitting in decision tree classifiers.</h4>"
   ]
  },
  {
   "cell_type": "code",
   "execution_count": 38,
   "id": "e25d851d",
   "metadata": {},
   "outputs": [
    {
     "data": {
      "image/png": "[encoded data removed]",
      "text/plain": [
       "<Figure size 640x480 with 1 Axes>"
      ]
     },
     "metadata": {},
     "output_type": "display_data"
    }
   ],
   "source": [
    "# DecisionTreeClassifier\n",
    "\n",
    "import matplotlib.pyplot as plt\n",
    "\n",
    "acc_train = []\n",
    "acc_test = []\n",
    "depth = []\n",
    "\n",
    "\n",
    "for i in range(1,11):\n",
    "    # create pipeline\n",
    "    pipeline = make_pipeline(\n",
    "    DictVectorizer(),\n",
    "    DecisionTreeClassifier(random_state=0, max_depth=i)\n",
    "    )\n",
    "    \n",
    "    # fitting data and predicting train and test data\n",
    "    pipeline.fit(X_train_dict, Y_train)\n",
    "    y_predict_train = pipeline.predict(X_train_dict)\n",
    "    y_predict_test = pipeline.predict(X_test_dict)\n",
    "\n",
    "    acc_train.append(accuracy_score(Y_train, y_predict_train))\n",
    "    acc_test.append(accuracy_score(Y_test, y_predict_test))\n",
    "    depth.append(i)\n",
    "\n",
    "# Plot the results\n",
    "plt.plot(depth, acc_train, label='Accuracy train set', marker='o')\n",
    "plt.plot(depth, acc_test, label='Accuracy test set', marker='o')\n",
    "plt.title('Accuracy training vs. test data DecisionTreeClassifier')\n",
    "plt.xlabel('Depth')\n",
    "plt.ylabel('Accuracy')\n",
    "plt.xticks(depth)  \n",
    "plt.legend()\n",
    "plt.show()"
   ]
  },
  {
   "cell_type": "markdown",
   "id": "00fbbacd",
   "metadata": {},
   "source": [
    "In this plot is the same effect as in assignment 1 task 4 step 4 where we used the mean squared error. The training and test set have the same accuracy until one point where the algorithm starts to overfit. This happens after a depth of 6."
   ]
  },
  {
   "cell_type": "markdown",
   "id": "a9ac4efc",
   "metadata": {},
   "source": [
    "<h4>Underfitting and overfitting in random forest classifiers</h4>"
   ]
  },
  {
   "cell_type": "code",
   "execution_count": 49,
   "id": "aeb81a6a",
   "metadata": {},
   "outputs": [
    {
     "data": {
      "image/png": "[encoded data removed]",
      "text/plain": [
       "<Figure size 640x480 with 1 Axes>"
      ]
     },
     "metadata": {},
     "output_type": "display_data"
    }
   ],
   "source": [
    "# RandomForestClassifier\n",
    "# NOTE: plots of different n_estimators will be provided in the report\n",
    "\n",
    "import matplotlib.pyplot as plt\n",
    "from sklearn.ensemble import RandomForestClassifier\n",
    "\n",
    "acc_train = []\n",
    "acc_test = []\n",
    "depth = []\n",
    "\n",
    "for i in range(1, 11):\n",
    "    # create pipeline\n",
    "    pipeline = make_pipeline(\n",
    "    DictVectorizer(),\n",
    "    RandomForestClassifier(random_state=0, max_depth=i, n_estimators=1000, n_jobs=-1)\n",
    "    )\n",
    "    \n",
    "    # fitting data and predicting train and test data\n",
    "    pipeline.fit(X_train_dict, Y_train)\n",
    "    y_predict_train = pipeline.predict(X_train_dict)\n",
    "    y_predict_test = pipeline.predict(X_test_dict)\n",
    "\n",
    "    acc_train.append(accuracy_score(Y_train, y_predict_train))\n",
    "    acc_test.append(accuracy_score(Y_test, y_predict_test))\n",
    "    depth.append(i)\n",
    "\n",
    "# Plot the results\n",
    "plt.plot(depth, acc_train, label='Accuracy train set', marker='o')\n",
    "plt.plot(depth, acc_test, label='Accuracy test set', marker='o')\n",
    "plt.title('Accuracy training vs. test data RandomForestClassifier')\n",
    "plt.xlabel('Depth')\n",
    "plt.ylabel('Accuracy')\n",
    "plt.xticks(depth)  \n",
    "plt.legend()\n",
    "plt.show()"
   ]
  },
  {
   "cell_type": "markdown",
   "id": "0bde0e56",
   "metadata": {},
   "source": [
    "\n",
    "What's the difference between the curve for a decision tree and for a random forest with an ensemble size of 1, and why do we see this difference?\n",
    "\n",
    "-> IDK\n",
    "\n",
    "What happens with the curve for random forests as the ensemble size grows?\n",
    "\n",
    "-> It looks more like the decision tree\n",
    "\n",
    "\n",
    "What happens with the best observed test set accuracy as the ensemble size grows?\n",
    "\n",
    "-> IDK\n",
    "\n",
    "What happens with the training time as the ensemble size grows? \n",
    "\n",
    "-> probably increases; Did not test it"
   ]
  },
  {
   "cell_type": "markdown",
   "id": "c24a92a4",
   "metadata": {},
   "source": [
    "<h3>Task 3: Feature importances in random forest classifiers</h3>"
   ]
  },
  {
   "cell_type": "code",
   "execution_count": 57,
   "id": "056de56c",
   "metadata": {},
   "outputs": [],
   "source": [
    "from sklearn.pipeline import make_pipeline\n",
    "\n",
    "# create pipeline\n",
    "pipeline = make_pipeline(\n",
    "  DictVectorizer(),\n",
    "  RandomForestClassifier(random_state=0, max_depth=6, n_estimators=100)\n",
    ")\n",
    "\n",
    "# fit data and predict \n",
    "pipeline.fit(X_train_dict, Y_train)\n",
    "y_predict = pipeline.predict(X_test_dict)\n",
    "\n",
    "fn,fi = pipeline.steps[0][1].feature_names_, pipeline.steps[1][1].feature_importances_"
   ]
  },
  {
   "cell_type": "code",
   "execution_count": 63,
   "id": "831193d4",
   "metadata": {},
   "outputs": [
    {
     "data": {
      "text/html": [
       "<div>\n",
       "<style scoped>\n",
       "    .dataframe tbody tr th:only-of-type {\n",
       "        vertical-align: middle;\n",
       "    }\n",
       "\n",
       "    .dataframe tbody tr th {\n",
       "        vertical-align: top;\n",
       "    }\n",
       "\n",
       "    .dataframe thead th {\n",
       "        text-align: right;\n",
       "    }\n",
       "</style>\n",
       "<table border=\"1\" class=\"dataframe\">\n",
       "  <thead>\n",
       "    <tr style=\"text-align: right;\">\n",
       "      <th></th>\n",
       "      <th>feautre names</th>\n",
       "      <th>feature importance</th>\n",
       "    </tr>\n",
       "  </thead>\n",
       "  <tbody>\n",
       "    <tr>\n",
       "      <th>90</th>\n",
       "      <td>relationship=Husband</td>\n",
       "      <td>0.145626</td>\n",
       "    </tr>\n",
       "    <tr>\n",
       "      <th>23</th>\n",
       "      <td>marital-status=Married-civ-spouse</td>\n",
       "      <td>0.145469</td>\n",
       "    </tr>\n",
       "    <tr>\n",
       "      <th>1</th>\n",
       "      <td>capital-gain</td>\n",
       "      <td>0.130702</td>\n",
       "    </tr>\n",
       "    <tr>\n",
       "      <th>3</th>\n",
       "      <td>education-num</td>\n",
       "      <td>0.114497</td>\n",
       "    </tr>\n",
       "    <tr>\n",
       "      <th>25</th>\n",
       "      <td>marital-status=Never-married</td>\n",
       "      <td>0.076151</td>\n",
       "    </tr>\n",
       "    <tr>\n",
       "      <th>0</th>\n",
       "      <td>age</td>\n",
       "      <td>0.043343</td>\n",
       "    </tr>\n",
       "    <tr>\n",
       "      <th>20</th>\n",
       "      <td>hours-per-week</td>\n",
       "      <td>0.035507</td>\n",
       "    </tr>\n",
       "    <tr>\n",
       "      <th>74</th>\n",
       "      <td>occupation=Exec-managerial</td>\n",
       "      <td>0.029894</td>\n",
       "    </tr>\n",
       "    <tr>\n",
       "      <th>93</th>\n",
       "      <td>relationship=Own-child</td>\n",
       "      <td>0.029770</td>\n",
       "    </tr>\n",
       "    <tr>\n",
       "      <th>2</th>\n",
       "      <td>capital-loss</td>\n",
       "      <td>0.029236</td>\n",
       "    </tr>\n",
       "  </tbody>\n",
       "</table>\n",
       "</div>"
      ],
      "text/plain": [
       "                        feautre names  feature importance\n",
       "90               relationship=Husband            0.145626\n",
       "23  marital-status=Married-civ-spouse            0.145469\n",
       "1                        capital-gain            0.130702\n",
       "3                       education-num            0.114497\n",
       "25       marital-status=Never-married            0.076151\n",
       "0                                 age            0.043343\n",
       "20                     hours-per-week            0.035507\n",
       "74         occupation=Exec-managerial            0.029894\n",
       "93             relationship=Own-child            0.029770\n",
       "2                        capital-loss            0.029236"
      ]
     },
     "execution_count": 63,
     "metadata": {},
     "output_type": "execute_result"
    }
   ],
   "source": [
    "score_df = pd.DataFrame({'feautre names': fn, 'feature importance': fi})\n",
    "score_df = score_df.sort_values(by='feature importance', ascending=False)\n",
    "score_df.head(10)"
   ]
  },
  {
   "cell_type": "markdown",
   "id": "5907031b",
   "metadata": {},
   "source": [
    "I can not make a lot of sense why married people are more likely to earn more than 50k$. My best guess would be that they are already older and established which means they had more time to climb the career ladder.<br>\n",
    "Education makes a lot of sense. Many higher paying jobs require higher education and less paying jobs mostly do not require too much of an education. <br>\n",
    "Lastly capital gain hmmmmmmmmmmmmmmmmmmmmmmm...."
   ]
  },
  {
   "cell_type": "markdown",
   "id": "73b9bde0",
   "metadata": {},
   "source": [
    "TODOOOOOOOOOO: alternative way of computing the some sort of importance score"
   ]
  },
  {
   "cell_type": "markdown",
   "id": "50e877ec",
   "metadata": {},
   "source": []
  }
 ],
 "metadata": {
  "kernelspec": {
   "display_name": "Python 3 (ipykernel)",
   "language": "python",
   "name": "python3"
  },
  "language_info": {
   "codemirror_mode": {
    "name": "ipython",
    "version": 3
   },
   "file_extension": ".py",
   "mimetype": "text/x-python",
   "name": "python",
   "nbconvert_exporter": "python",
   "pygments_lexer": "ipython3",
   "version": "3.12.1"
  }
 },
 "nbformat": 4,
 "nbformat_minor": 5
}
