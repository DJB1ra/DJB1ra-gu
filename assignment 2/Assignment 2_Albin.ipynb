{
 "cells": [
  {
   "cell_type": "markdown",
   "id": "6d878770-3420-42ba-a183-d56e398f0c1a",
   "metadata": {
    "tags": []
   },
   "source": [
    "<h2> AUTHORS: Albin Larsson & Alex Wolf"
   ]
  },
  {
   "cell_type": "code",
   "execution_count": 1,
   "id": "2f2fec7c-f219-47f1-8e4a-3d28b4010b62",
   "metadata": {
    "tags": []
   },
   "outputs": [],
   "source": [
    "import pandas as pd\n",
    "import numpy as np\n",
    "from sklearn.model_selection import train_test_split, cross_val_score\n",
    "from sklearn.feature_extraction import DictVectorizer"
   ]
  },
  {
   "cell_type": "markdown",
   "id": "b8166a61-a4b8-408b-bb14-e739b9b02086",
   "metadata": {},
   "source": [
    "<H2>Task 1: Working with a dataset with categorical features"
   ]
  },
  {
   "cell_type": "markdown",
   "id": "d2a6a107-6381-4985-a201-95b9a854b532",
   "metadata": {},
   "source": [
    "<h3>Step 1. Reading the data"
   ]
  },
  {
   "cell_type": "code",
   "execution_count": 2,
   "id": "6918ae3e-79d2-4ded-8b63-50e8bc96c8a2",
   "metadata": {
    "tags": []
   },
   "outputs": [],
   "source": [
    "train_data = pd.read_csv('adult_train.csv')\n",
    "test_data = pd.read_csv('adult_test.csv')\n",
    "\n",
    "# Split the data into input (X) and output (Y)\n",
    "X_train = train_data.drop('target', axis=1)  # Assuming 'target' is the column you want to predict\n",
    "Y_train = train_data['target']\n",
    "X_test = test_data.drop('target', axis=1)\n",
    "Y_test = test_data['target']"
   ]
  },
  {
   "cell_type": "markdown",
   "id": "1fbd0a67-b692-4f75-a438-ac32113704f5",
   "metadata": {},
   "source": [
    "<h3>Step 2: Encoding the features as numbers."
   ]
  },
  {
   "cell_type": "code",
   "execution_count": 3,
   "id": "fd0d4b5a-1422-4d20-a5ad-b1bab1c944ad",
   "metadata": {
    "tags": []
   },
   "outputs": [
    {
     "data": {
      "text/html": [
       "<div>\n",
       "<style scoped>\n",
       "    .dataframe tbody tr th:only-of-type {\n",
       "        vertical-align: middle;\n",
       "    }\n",
       "\n",
       "    .dataframe tbody tr th {\n",
       "        vertical-align: top;\n",
       "    }\n",
       "\n",
       "    .dataframe thead th {\n",
       "        text-align: right;\n",
       "    }\n",
       "</style>\n",
       "<table border=\"1\" class=\"dataframe\">\n",
       "  <thead>\n",
       "    <tr style=\"text-align: right;\">\n",
       "      <th></th>\n",
       "      <th>age</th>\n",
       "      <th>workclass</th>\n",
       "      <th>education</th>\n",
       "      <th>education-num</th>\n",
       "      <th>marital-status</th>\n",
       "      <th>occupation</th>\n",
       "      <th>relationship</th>\n",
       "      <th>race</th>\n",
       "      <th>sex</th>\n",
       "      <th>capital-gain</th>\n",
       "      <th>capital-loss</th>\n",
       "      <th>hours-per-week</th>\n",
       "      <th>native-country</th>\n",
       "    </tr>\n",
       "  </thead>\n",
       "  <tbody>\n",
       "    <tr>\n",
       "      <th>0</th>\n",
       "      <td>27</td>\n",
       "      <td>Private</td>\n",
       "      <td>Some-college</td>\n",
       "      <td>10</td>\n",
       "      <td>Divorced</td>\n",
       "      <td>Adm-clerical</td>\n",
       "      <td>Unmarried</td>\n",
       "      <td>White</td>\n",
       "      <td>Female</td>\n",
       "      <td>0</td>\n",
       "      <td>0</td>\n",
       "      <td>44</td>\n",
       "      <td>United-States</td>\n",
       "    </tr>\n",
       "    <tr>\n",
       "      <th>1</th>\n",
       "      <td>27</td>\n",
       "      <td>Private</td>\n",
       "      <td>Bachelors</td>\n",
       "      <td>13</td>\n",
       "      <td>Never-married</td>\n",
       "      <td>Prof-specialty</td>\n",
       "      <td>Not-in-family</td>\n",
       "      <td>White</td>\n",
       "      <td>Female</td>\n",
       "      <td>0</td>\n",
       "      <td>0</td>\n",
       "      <td>40</td>\n",
       "      <td>United-States</td>\n",
       "    </tr>\n",
       "    <tr>\n",
       "      <th>2</th>\n",
       "      <td>25</td>\n",
       "      <td>Private</td>\n",
       "      <td>Assoc-acdm</td>\n",
       "      <td>12</td>\n",
       "      <td>Married-civ-spouse</td>\n",
       "      <td>Sales</td>\n",
       "      <td>Husband</td>\n",
       "      <td>White</td>\n",
       "      <td>Male</td>\n",
       "      <td>0</td>\n",
       "      <td>0</td>\n",
       "      <td>40</td>\n",
       "      <td>United-States</td>\n",
       "    </tr>\n",
       "    <tr>\n",
       "      <th>3</th>\n",
       "      <td>46</td>\n",
       "      <td>Private</td>\n",
       "      <td>5th-6th</td>\n",
       "      <td>3</td>\n",
       "      <td>Married-civ-spouse</td>\n",
       "      <td>Transport-moving</td>\n",
       "      <td>Husband</td>\n",
       "      <td>Amer-Indian-Eskimo</td>\n",
       "      <td>Male</td>\n",
       "      <td>0</td>\n",
       "      <td>1902</td>\n",
       "      <td>40</td>\n",
       "      <td>United-States</td>\n",
       "    </tr>\n",
       "    <tr>\n",
       "      <th>4</th>\n",
       "      <td>45</td>\n",
       "      <td>Private</td>\n",
       "      <td>11th</td>\n",
       "      <td>7</td>\n",
       "      <td>Divorced</td>\n",
       "      <td>Transport-moving</td>\n",
       "      <td>Not-in-family</td>\n",
       "      <td>White</td>\n",
       "      <td>Male</td>\n",
       "      <td>0</td>\n",
       "      <td>2824</td>\n",
       "      <td>76</td>\n",
       "      <td>United-States</td>\n",
       "    </tr>\n",
       "  </tbody>\n",
       "</table>\n",
       "</div>"
      ],
      "text/plain": [
       "   age workclass     education  education-num      marital-status  \\\n",
       "0   27   Private  Some-college             10            Divorced   \n",
       "1   27   Private     Bachelors             13       Never-married   \n",
       "2   25   Private    Assoc-acdm             12  Married-civ-spouse   \n",
       "3   46   Private       5th-6th              3  Married-civ-spouse   \n",
       "4   45   Private          11th              7            Divorced   \n",
       "\n",
       "         occupation   relationship                race     sex  capital-gain  \\\n",
       "0      Adm-clerical      Unmarried               White  Female             0   \n",
       "1    Prof-specialty  Not-in-family               White  Female             0   \n",
       "2             Sales        Husband               White    Male             0   \n",
       "3  Transport-moving        Husband  Amer-Indian-Eskimo    Male             0   \n",
       "4  Transport-moving  Not-in-family               White    Male             0   \n",
       "\n",
       "   capital-loss  hours-per-week native-country  \n",
       "0             0              44  United-States  \n",
       "1             0              40  United-States  \n",
       "2             0              40  United-States  \n",
       "3          1902              40  United-States  \n",
       "4          2824              76  United-States  "
      ]
     },
     "execution_count": 3,
     "metadata": {},
     "output_type": "execute_result"
    }
   ],
   "source": [
    "X_train.head()"
   ]
  },
  {
   "cell_type": "markdown",
   "id": "5e690a42-8de0-4ed0-b313-6d2fb97d6697",
   "metadata": {
    "tags": []
   },
   "source": [
    "<H2> Encoding"
   ]
  },
  {
   "cell_type": "code",
   "execution_count": 4,
   "id": "691b318c-a6eb-43dc-b15f-d5a10a8c8eb5",
   "metadata": {
    "tags": []
   },
   "outputs": [],
   "source": [
    "dicts_for_my_training_data = X_train.to_dict('records')\n",
    "dicts_for_my_test_data = X_test.to_dict('records')"
   ]
  },
  {
   "cell_type": "code",
   "execution_count": 5,
   "id": "14d773a5-7c2d-405b-883c-07bf10bb58a5",
   "metadata": {
    "tags": []
   },
   "outputs": [],
   "source": [
    "dv = DictVectorizer()\n",
    "X_train_encoded = dv.fit_transform(dicts_for_my_training_data)\n",
    "X_test_encoded = dv.transform(dicts_for_my_test_data)"
   ]
  },
  {
   "cell_type": "markdown",
   "id": "ecbde247-62a3-4332-9208-3e968a44c9f9",
   "metadata": {},
   "source": [
    "<H2> Trying with random forest if it works"
   ]
  },
  {
   "cell_type": "code",
   "execution_count": 6,
   "id": "f263b15f-0bdb-459b-8824-442b09a1fc13",
   "metadata": {
    "tags": []
   },
   "outputs": [],
   "source": [
    "from sklearn.ensemble import RandomForestClassifier"
   ]
  },
  {
   "cell_type": "code",
   "execution_count": 8,
   "id": "94188fd8-db9b-4e4f-906b-f45979d1b6cc",
   "metadata": {
    "tags": []
   },
   "outputs": [
    {
     "data": {
      "text/plain": [
       "0.8467491260155932"
      ]
     },
     "execution_count": 8,
     "metadata": {},
     "output_type": "execute_result"
    }
   ],
   "source": [
    "randomforest = RandomForestClassifier(random_state=0)\n",
    "np.average(cross_val_score(randomforest, X_train_encoded, Y_train))"
   ]
  },
  {
   "cell_type": "markdown",
   "id": "9df29ddf-4f32-4f40-8ee4-d0c2198a39d7",
   "metadata": {
    "tags": []
   },
   "source": [
    "<H3>Step 3. Combining the steps."
   ]
  },
  {
   "cell_type": "code",
   "execution_count": 9,
   "id": "b3115d45-c31b-41a9-ab2e-c3f21b68b1fa",
   "metadata": {
    "tags": []
   },
   "outputs": [],
   "source": [
    "from sklearn.pipeline import make_pipeline\n",
    "# Create a pipeline with DictVectorizer and RandomForestClassifier\n",
    "randomforest_pipeline = make_pipeline(\n",
    "    DictVectorizer(),\n",
    "    RandomForestClassifier(random_state=0)\n",
    ")"
   ]
  },
  {
   "cell_type": "code",
   "execution_count": 11,
   "id": "2b86daac-9da6-4442-aef7-2a55cd70d979",
   "metadata": {
    "tags": []
   },
   "outputs": [
    {
     "name": "stdout",
     "output_type": "stream",
     "text": [
      "Cross-validation accuracy with max_depth=1: 0.7592\n",
      "Cross-validation accuracy with max_depth=2: 0.7683\n",
      "Cross-validation accuracy with max_depth=3: 0.7924\n",
      "Cross-validation accuracy with max_depth=4: 0.8262\n",
      "Cross-validation accuracy with max_depth=5: 0.8369\n",
      "Cross-validation accuracy with max_depth=6: 0.8435\n",
      "Cross-validation accuracy with max_depth=7: 0.8483\n",
      "Cross-validation accuracy with max_depth=8: 0.8513\n",
      "Cross-validation accuracy with max_depth=9: 0.8542\n"
     ]
    }
   ],
   "source": [
    "# Define a range of max_depth values to try\n",
    "max_depths = range(1, 10)\n",
    "\n",
    "for depth_value in max_depths:\n",
    "    # Set the max_depth parameter in the RandomForestClassifier\n",
    "    randomforest_pipeline.set_params(randomforestclassifier__max_depth=depth_value)\n",
    "    \n",
    "    # Cross-validation accuracy on the training set\n",
    "    cross_val_accuracy = cross_val_score(randomforest_pipeline, dicts_for_my_training_data, Y_train, cv=5).mean()\n",
    "    print(f\"Cross-validation accuracy with max_depth={depth_value}: {cross_val_accuracy:.4f}\")"
   ]
  },
  {
   "cell_type": "markdown",
   "id": "90d74d22-e654-473b-bc0b-434b270c119e",
   "metadata": {
    "tags": []
   },
   "source": [
    "<H2>Task 2: Decision trees and random forests"
   ]
  },
  {
   "cell_type": "markdown",
   "id": "9a3351ab-9c5f-4104-901c-fe3cf99bb21c",
   "metadata": {},
   "source": [
    "<h2>Underfitting and overfitting in decision tree classifiers."
   ]
  },
  {
   "cell_type": "code",
   "execution_count": 18,
   "id": "36705f4a-1f39-45b3-9298-30dd9da57998",
   "metadata": {
    "tags": []
   },
   "outputs": [
    {
     "data": {
      "image/png": "[encoded data removed]",
      "text/plain": [
       "<Figure size 640x480 with 1 Axes>"
      ]
     },
     "metadata": {},
     "output_type": "display_data"
    }
   ],
   "source": [
    "from sklearn.tree import DecisionTreeClassifier\n",
    "import matplotlib.pyplot as plt\n",
    "from sklearn.metrics import accuracy_score\n",
    "\n",
    "# Initialize lists to store results\n",
    "depth_values = range(1, 21)  # Set the range of max_depth values to try\n",
    "train_accuracy_scores = []\n",
    "test_accuracy_scores = []\n",
    "\n",
    "decisiontree_pipeline = make_pipeline(\n",
    "    DictVectorizer(),\n",
    "    DecisionTreeClassifier(random_state=0)\n",
    ")\n",
    "\n",
    "# Loop through different max_depth values\n",
    "for max_depth in depth_values:\n",
    "    # Set the max_depth parameter in the DecisionTreeClassifier within the pipeline\n",
    "    decisiontree_pipeline.set_params(decisiontreeclassifier__max_depth=max_depth)\n",
    "    \n",
    "    # Fit the model on the training set\n",
    "    decisiontree_pipeline.fit(dicts_for_my_training_data, Y_train)\n",
    "    \n",
    "    # Predictions on the training set\n",
    "    Y_train_pred = decisiontree_pipeline.predict(dicts_for_my_training_data)\n",
    "    train_accuracy = accuracy_score(Y_train, Y_train_pred)\n",
    "    \n",
    "    # Predictions on the test set\n",
    "    Y_test_pred = decisiontree_pipeline.predict(dicts_for_my_test_data)\n",
    "    test_accuracy = accuracy_score(Y_test, Y_test_pred)\n",
    "    \n",
    "    # Store the accuracy scores\n",
    "    train_accuracy_scores.append(train_accuracy)\n",
    "    test_accuracy_scores.append(test_accuracy)\n",
    "\n",
    "# Plot the results\n",
    "plt.plot(depth_values, train_accuracy_scores, label='Training Set', marker='o')\n",
    "plt.plot(depth_values, test_accuracy_scores, label='Test Set', marker='o')\n",
    "plt.title('Decision Tree Classifier Performance vs. Max Depth')\n",
    "plt.xlabel('Max Depth')\n",
    "plt.ylabel('Accuracy')\n",
    "plt.xticks(depth_values) \n",
    "plt.legend()\n",
    "plt.show()"
   ]
  },
  {
   "cell_type": "markdown",
   "id": "4ba51ab8-1a8e-4daf-a1e2-12cb8c7e561a",
   "metadata": {},
   "source": [
    "<H3>As we did in Assignment 1 we have accuracy as a function of max depth. The plot is similar to our Task 4 and Step 4. After about 6 as max depth the Train set and Test set accuracy start to deviate. The accuracy of the training set increases since the decision tree \"remembers\" all of the data, i.e it creates a leaf for each training Y. This is a case of overfitting since it will more often predict the wrong output in the test set."
   ]
  },
  {
   "cell_type": "markdown",
   "id": "155f5aae-e178-45db-b4a9-42b5a4192cf4",
   "metadata": {
    "tags": []
   },
   "source": [
    "<H2>Underfitting and overfitting in random forest classifiers."
   ]
  },
  {
   "cell_type": "code",
   "execution_count": 26,
   "id": "b7bca529-9d6b-4247-a7c7-2f808f98ea10",
   "metadata": {
    "tags": []
   },
   "outputs": [
    {
     "data": {
      "image/png": "[encoded data removed]",
      "text/plain": [
       "<Figure size 640x480 with 1 Axes>"
      ]
     },
     "metadata": {},
     "output_type": "display_data"
    }
   ],
   "source": [
    "from sklearn.ensemble import RandomForestClassifier\n",
    "import matplotlib.pyplot as plt\n",
    "from sklearn.metrics import accuracy_score\n",
    "\n",
    "# Initialize lists to store results\n",
    "n_estimators_values = [1, 5, 10, 25, 50, 100, 150, 200]  # Set the range of n_estimators values to try\n",
    "train_accuracy_scores = []\n",
    "test_accuracy_scores = []\n",
    "\n",
    "randomforest_pipeline = make_pipeline(\n",
    "    DictVectorizer(),\n",
    "    RandomForestClassifier(random_state=0)\n",
    ")\n",
    "\n",
    "# Loop through different n_estimators values\n",
    "for n_estimators in n_estimators_values:\n",
    "    # Set the n_estimators parameter in the RandomForestClassifier within the pipeline\n",
    "    randomforest_pipeline.set_params(randomforestclassifier__n_estimators=n_estimators)\n",
    "    \n",
    "    # Fit the model on the training set\n",
    "    randomforest_pipeline.fit(dicts_for_my_training_data, Y_train)\n",
    "    \n",
    "    # Predictions on the training set\n",
    "    Y_train_pred = randomforest_pipeline.predict(dicts_for_my_training_data)\n",
    "    train_accuracy = accuracy_score(Y_train, Y_train_pred)\n",
    "    \n",
    "    # Predictions on the test set\n",
    "    Y_test_pred = randomforest_pipeline.predict(dicts_for_my_test_data)\n",
    "    test_accuracy = accuracy_score(Y_test, Y_test_pred)\n",
    "    \n",
    "    # Store the accuracy scores\n",
    "    train_accuracy_scores.append(train_accuracy)\n",
    "    test_accuracy_scores.append(test_accuracy)\n",
    "\n",
    "# Plot the results\n",
    "plt.plot(n_estimators_values, train_accuracy_scores, label='Training Set', marker='o')\n",
    "plt.plot(n_estimators_values, test_accuracy_scores, label='Test Set', marker='o')\n",
    "plt.title('Random Forest Classifier Performance vs. Number of Trees')\n",
    "plt.xlabel('Number of Trees (n_estimators)')\n",
    "plt.ylabel('Accuracy')\n",
    "plt.xticks(n_estimators_values) \n",
    "plt.legend()\n",
    "plt.show()"
   ]
  },
  {
   "cell_type": "markdown",
   "id": "9c82e162-5bf8-45af-acae-ebfd1f1a927b",
   "metadata": {},
   "source": [
    "What's the difference between the curve for a decision tree and for a random forest with an ensemble size of 1, and why do we see this difference?\n",
    "\n",
    "What happens with the curve for random forests as the ensemble size grows?\n",
    "    \n",
    "What happens with the best observed test set accuracy as the ensemble size grows?\n",
    "    \n",
    "What happens with the training time as the ensemble size grows? "
   ]
  },
  {
   "cell_type": "markdown",
   "id": "f745614c-f161-4595-8a50-9c566de85432",
   "metadata": {},
   "source": [
    "<H2>Task 3: Feature importances in random forest classifiers"
   ]
  },
  {
   "cell_type": "code",
   "execution_count": null,
   "id": "9abeea2c-6105-4fc6-b991-9b763ad34f26",
   "metadata": {},
   "outputs": [],
   "source": []
  }
 ],
 "metadata": {
  "kernelspec": {
   "display_name": "Python 3 (ipykernel)",
   "language": "python",
   "name": "python3"
  },
  "language_info": {
   "codemirror_mode": {
    "name": "ipython",
    "version": 3
   },
   "file_extension": ".py",
   "mimetype": "text/x-python",
   "name": "python",
   "nbconvert_exporter": "python",
   "pygments_lexer": "ipython3",
   "version": "3.11.4"
  }
 },
 "nbformat": 4,
 "nbformat_minor": 5
}
